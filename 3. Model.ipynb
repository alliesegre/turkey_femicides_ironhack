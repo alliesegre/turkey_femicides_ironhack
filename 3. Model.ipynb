{
 "cells": [
  {
   "cell_type": "code",
   "execution_count": 79,
   "metadata": {},
   "outputs": [],
   "source": [
    "import pandas as pd\n",
    "import numpy as np\n",
    "import warnings\n",
    "warnings.filterwarnings('ignore')\n",
    "warnings.filterwarnings(\"ignore\", message=\"numpy.ufunc size changed\")\n",
    "import matplotlib.pyplot as plt\n",
    "import seaborn as sns\n",
    "%matplotlib inline\n",
    "pd.set_option('display.max_columns', None)\n",
    "import re\n",
    "import math\n",
    "import statsmodels.api as sm\n",
    "\n",
    "from sklearn.linear_model import LinearRegression\n",
    "from sklearn.metrics import mean_squared_error, r2_score\n",
    "from sklearn.model_selection import train_test_split\n",
    "from sklearn import datasets, linear_model\n",
    "from sklearn.ensemble import RandomForestRegressor \n",
    "from sklearn.neighbors import KNeighborsRegressor\n",
    "\n",
    "from sklearn.cluster import KMeans\n",
    "from sklearn.metrics import silhouette_score\n",
    "import matplotlib.pyplot as plt\n",
    "from yellowbrick.cluster import SilhouetteVisualizer"
   ]
  },
  {
   "cell_type": "code",
   "execution_count": 80,
   "metadata": {},
   "outputs": [],
   "source": [
    "def model_predictions(x, X_train, X_test, y_train, y_test):\n",
    "    #global X_train, X_test, y_train, y_test, model, predictions\n",
    "    if x == \"linear\":\n",
    "        model =LinearRegression()    # model\n",
    "        model.fit(X_train, y_train) # model train\n",
    "        print(\"Linear:\")\n",
    "        predictions=model.predict(X_test)   # model prediction\n",
    "        r2 = r2_score(y_test, predictions)\n",
    "        print(r2)\n",
    "        rmse = mean_squared_error(y_test, predictions)**0.5\n",
    "        print(rmse)\n",
    "    elif x == \"knn\":\n",
    "        model = KNeighborsRegressor(n_neighbors = 10)\n",
    "        model.fit(X_train, y_train)\n",
    "        print(\"KNN:\")\n",
    "        predictions = model.predict(X_test)\n",
    "        r2 = r2_score(y_test, predictions)\n",
    "        print(r2)\n",
    "        rmse = mean_squared_error(y_test, predictions)**0.5\n",
    "        print(rmse)\n",
    "    elif x==\"random forest\":\n",
    "        model = RandomForestRegressor(n_estimators = 100, random_state = 0) \n",
    "        model.fit(X_train, y_train)\n",
    "        print(\"Random Forest Regressor:\")\n",
    "        predictions = model.predict(X_test)\n",
    "        r2 = r2_score(y_test, predictions)\n",
    "        print(r2)\n",
    "        rmse = mean_squared_error(y_test, predictions)**0.5\n",
    "        print(rmse)\n",
    "    else:\n",
    "        print (\"Input should be linear, random forest, or knn\")   \n",
    "    return [model, predictions]"
   ]
  },
  {
   "cell_type": "markdown",
   "metadata": {},
   "source": [
    "### Import preprocessed data"
   ]
  },
  {
   "cell_type": "code",
   "execution_count": 81,
   "metadata": {},
   "outputs": [],
   "source": [
    "data = pd.read_csv('data_reg_preprocessed.csv')"
   ]
  },
  {
   "cell_type": "code",
   "execution_count": 82,
   "metadata": {},
   "outputs": [],
   "source": [
    "data = data.drop('prov_code',axis=1)"
   ]
  },
  {
   "cell_type": "code",
   "execution_count": 83,
   "metadata": {},
   "outputs": [],
   "source": [
    "list_titles = data.columns.values"
   ]
  },
  {
   "cell_type": "markdown",
   "metadata": {},
   "source": [
    "*Assign final column as y and remaining columns as X features*"
   ]
  },
  {
   "cell_type": "code",
   "execution_count": 84,
   "metadata": {},
   "outputs": [],
   "source": [
    "y = pd.DataFrame(data[data.columns[-1]])\n",
    "X = data.drop([data.columns[-1]],axis=1)"
   ]
  },
  {
   "cell_type": "code",
   "execution_count": 85,
   "metadata": {},
   "outputs": [],
   "source": [
    "#X = X[['pol_attitude','fm_diff_educ']]\n",
    "#tried different combinations, and nothing really improve the score"
   ]
  },
  {
   "cell_type": "markdown",
   "metadata": {},
   "source": [
    "*Split into train/test data*"
   ]
  },
  {
   "cell_type": "code",
   "execution_count": 86,
   "metadata": {},
   "outputs": [],
   "source": [
    "X_train, X_test, y_train, y_test = train_test_split(X, y, test_size=0.4, random_state=100)"
   ]
  },
  {
   "cell_type": "code",
   "execution_count": 87,
   "metadata": {},
   "outputs": [
    {
     "name": "stdout",
     "output_type": "stream",
     "text": [
      "y_test:\n",
      " count_k \n",
      "0.000678    1\n",
      "0.004967    1\n",
      "0.004615    1\n",
      "0.004633    1\n",
      "0.004680    1\n",
      "           ..\n",
      "0.002870    1\n",
      "0.002922    1\n",
      "0.002923    1\n",
      "0.002941    1\n",
      "0.012481    1\n",
      "Length: 171, dtype: int64\n",
      "y_train:\n",
      " count_k \n",
      "0.000746    1\n",
      "0.000868    1\n",
      "0.004627    1\n",
      "0.004681    1\n",
      "0.004688    1\n",
      "           ..\n",
      "0.002931    1\n",
      "0.002934    1\n",
      "0.002939    1\n",
      "0.002939    1\n",
      "0.013193    1\n",
      "Length: 256, dtype: int64\n"
     ]
    }
   ],
   "source": [
    "print(\"y_test:\\n\",y_test.value_counts())\n",
    "print(\"y_train:\\n\", y_train.value_counts())"
   ]
  },
  {
   "cell_type": "markdown",
   "metadata": {},
   "source": [
    "Choose Model"
   ]
  },
  {
   "cell_type": "code",
   "execution_count": 88,
   "metadata": {},
   "outputs": [
    {
     "name": "stdout",
     "output_type": "stream",
     "text": [
      "Linear:\n",
      "0.037184226334839754\n",
      "0.0021309474016014706\n"
     ]
    }
   ],
   "source": [
    "#Logistic Regression: \"logistic\", K Nearest Neighbours: \"knn\", Decision Tree: \"decision_tree\", Random Forest: \"random_forest\"\n",
    "model_run = model_predictions('linear', X_train, X_test, y_train, y_test)"
   ]
  },
  {
   "cell_type": "code",
   "execution_count": 89,
   "metadata": {},
   "outputs": [
    {
     "name": "stdout",
     "output_type": "stream",
     "text": [
      "Feature: 0, Score: 0.00155\n",
      "Feature: 1, Score: -0.05568\n",
      "Feature: 2, Score: 0.12437\n",
      "Feature: 3, Score: 0.03267\n",
      "Feature: 4, Score: -0.03202\n",
      "Feature: 5, Score: 0.00034\n"
     ]
    },
    {
     "data": {
      "image/png": "[encoded data removed]",
      "text/plain": [
       "<Figure size 432x288 with 1 Axes>"
      ]
     },
     "metadata": {
      "needs_background": "light"
     },
     "output_type": "display_data"
    }
   ],
   "source": [
    "from sklearn.datasets import make_classification\n",
    "from matplotlib import pyplot\n",
    "# define the model\n",
    "model = LinearRegression()\n",
    "# fit the model\n",
    "model.fit(X, y)\n",
    "# get importance\n",
    "importance = model.coef_[0]\n",
    "# summarize feature importance\n",
    "for i,v in enumerate(importance):\n",
    "    print('Feature: %0d, Score: %.5f' % (i,v))\n",
    "# plot feature importance\n",
    "pyplot.bar([x for x in range(len(importance))], importance)\n",
    "pyplot.xticks(rotation='vertical')\n",
    "pyplot.show()"
   ]
  },
  {
   "cell_type": "code",
   "execution_count": 90,
   "metadata": {},
   "outputs": [
    {
     "name": "stdout",
     "output_type": "stream",
     "text": [
      "                            OLS Regression Results                            \n",
      "==============================================================================\n",
      "Dep. Variable:                count_k   R-squared:                       0.062\n",
      "Model:                            OLS   Adj. R-squared:                  0.048\n",
      "Method:                 Least Squares   F-statistic:                     4.618\n",
      "Date:                Thu, 11 Mar 2021   Prob (F-statistic):           0.000147\n",
      "Time:                        11:41:55   Log-Likelihood:                 2001.9\n",
      "No. Observations:                 427   AIC:                            -3990.\n",
      "Df Residuals:                     420   BIC:                            -3961.\n",
      "Df Model:                           6                                         \n",
      "Covariance Type:            nonrobust                                         \n",
      "====================================================================================\n",
      "                       coef    std err          t      P>|t|      [0.025      0.975]\n",
      "------------------------------------------------------------------------------------\n",
      "const                0.0041      0.000     11.204      0.000       0.003       0.005\n",
      "ethnic_kurdish       0.0016      0.001      2.747      0.006       0.000       0.003\n",
      "ln_gdppc_cons       -0.0557      0.021     -2.712      0.007      -0.096      -0.015\n",
      "divorce_rate_ma5     0.1244      0.035      3.559      0.000       0.056       0.193\n",
      "mosques_perk         0.0327      0.010      3.350      0.001       0.014       0.052\n",
      "fm_diff_educ        -0.0320      0.502     -0.064      0.949      -1.019       0.955\n",
      "pol_attitude         0.0003      0.000      2.167      0.031    3.15e-05       0.001\n",
      "==============================================================================\n",
      "Omnibus:                       73.672   Durbin-Watson:                   1.591\n",
      "Prob(Omnibus):                  0.000   Jarque-Bera (JB):              112.795\n",
      "Skew:                           1.092   Prob(JB):                     3.21e-25\n",
      "Kurtosis:                       4.252   Cond. No.                     5.34e+03\n",
      "==============================================================================\n",
      "\n",
      "Notes:\n",
      "[1] Standard Errors assume that the covariance matrix of the errors is correctly specified.\n",
      "[2] The condition number is large, 5.34e+03. This might indicate that there are\n",
      "strong multicollinearity or other numerical problems.\n"
     ]
    }
   ],
   "source": [
    "X = sm.add_constant(X)\n",
    "model = sm.OLS(y, X).fit()\n",
    "print(model.summary())"
   ]
  },
  {
   "cell_type": "markdown",
   "metadata": {},
   "source": [
    "# CLUSTERING\n",
    "Since nothing can be predicted. We will work with clustering."
   ]
  },
  {
   "cell_type": "code",
   "execution_count": 91,
   "metadata": {},
   "outputs": [
    {
     "name": "stdout",
     "output_type": "stream",
     "text": [
      "[[ 5.33923390e-02  4.82240830e-02  1.86625575e-02  1.50080022e-02\n",
      "  -8.44740690e-04  9.02329340e-01  4.73416463e-03]\n",
      " [ 1.16869376e-02  4.08264706e-02  1.35375453e-02  2.19298046e-02\n",
      "  -9.45803047e-04 -8.48248632e-01  4.41557039e-03]\n",
      " [ 8.22849034e-01  4.03010917e-02  4.48014590e-03  1.40200184e-02\n",
      "  -1.06157911e-03 -1.92379606e-02  4.30571483e-03]\n",
      " [ 6.16860956e-01  3.16650522e-02  3.66645521e-03  1.32606111e-02\n",
      "  -8.70637954e-04 -7.19652608e-01  3.82220761e-03]\n",
      " [ 1.17722363e-01  6.14977156e-02  2.27867276e-02  2.07575667e-02\n",
      "  -1.19179903e-03 -5.94723804e-01  3.58960788e-03]\n",
      " [ 4.73118303e-01  5.28933730e-02  1.92740424e-02  1.25403432e-02\n",
      "  -8.49863453e-04  5.86201884e-01  3.85277331e-03]\n",
      " [ 3.07013336e-02  4.68536705e-02  1.61420869e-02  1.81037338e-02\n",
      "  -9.96156941e-04 -9.63931650e-01  3.52067026e-03]\n",
      " [ 3.18434852e-01  5.08935253e-02  1.58396123e-02  1.21819437e-02\n",
      "  -1.05239466e-03 -9.04464765e-01  4.75860845e-03]]\n"
     ]
    }
   ],
   "source": [
    "kmeans = KMeans(n_clusters=8, random_state=1234)\n",
    "kmeans.fit(data)\n",
    "\n",
    "# print the cluster centers\n",
    "clusters_coordinates = kmeans.cluster_centers_\n",
    "\n",
    "print(clusters_coordinates )"
   ]
  },
  {
   "cell_type": "code",
   "execution_count": 92,
   "metadata": {},
   "outputs": [
    {
     "data": {
      "text/plain": [
       "Text(0, 0.5, 'inertia')"
      ]
     },
     "execution_count": 92,
     "metadata": {},
     "output_type": "execute_result"
    },
    {
     "data": {
      "image/png": "[encoded data removed]",
      "text/plain": [
       "<Figure size 432x288 with 1 Axes>"
      ]
     },
     "metadata": {
      "needs_background": "light"
     },
     "output_type": "display_data"
    }
   ],
   "source": [
    "# I want to iterate over a range of mx_iter and for every value, I want to return the inertia\n",
    "def get_kmeans_ineratia_varying_max_iter(max_iter):\n",
    "    kmeans = KMeans(n_clusters=8,\n",
    "                    random_state=1234,\n",
    "                    n_init=3,\n",
    "                    algorithm='elkan',\n",
    "                    max_iter=max_iter,\n",
    "                   )\n",
    "    kmeans.fit(data)\n",
    "\n",
    "    return kmeans.inertia_\n",
    "\n",
    "max_iter_list = [1, 5, 10, 20, 30, 40, 50, 100]\n",
    "\n",
    "plt.plot(max_iter_list,\n",
    "         [get_kmeans_ineratia_varying_max_iter(x) for x in max_iter_list],\n",
    "        )\n",
    "plt.xlabel('Max iter')\n",
    "plt.ylabel('inertia')"
   ]
  },
  {
   "cell_type": "code",
   "execution_count": 93,
   "metadata": {},
   "outputs": [
    {
     "data": {
      "text/plain": [
       "Text(0.5, 1.0, 'Elbow Method showing the optimal k within [2, 3, 4, 5, 6, 7, 8, 9, 10, 11, 12, 13, 14, 15, 16, 17, 18, 19]')"
      ]
     },
     "execution_count": 93,
     "metadata": {},
     "output_type": "execute_result"
    },
    {
     "data": {
      "image/png": "[encoded data removed]",
      "text/plain": [
       "<Figure size 1152x576 with 1 Axes>"
      ]
     },
     "metadata": {
      "needs_background": "light"
     },
     "output_type": "display_data"
    }
   ],
   "source": [
    "K = range(2,20)\n",
    "inertias = []\n",
    "\n",
    "for k in K:\n",
    "    kmeans = KMeans(n_clusters=k,\n",
    "                    random_state=1234,\n",
    "                   )\n",
    "    kmeans.fit(data)\n",
    "    inertias.append(kmeans.inertia_)\n",
    "    \n",
    "import matplotlib.pyplot as plt\n",
    "\n",
    "plt.figure(figsize=(16,8))\n",
    "plt.plot(K, inertias, 'bx-')\n",
    "plt.xlabel('k')\n",
    "plt.ylabel('inertia')\n",
    "plt.xticks(np.arange(min(K), max(K)+1, 1.0))\n",
    "plt.title(f'Elbow Method showing the optimal k within {list(K)}')"
   ]
  },
  {
   "cell_type": "code",
   "execution_count": 94,
   "metadata": {},
   "outputs": [
    {
     "data": {
      "text/plain": [
       "Text(0.5, 1.0, 'Elbow Method showing the optimal k within [2, 3, 4, 5, 6, 7, 8, 9, 10, 11, 12, 13, 14, 15, 16, 17, 18, 19]')"
      ]
     },
     "execution_count": 94,
     "metadata": {},
     "output_type": "execute_result"
    },
    {
     "data": {
      "image/png": "[encoded data removed]",
      "text/plain": [
       "<Figure size 1152x576 with 1 Axes>"
      ]
     },
     "metadata": {
      "needs_background": "light"
     },
     "output_type": "display_data"
    }
   ],
   "source": [
    "K = range(2,20)\n",
    "silhouettes = []\n",
    "\n",
    "for k in K:\n",
    "    kmeans = KMeans(n_clusters=k,\n",
    "                    random_state=1234,\n",
    "                   )\n",
    "    kmeans.fit(data)\n",
    "    silhouettes.append(silhouette_score(data,\n",
    "                                     kmeans.predict(data)\n",
    "                                    )\n",
    "                   )\n",
    "    \n",
    "\n",
    "\n",
    "plt.figure(figsize=(16,8))\n",
    "plt.plot(K, silhouettes, 'bx-')\n",
    "plt.xlabel('k')\n",
    "plt.ylabel('silhouette score')\n",
    "plt.xticks(np.arange(min(K), max(K)+1, 1.0))\n",
    "plt.title(f'Elbow Method showing the optimal k within {list(K)}')"
   ]
  },
  {
   "cell_type": "code",
   "execution_count": 95,
   "metadata": {},
   "outputs": [
    {
     "data": {
      "image/png": "[encoded data removed]",
      "text/plain": [
       "<Figure size 1080x576 with 4 Axes>"
      ]
     },
     "metadata": {
      "needs_background": "light"
     },
     "output_type": "display_data"
    }
   ],
   "source": [
    "fig, ax = plt.subplots(2, 2, figsize=(15,8))\n",
    "for k in [5,6, 7,8]:\n",
    "    km = KMeans(n_clusters=k,\n",
    "                random_state=1234)\n",
    "    q, mod = divmod(k, 2)    \n",
    "    visualizer = SilhouetteVisualizer(km, colors='yellowbrick', ax=ax[q-4][mod])\n",
    "    visualizer.fit(data)"
   ]
  },
  {
   "cell_type": "markdown",
   "metadata": {},
   "source": [
    "8 looks gr8. We will stick with that"
   ]
  },
  {
   "cell_type": "code",
   "execution_count": 96,
   "metadata": {},
   "outputs": [],
   "source": [
    "kmeans = KMeans(n_clusters=8,\n",
    "               random_state=1234)\n",
    "kmeans.fit(data)\n",
    "\n",
    "clusters = kmeans.predict(data)"
   ]
  },
  {
   "cell_type": "code",
   "execution_count": 97,
   "metadata": {},
   "outputs": [
    {
     "data": {
      "text/plain": [
       "(427,)"
      ]
     },
     "execution_count": 97,
     "metadata": {},
     "output_type": "execute_result"
    }
   ],
   "source": [
    "clusters.shape"
   ]
  },
  {
   "cell_type": "code",
   "execution_count": 98,
   "metadata": {},
   "outputs": [],
   "source": [
    "reg_clustered = pd.DataFrame(data, columns = list_titles)"
   ]
  },
  {
   "cell_type": "code",
   "execution_count": 99,
   "metadata": {},
   "outputs": [],
   "source": [
    "reg_clustered ['cluster_id'] = clusters"
   ]
  },
  {
   "cell_type": "code",
   "execution_count": 100,
   "metadata": {},
   "outputs": [
    {
     "data": {
      "text/html": [
       "<div>\n",
       "<style scoped>\n",
       "    .dataframe tbody tr th:only-of-type {\n",
       "        vertical-align: middle;\n",
       "    }\n",
       "\n",
       "    .dataframe tbody tr th {\n",
       "        vertical-align: top;\n",
       "    }\n",
       "\n",
       "    .dataframe thead th {\n",
       "        text-align: right;\n",
       "    }\n",
       "</style>\n",
       "<table border=\"1\" class=\"dataframe\">\n",
       "  <thead>\n",
       "    <tr style=\"text-align: right;\">\n",
       "      <th></th>\n",
       "      <th>ethnic_kurdish</th>\n",
       "      <th>ln_gdppc_cons</th>\n",
       "      <th>divorce_rate_ma5</th>\n",
       "      <th>mosques_perk</th>\n",
       "      <th>fm_diff_educ</th>\n",
       "      <th>pol_attitude</th>\n",
       "      <th>count_k</th>\n",
       "      <th>cluster_id</th>\n",
       "    </tr>\n",
       "  </thead>\n",
       "  <tbody>\n",
       "    <tr>\n",
       "      <th>0</th>\n",
       "      <td>0.406505</td>\n",
       "      <td>0.127318</td>\n",
       "      <td>0.044326</td>\n",
       "      <td>0.018443</td>\n",
       "      <td>-0.001912</td>\n",
       "      <td>-0.902945</td>\n",
       "      <td>0.009591</td>\n",
       "      <td>7</td>\n",
       "    </tr>\n",
       "    <tr>\n",
       "      <th>1</th>\n",
       "      <td>0.406334</td>\n",
       "      <td>0.129779</td>\n",
       "      <td>0.046557</td>\n",
       "      <td>0.018230</td>\n",
       "      <td>-0.002072</td>\n",
       "      <td>-0.902564</td>\n",
       "      <td>0.007113</td>\n",
       "      <td>7</td>\n",
       "    </tr>\n",
       "    <tr>\n",
       "      <th>2</th>\n",
       "      <td>0.406200</td>\n",
       "      <td>0.130956</td>\n",
       "      <td>0.049579</td>\n",
       "      <td>0.019466</td>\n",
       "      <td>-0.002038</td>\n",
       "      <td>-0.902268</td>\n",
       "      <td>0.004234</td>\n",
       "      <td>7</td>\n",
       "    </tr>\n",
       "    <tr>\n",
       "      <th>3</th>\n",
       "      <td>0.366494</td>\n",
       "      <td>0.119252</td>\n",
       "      <td>0.046926</td>\n",
       "      <td>0.017867</td>\n",
       "      <td>-0.001829</td>\n",
       "      <td>-0.920970</td>\n",
       "      <td>0.003257</td>\n",
       "      <td>7</td>\n",
       "    </tr>\n",
       "    <tr>\n",
       "      <th>4</th>\n",
       "      <td>0.366422</td>\n",
       "      <td>0.120006</td>\n",
       "      <td>0.049054</td>\n",
       "      <td>0.017931</td>\n",
       "      <td>-0.001840</td>\n",
       "      <td>-0.920788</td>\n",
       "      <td>0.006465</td>\n",
       "      <td>7</td>\n",
       "    </tr>\n",
       "    <tr>\n",
       "      <th>...</th>\n",
       "      <td>...</td>\n",
       "      <td>...</td>\n",
       "      <td>...</td>\n",
       "      <td>...</td>\n",
       "      <td>...</td>\n",
       "      <td>...</td>\n",
       "      <td>...</td>\n",
       "      <td>...</td>\n",
       "    </tr>\n",
       "    <tr>\n",
       "      <th>422</th>\n",
       "      <td>0.091594</td>\n",
       "      <td>0.033239</td>\n",
       "      <td>0.010654</td>\n",
       "      <td>0.013883</td>\n",
       "      <td>-0.000767</td>\n",
       "      <td>-0.798700</td>\n",
       "      <td>0.005690</td>\n",
       "      <td>1</td>\n",
       "    </tr>\n",
       "    <tr>\n",
       "      <th>423</th>\n",
       "      <td>0.091592</td>\n",
       "      <td>0.033649</td>\n",
       "      <td>0.011519</td>\n",
       "      <td>0.013787</td>\n",
       "      <td>-0.000758</td>\n",
       "      <td>-0.798682</td>\n",
       "      <td>0.005625</td>\n",
       "      <td>1</td>\n",
       "    </tr>\n",
       "    <tr>\n",
       "      <th>424</th>\n",
       "      <td>0.091589</td>\n",
       "      <td>0.034293</td>\n",
       "      <td>0.012676</td>\n",
       "      <td>0.013602</td>\n",
       "      <td>-0.000753</td>\n",
       "      <td>-0.798656</td>\n",
       "      <td>0.005550</td>\n",
       "      <td>1</td>\n",
       "    </tr>\n",
       "    <tr>\n",
       "      <th>425</th>\n",
       "      <td>0.091589</td>\n",
       "      <td>0.034107</td>\n",
       "      <td>0.013555</td>\n",
       "      <td>0.013433</td>\n",
       "      <td>-0.000703</td>\n",
       "      <td>-0.798654</td>\n",
       "      <td>0.008100</td>\n",
       "      <td>1</td>\n",
       "    </tr>\n",
       "    <tr>\n",
       "      <th>426</th>\n",
       "      <td>0.099970</td>\n",
       "      <td>0.037464</td>\n",
       "      <td>0.014572</td>\n",
       "      <td>0.014508</td>\n",
       "      <td>-0.000753</td>\n",
       "      <td>-0.754010</td>\n",
       "      <td>0.005296</td>\n",
       "      <td>1</td>\n",
       "    </tr>\n",
       "  </tbody>\n",
       "</table>\n",
       "<p>427 rows × 8 columns</p>\n",
       "</div>"
      ],
      "text/plain": [
       "     ethnic_kurdish  ln_gdppc_cons  divorce_rate_ma5  mosques_perk  \\\n",
       "0          0.406505       0.127318          0.044326      0.018443   \n",
       "1          0.406334       0.129779          0.046557      0.018230   \n",
       "2          0.406200       0.130956          0.049579      0.019466   \n",
       "3          0.366494       0.119252          0.046926      0.017867   \n",
       "4          0.366422       0.120006          0.049054      0.017931   \n",
       "..              ...            ...               ...           ...   \n",
       "422        0.091594       0.033239          0.010654      0.013883   \n",
       "423        0.091592       0.033649          0.011519      0.013787   \n",
       "424        0.091589       0.034293          0.012676      0.013602   \n",
       "425        0.091589       0.034107          0.013555      0.013433   \n",
       "426        0.099970       0.037464          0.014572      0.014508   \n",
       "\n",
       "     fm_diff_educ  pol_attitude   count_k  cluster_id  \n",
       "0       -0.001912     -0.902945  0.009591           7  \n",
       "1       -0.002072     -0.902564  0.007113           7  \n",
       "2       -0.002038     -0.902268  0.004234           7  \n",
       "3       -0.001829     -0.920970  0.003257           7  \n",
       "4       -0.001840     -0.920788  0.006465           7  \n",
       "..            ...           ...       ...         ...  \n",
       "422     -0.000767     -0.798700  0.005690           1  \n",
       "423     -0.000758     -0.798682  0.005625           1  \n",
       "424     -0.000753     -0.798656  0.005550           1  \n",
       "425     -0.000703     -0.798654  0.008100           1  \n",
       "426     -0.000753     -0.754010  0.005296           1  \n",
       "\n",
       "[427 rows x 8 columns]"
      ]
     },
     "execution_count": 100,
     "metadata": {},
     "output_type": "execute_result"
    }
   ],
   "source": [
    "reg_clustered"
   ]
  },
  {
   "cell_type": "code",
   "execution_count": 106,
   "metadata": {},
   "outputs": [
    {
     "data": {
      "text/plain": [
       "array([[ 5.33923390e-02,  4.82240830e-02,  1.86625575e-02,\n",
       "         1.50080022e-02, -8.44740690e-04,  9.02329340e-01,\n",
       "         4.73416463e-03],\n",
       "       [ 1.16869376e-02,  4.08264706e-02,  1.35375453e-02,\n",
       "         2.19298046e-02, -9.45803047e-04, -8.48248632e-01,\n",
       "         4.41557039e-03],\n",
       "       [ 8.22849034e-01,  4.03010917e-02,  4.48014590e-03,\n",
       "         1.40200184e-02, -1.06157911e-03, -1.92379606e-02,\n",
       "         4.30571483e-03],\n",
       "       [ 6.16860956e-01,  3.16650522e-02,  3.66645521e-03,\n",
       "         1.32606111e-02, -8.70637954e-04, -7.19652608e-01,\n",
       "         3.82220761e-03],\n",
       "       [ 1.17722363e-01,  6.14977156e-02,  2.27867276e-02,\n",
       "         2.07575667e-02, -1.19179903e-03, -5.94723804e-01,\n",
       "         3.58960788e-03],\n",
       "       [ 4.73118303e-01,  5.28933730e-02,  1.92740424e-02,\n",
       "         1.25403432e-02, -8.49863453e-04,  5.86201884e-01,\n",
       "         3.85277331e-03],\n",
       "       [ 3.07013336e-02,  4.68536705e-02,  1.61420869e-02,\n",
       "         1.81037338e-02, -9.96156941e-04, -9.63931650e-01,\n",
       "         3.52067026e-03],\n",
       "       [ 3.18434852e-01,  5.08935253e-02,  1.58396123e-02,\n",
       "         1.21819437e-02, -1.05239466e-03, -9.04464765e-01,\n",
       "         4.75860845e-03]])"
      ]
     },
     "execution_count": 106,
     "metadata": {},
     "output_type": "execute_result"
    }
   ],
   "source": [
    "kmeans.cluster_centers_"
   ]
  },
  {
   "cell_type": "code",
   "execution_count": 107,
   "metadata": {},
   "outputs": [],
   "source": [
    "cluster_centers_df = pd.DataFrame(kmeans.cluster_centers_, columns = list_titles)"
   ]
  },
  {
   "cell_type": "code",
   "execution_count": 108,
   "metadata": {},
   "outputs": [
    {
     "data": {
      "text/html": [
       "<div>\n",
       "<style scoped>\n",
       "    .dataframe tbody tr th:only-of-type {\n",
       "        vertical-align: middle;\n",
       "    }\n",
       "\n",
       "    .dataframe tbody tr th {\n",
       "        vertical-align: top;\n",
       "    }\n",
       "\n",
       "    .dataframe thead th {\n",
       "        text-align: right;\n",
       "    }\n",
       "</style>\n",
       "<table border=\"1\" class=\"dataframe\">\n",
       "  <thead>\n",
       "    <tr style=\"text-align: right;\">\n",
       "      <th></th>\n",
       "      <th>ethnic_kurdish</th>\n",
       "      <th>ln_gdppc_cons</th>\n",
       "      <th>divorce_rate_ma5</th>\n",
       "      <th>mosques_perk</th>\n",
       "      <th>fm_diff_educ</th>\n",
       "      <th>pol_attitude</th>\n",
       "      <th>count_k</th>\n",
       "    </tr>\n",
       "  </thead>\n",
       "  <tbody>\n",
       "    <tr>\n",
       "      <th>0</th>\n",
       "      <td>0.053392</td>\n",
       "      <td>0.048224</td>\n",
       "      <td>0.018663</td>\n",
       "      <td>0.015008</td>\n",
       "      <td>-0.000845</td>\n",
       "      <td>0.902329</td>\n",
       "      <td>0.004734</td>\n",
       "    </tr>\n",
       "    <tr>\n",
       "      <th>1</th>\n",
       "      <td>0.011687</td>\n",
       "      <td>0.040826</td>\n",
       "      <td>0.013538</td>\n",
       "      <td>0.021930</td>\n",
       "      <td>-0.000946</td>\n",
       "      <td>-0.848249</td>\n",
       "      <td>0.004416</td>\n",
       "    </tr>\n",
       "    <tr>\n",
       "      <th>2</th>\n",
       "      <td>0.822849</td>\n",
       "      <td>0.040301</td>\n",
       "      <td>0.004480</td>\n",
       "      <td>0.014020</td>\n",
       "      <td>-0.001062</td>\n",
       "      <td>-0.019238</td>\n",
       "      <td>0.004306</td>\n",
       "    </tr>\n",
       "    <tr>\n",
       "      <th>3</th>\n",
       "      <td>0.616861</td>\n",
       "      <td>0.031665</td>\n",
       "      <td>0.003666</td>\n",
       "      <td>0.013261</td>\n",
       "      <td>-0.000871</td>\n",
       "      <td>-0.719653</td>\n",
       "      <td>0.003822</td>\n",
       "    </tr>\n",
       "    <tr>\n",
       "      <th>4</th>\n",
       "      <td>0.117722</td>\n",
       "      <td>0.061498</td>\n",
       "      <td>0.022787</td>\n",
       "      <td>0.020758</td>\n",
       "      <td>-0.001192</td>\n",
       "      <td>-0.594724</td>\n",
       "      <td>0.003590</td>\n",
       "    </tr>\n",
       "    <tr>\n",
       "      <th>5</th>\n",
       "      <td>0.473118</td>\n",
       "      <td>0.052893</td>\n",
       "      <td>0.019274</td>\n",
       "      <td>0.012540</td>\n",
       "      <td>-0.000850</td>\n",
       "      <td>0.586202</td>\n",
       "      <td>0.003853</td>\n",
       "    </tr>\n",
       "    <tr>\n",
       "      <th>6</th>\n",
       "      <td>0.030701</td>\n",
       "      <td>0.046854</td>\n",
       "      <td>0.016142</td>\n",
       "      <td>0.018104</td>\n",
       "      <td>-0.000996</td>\n",
       "      <td>-0.963932</td>\n",
       "      <td>0.003521</td>\n",
       "    </tr>\n",
       "    <tr>\n",
       "      <th>7</th>\n",
       "      <td>0.318435</td>\n",
       "      <td>0.050894</td>\n",
       "      <td>0.015840</td>\n",
       "      <td>0.012182</td>\n",
       "      <td>-0.001052</td>\n",
       "      <td>-0.904465</td>\n",
       "      <td>0.004759</td>\n",
       "    </tr>\n",
       "  </tbody>\n",
       "</table>\n",
       "</div>"
      ],
      "text/plain": [
       "   ethnic_kurdish  ln_gdppc_cons  divorce_rate_ma5  mosques_perk  \\\n",
       "0        0.053392       0.048224          0.018663      0.015008   \n",
       "1        0.011687       0.040826          0.013538      0.021930   \n",
       "2        0.822849       0.040301          0.004480      0.014020   \n",
       "3        0.616861       0.031665          0.003666      0.013261   \n",
       "4        0.117722       0.061498          0.022787      0.020758   \n",
       "5        0.473118       0.052893          0.019274      0.012540   \n",
       "6        0.030701       0.046854          0.016142      0.018104   \n",
       "7        0.318435       0.050894          0.015840      0.012182   \n",
       "\n",
       "   fm_diff_educ  pol_attitude   count_k  \n",
       "0     -0.000845      0.902329  0.004734  \n",
       "1     -0.000946     -0.848249  0.004416  \n",
       "2     -0.001062     -0.019238  0.004306  \n",
       "3     -0.000871     -0.719653  0.003822  \n",
       "4     -0.001192     -0.594724  0.003590  \n",
       "5     -0.000850      0.586202  0.003853  \n",
       "6     -0.000996     -0.963932  0.003521  \n",
       "7     -0.001052     -0.904465  0.004759  "
      ]
     },
     "execution_count": 108,
     "metadata": {},
     "output_type": "execute_result"
    }
   ],
   "source": [
    "cluster_centers_df"
   ]
  },
  {
   "cell_type": "code",
   "execution_count": 101,
   "metadata": {},
   "outputs": [],
   "source": [
    "#cluster_centers_df['cluster_id'] = range(0,8)"
   ]
  },
  {
   "cell_type": "code",
   "execution_count": 103,
   "metadata": {},
   "outputs": [
    {
     "data": {
      "image/png": "[encoded data removed]",
      "text/plain": [
       "<Figure size 1152x576 with 2 Axes>"
      ]
     },
     "metadata": {
      "needs_background": "light"
     },
     "output_type": "display_data"
    }
   ],
   "source": [
    "plt.figure(figsize=(16,8))\n",
    "sns.heatmap(cluster_centers_df, cmap=\"PiYG\", annot=True, center=0)\n",
    "plt.show()"
   ]
  },
  {
   "cell_type": "code",
   "execution_count": 104,
   "metadata": {},
   "outputs": [],
   "source": [
    "reg_sub_df =reg_clustered[['pol_attitude', 'count_k','cluster_id']]"
   ]
  },
  {
   "cell_type": "code",
   "execution_count": 109,
   "metadata": {},
   "outputs": [
    {
     "data": {
      "text/plain": [
       "<AxesSubplot:xlabel='pol_attitude', ylabel='count_k'>"
      ]
     },
     "execution_count": 109,
     "metadata": {},
     "output_type": "execute_result"
    },
    {
     "data": {
      "image/png": "[encoded data removed]",
      "text/plain": [
       "<Figure size 432x288 with 1 Axes>"
      ]
     },
     "metadata": {
      "needs_background": "light"
     },
     "output_type": "display_data"
    }
   ],
   "source": [
    "# plot datapoints\n",
    "sns.scatterplot(data=reg_sub_df,\n",
    "               x=\"pol_attitude\",\n",
    "               y=\"count_k\",\n",
    "               hue='cluster_id')"
   ]
  },
  {
   "cell_type": "code",
   "execution_count": 134,
   "metadata": {},
   "outputs": [],
   "source": [
    "not_scaled = pd.read_csv('not_scaled.csv')"
   ]
  },
  {
   "cell_type": "code",
   "execution_count": 135,
   "metadata": {},
   "outputs": [
    {
     "data": {
      "text/html": [
       "<div>\n",
       "<style scoped>\n",
       "    .dataframe tbody tr th:only-of-type {\n",
       "        vertical-align: middle;\n",
       "    }\n",
       "\n",
       "    .dataframe tbody tr th {\n",
       "        vertical-align: top;\n",
       "    }\n",
       "\n",
       "    .dataframe thead th {\n",
       "        text-align: right;\n",
       "    }\n",
       "</style>\n",
       "<table border=\"1\" class=\"dataframe\">\n",
       "  <thead>\n",
       "    <tr style=\"text-align: right;\">\n",
       "      <th></th>\n",
       "      <th>prov_code</th>\n",
       "      <th>ethnic_kurdish</th>\n",
       "      <th>ln_gdppc_cons</th>\n",
       "      <th>divorce_rate_ma5</th>\n",
       "      <th>mosques_perk</th>\n",
       "      <th>fm_diff_educ</th>\n",
       "      <th>pol_attitude</th>\n",
       "      <th>count_k</th>\n",
       "    </tr>\n",
       "  </thead>\n",
       "  <tbody>\n",
       "    <tr>\n",
       "      <th>0</th>\n",
       "      <td>1</td>\n",
       "      <td>13.370917</td>\n",
       "      <td>4.187798</td>\n",
       "      <td>1.458</td>\n",
       "      <td>0.606649</td>\n",
       "      <td>-0.062882</td>\n",
       "      <td>-29.70</td>\n",
       "      <td>0.009591</td>\n",
       "    </tr>\n",
       "    <tr>\n",
       "      <th>1</th>\n",
       "      <td>1</td>\n",
       "      <td>13.370917</td>\n",
       "      <td>4.270533</td>\n",
       "      <td>1.532</td>\n",
       "      <td>0.599866</td>\n",
       "      <td>-0.068188</td>\n",
       "      <td>-29.70</td>\n",
       "      <td>0.007113</td>\n",
       "    </tr>\n",
       "    <tr>\n",
       "      <th>2</th>\n",
       "      <td>1</td>\n",
       "      <td>13.370917</td>\n",
       "      <td>4.310695</td>\n",
       "      <td>1.632</td>\n",
       "      <td>0.640750</td>\n",
       "      <td>-0.067100</td>\n",
       "      <td>-29.70</td>\n",
       "      <td>0.004234</td>\n",
       "    </tr>\n",
       "    <tr>\n",
       "      <th>3</th>\n",
       "      <td>1</td>\n",
       "      <td>13.370917</td>\n",
       "      <td>4.350712</td>\n",
       "      <td>1.712</td>\n",
       "      <td>0.651852</td>\n",
       "      <td>-0.066711</td>\n",
       "      <td>-33.60</td>\n",
       "      <td>0.003257</td>\n",
       "    </tr>\n",
       "    <tr>\n",
       "      <th>4</th>\n",
       "      <td>1</td>\n",
       "      <td>13.370917</td>\n",
       "      <td>4.379060</td>\n",
       "      <td>1.790</td>\n",
       "      <td>0.654324</td>\n",
       "      <td>-0.067147</td>\n",
       "      <td>-33.60</td>\n",
       "      <td>0.006465</td>\n",
       "    </tr>\n",
       "    <tr>\n",
       "      <th>...</th>\n",
       "      <td>...</td>\n",
       "      <td>...</td>\n",
       "      <td>...</td>\n",
       "      <td>...</td>\n",
       "      <td>...</td>\n",
       "      <td>...</td>\n",
       "      <td>...</td>\n",
       "      <td>...</td>\n",
       "    </tr>\n",
       "    <tr>\n",
       "      <th>422</th>\n",
       "      <td>81</td>\n",
       "      <td>12.500000</td>\n",
       "      <td>4.536124</td>\n",
       "      <td>1.454</td>\n",
       "      <td>1.894688</td>\n",
       "      <td>-0.104740</td>\n",
       "      <td>-109.00</td>\n",
       "      <td>0.005690</td>\n",
       "    </tr>\n",
       "    <tr>\n",
       "      <th>423</th>\n",
       "      <td>81</td>\n",
       "      <td>12.500000</td>\n",
       "      <td>4.592223</td>\n",
       "      <td>1.572</td>\n",
       "      <td>1.881597</td>\n",
       "      <td>-0.103488</td>\n",
       "      <td>-109.00</td>\n",
       "      <td>0.005625</td>\n",
       "    </tr>\n",
       "    <tr>\n",
       "      <th>424</th>\n",
       "      <td>81</td>\n",
       "      <td>12.500000</td>\n",
       "      <td>4.680219</td>\n",
       "      <td>1.730</td>\n",
       "      <td>1.856333</td>\n",
       "      <td>-0.102752</td>\n",
       "      <td>-109.00</td>\n",
       "      <td>0.005550</td>\n",
       "    </tr>\n",
       "    <tr>\n",
       "      <th>425</th>\n",
       "      <td>81</td>\n",
       "      <td>12.500000</td>\n",
       "      <td>4.654947</td>\n",
       "      <td>1.850</td>\n",
       "      <td>1.833297</td>\n",
       "      <td>-0.095931</td>\n",
       "      <td>-109.00</td>\n",
       "      <td>0.008100</td>\n",
       "    </tr>\n",
       "    <tr>\n",
       "      <th>426</th>\n",
       "      <td>81</td>\n",
       "      <td>12.500000</td>\n",
       "      <td>4.684415</td>\n",
       "      <td>1.822</td>\n",
       "      <td>1.814041</td>\n",
       "      <td>-0.094149</td>\n",
       "      <td>-94.28</td>\n",
       "      <td>0.005296</td>\n",
       "    </tr>\n",
       "  </tbody>\n",
       "</table>\n",
       "<p>427 rows × 8 columns</p>\n",
       "</div>"
      ],
      "text/plain": [
       "     prov_code  ethnic_kurdish  ln_gdppc_cons  divorce_rate_ma5  mosques_perk  \\\n",
       "0            1       13.370917       4.187798             1.458      0.606649   \n",
       "1            1       13.370917       4.270533             1.532      0.599866   \n",
       "2            1       13.370917       4.310695             1.632      0.640750   \n",
       "3            1       13.370917       4.350712             1.712      0.651852   \n",
       "4            1       13.370917       4.379060             1.790      0.654324   \n",
       "..         ...             ...            ...               ...           ...   \n",
       "422         81       12.500000       4.536124             1.454      1.894688   \n",
       "423         81       12.500000       4.592223             1.572      1.881597   \n",
       "424         81       12.500000       4.680219             1.730      1.856333   \n",
       "425         81       12.500000       4.654947             1.850      1.833297   \n",
       "426         81       12.500000       4.684415             1.822      1.814041   \n",
       "\n",
       "     fm_diff_educ  pol_attitude   count_k  \n",
       "0       -0.062882        -29.70  0.009591  \n",
       "1       -0.068188        -29.70  0.007113  \n",
       "2       -0.067100        -29.70  0.004234  \n",
       "3       -0.066711        -33.60  0.003257  \n",
       "4       -0.067147        -33.60  0.006465  \n",
       "..            ...           ...       ...  \n",
       "422     -0.104740       -109.00  0.005690  \n",
       "423     -0.103488       -109.00  0.005625  \n",
       "424     -0.102752       -109.00  0.005550  \n",
       "425     -0.095931       -109.00  0.008100  \n",
       "426     -0.094149        -94.28  0.005296  \n",
       "\n",
       "[427 rows x 8 columns]"
      ]
     },
     "execution_count": 135,
     "metadata": {},
     "output_type": "execute_result"
    }
   ],
   "source": [
    "not_scaled"
   ]
  },
  {
   "cell_type": "code",
   "execution_count": 136,
   "metadata": {},
   "outputs": [
    {
     "data": {
      "text/html": [
       "<div>\n",
       "<style scoped>\n",
       "    .dataframe tbody tr th:only-of-type {\n",
       "        vertical-align: middle;\n",
       "    }\n",
       "\n",
       "    .dataframe tbody tr th {\n",
       "        vertical-align: top;\n",
       "    }\n",
       "\n",
       "    .dataframe thead th {\n",
       "        text-align: right;\n",
       "    }\n",
       "</style>\n",
       "<table border=\"1\" class=\"dataframe\">\n",
       "  <thead>\n",
       "    <tr style=\"text-align: right;\">\n",
       "      <th></th>\n",
       "      <th>ethnic_kurdish</th>\n",
       "      <th>ln_gdppc_cons</th>\n",
       "      <th>divorce_rate_ma5</th>\n",
       "      <th>mosques_perk</th>\n",
       "      <th>fm_diff_educ</th>\n",
       "      <th>pol_attitude</th>\n",
       "      <th>count_k</th>\n",
       "    </tr>\n",
       "  </thead>\n",
       "  <tbody>\n",
       "    <tr>\n",
       "      <th>0</th>\n",
       "      <td>13.370917</td>\n",
       "      <td>4.187798</td>\n",
       "      <td>1.458</td>\n",
       "      <td>0.606649</td>\n",
       "      <td>-0.062882</td>\n",
       "      <td>-29.70</td>\n",
       "      <td>0.009591</td>\n",
       "    </tr>\n",
       "    <tr>\n",
       "      <th>1</th>\n",
       "      <td>13.370917</td>\n",
       "      <td>4.270533</td>\n",
       "      <td>1.532</td>\n",
       "      <td>0.599866</td>\n",
       "      <td>-0.068188</td>\n",
       "      <td>-29.70</td>\n",
       "      <td>0.007113</td>\n",
       "    </tr>\n",
       "    <tr>\n",
       "      <th>2</th>\n",
       "      <td>13.370917</td>\n",
       "      <td>4.310695</td>\n",
       "      <td>1.632</td>\n",
       "      <td>0.640750</td>\n",
       "      <td>-0.067100</td>\n",
       "      <td>-29.70</td>\n",
       "      <td>0.004234</td>\n",
       "    </tr>\n",
       "    <tr>\n",
       "      <th>3</th>\n",
       "      <td>13.370917</td>\n",
       "      <td>4.350712</td>\n",
       "      <td>1.712</td>\n",
       "      <td>0.651852</td>\n",
       "      <td>-0.066711</td>\n",
       "      <td>-33.60</td>\n",
       "      <td>0.003257</td>\n",
       "    </tr>\n",
       "    <tr>\n",
       "      <th>4</th>\n",
       "      <td>13.370917</td>\n",
       "      <td>4.379060</td>\n",
       "      <td>1.790</td>\n",
       "      <td>0.654324</td>\n",
       "      <td>-0.067147</td>\n",
       "      <td>-33.60</td>\n",
       "      <td>0.006465</td>\n",
       "    </tr>\n",
       "    <tr>\n",
       "      <th>...</th>\n",
       "      <td>...</td>\n",
       "      <td>...</td>\n",
       "      <td>...</td>\n",
       "      <td>...</td>\n",
       "      <td>...</td>\n",
       "      <td>...</td>\n",
       "      <td>...</td>\n",
       "    </tr>\n",
       "    <tr>\n",
       "      <th>422</th>\n",
       "      <td>12.500000</td>\n",
       "      <td>4.536124</td>\n",
       "      <td>1.454</td>\n",
       "      <td>1.894688</td>\n",
       "      <td>-0.104740</td>\n",
       "      <td>-109.00</td>\n",
       "      <td>0.005690</td>\n",
       "    </tr>\n",
       "    <tr>\n",
       "      <th>423</th>\n",
       "      <td>12.500000</td>\n",
       "      <td>4.592223</td>\n",
       "      <td>1.572</td>\n",
       "      <td>1.881597</td>\n",
       "      <td>-0.103488</td>\n",
       "      <td>-109.00</td>\n",
       "      <td>0.005625</td>\n",
       "    </tr>\n",
       "    <tr>\n",
       "      <th>424</th>\n",
       "      <td>12.500000</td>\n",
       "      <td>4.680219</td>\n",
       "      <td>1.730</td>\n",
       "      <td>1.856333</td>\n",
       "      <td>-0.102752</td>\n",
       "      <td>-109.00</td>\n",
       "      <td>0.005550</td>\n",
       "    </tr>\n",
       "    <tr>\n",
       "      <th>425</th>\n",
       "      <td>12.500000</td>\n",
       "      <td>4.654947</td>\n",
       "      <td>1.850</td>\n",
       "      <td>1.833297</td>\n",
       "      <td>-0.095931</td>\n",
       "      <td>-109.00</td>\n",
       "      <td>0.008100</td>\n",
       "    </tr>\n",
       "    <tr>\n",
       "      <th>426</th>\n",
       "      <td>12.500000</td>\n",
       "      <td>4.684415</td>\n",
       "      <td>1.822</td>\n",
       "      <td>1.814041</td>\n",
       "      <td>-0.094149</td>\n",
       "      <td>-94.28</td>\n",
       "      <td>0.005296</td>\n",
       "    </tr>\n",
       "  </tbody>\n",
       "</table>\n",
       "<p>427 rows × 7 columns</p>\n",
       "</div>"
      ],
      "text/plain": [
       "     ethnic_kurdish  ln_gdppc_cons  divorce_rate_ma5  mosques_perk  \\\n",
       "0         13.370917       4.187798             1.458      0.606649   \n",
       "1         13.370917       4.270533             1.532      0.599866   \n",
       "2         13.370917       4.310695             1.632      0.640750   \n",
       "3         13.370917       4.350712             1.712      0.651852   \n",
       "4         13.370917       4.379060             1.790      0.654324   \n",
       "..              ...            ...               ...           ...   \n",
       "422       12.500000       4.536124             1.454      1.894688   \n",
       "423       12.500000       4.592223             1.572      1.881597   \n",
       "424       12.500000       4.680219             1.730      1.856333   \n",
       "425       12.500000       4.654947             1.850      1.833297   \n",
       "426       12.500000       4.684415             1.822      1.814041   \n",
       "\n",
       "     fm_diff_educ  pol_attitude   count_k  \n",
       "0       -0.062882        -29.70  0.009591  \n",
       "1       -0.068188        -29.70  0.007113  \n",
       "2       -0.067100        -29.70  0.004234  \n",
       "3       -0.066711        -33.60  0.003257  \n",
       "4       -0.067147        -33.60  0.006465  \n",
       "..            ...           ...       ...  \n",
       "422     -0.104740       -109.00  0.005690  \n",
       "423     -0.103488       -109.00  0.005625  \n",
       "424     -0.102752       -109.00  0.005550  \n",
       "425     -0.095931       -109.00  0.008100  \n",
       "426     -0.094149        -94.28  0.005296  \n",
       "\n",
       "[427 rows x 7 columns]"
      ]
     },
     "execution_count": 136,
     "metadata": {},
     "output_type": "execute_result"
    }
   ],
   "source": [
    "not_scaled.drop('prov_code', axis=1)"
   ]
  },
  {
   "cell_type": "code",
   "execution_count": 137,
   "metadata": {},
   "outputs": [],
   "source": [
    "list_titles1 = not_scaled.columns.values"
   ]
  },
  {
   "cell_type": "code",
   "execution_count": 144,
   "metadata": {},
   "outputs": [],
   "source": [
    "kmeans = KMeans(n_clusters=8,\n",
    "               random_state=1234)\n",
    "kmeans.fit(not_scaled)\n",
    "\n",
    "clusters = kmeans.predict(not_scaled)"
   ]
  },
  {
   "cell_type": "code",
   "execution_count": 145,
   "metadata": {},
   "outputs": [],
   "source": [
    "not_reg_clustered = pd.DataFrame(not_scaled, columns = list_titles1)"
   ]
  },
  {
   "cell_type": "code",
   "execution_count": 146,
   "metadata": {},
   "outputs": [],
   "source": [
    "not_reg_clustered ['cluster_id'] = clusters"
   ]
  },
  {
   "cell_type": "code",
   "execution_count": 150,
   "metadata": {},
   "outputs": [
    {
     "data": {
      "text/html": [
       "<div>\n",
       "<style scoped>\n",
       "    .dataframe tbody tr th:only-of-type {\n",
       "        vertical-align: middle;\n",
       "    }\n",
       "\n",
       "    .dataframe tbody tr th {\n",
       "        vertical-align: top;\n",
       "    }\n",
       "\n",
       "    .dataframe thead th {\n",
       "        text-align: right;\n",
       "    }\n",
       "</style>\n",
       "<table border=\"1\" class=\"dataframe\">\n",
       "  <thead>\n",
       "    <tr style=\"text-align: right;\">\n",
       "      <th></th>\n",
       "      <th>prov_code</th>\n",
       "      <th>ethnic_kurdish</th>\n",
       "      <th>ln_gdppc_cons</th>\n",
       "      <th>divorce_rate_ma5</th>\n",
       "      <th>mosques_perk</th>\n",
       "      <th>fm_diff_educ</th>\n",
       "      <th>pol_attitude</th>\n",
       "      <th>count_k</th>\n",
       "      <th>cluster_id</th>\n",
       "    </tr>\n",
       "  </thead>\n",
       "  <tbody>\n",
       "    <tr>\n",
       "      <th>0</th>\n",
       "      <td>1</td>\n",
       "      <td>13.370917</td>\n",
       "      <td>4.187798</td>\n",
       "      <td>1.458</td>\n",
       "      <td>0.606649</td>\n",
       "      <td>-0.062882</td>\n",
       "      <td>-29.70</td>\n",
       "      <td>0.009591</td>\n",
       "      <td>6</td>\n",
       "    </tr>\n",
       "    <tr>\n",
       "      <th>1</th>\n",
       "      <td>1</td>\n",
       "      <td>13.370917</td>\n",
       "      <td>4.270533</td>\n",
       "      <td>1.532</td>\n",
       "      <td>0.599866</td>\n",
       "      <td>-0.068188</td>\n",
       "      <td>-29.70</td>\n",
       "      <td>0.007113</td>\n",
       "      <td>6</td>\n",
       "    </tr>\n",
       "    <tr>\n",
       "      <th>2</th>\n",
       "      <td>1</td>\n",
       "      <td>13.370917</td>\n",
       "      <td>4.310695</td>\n",
       "      <td>1.632</td>\n",
       "      <td>0.640750</td>\n",
       "      <td>-0.067100</td>\n",
       "      <td>-29.70</td>\n",
       "      <td>0.004234</td>\n",
       "      <td>6</td>\n",
       "    </tr>\n",
       "    <tr>\n",
       "      <th>3</th>\n",
       "      <td>1</td>\n",
       "      <td>13.370917</td>\n",
       "      <td>4.350712</td>\n",
       "      <td>1.712</td>\n",
       "      <td>0.651852</td>\n",
       "      <td>-0.066711</td>\n",
       "      <td>-33.60</td>\n",
       "      <td>0.003257</td>\n",
       "      <td>6</td>\n",
       "    </tr>\n",
       "    <tr>\n",
       "      <th>4</th>\n",
       "      <td>1</td>\n",
       "      <td>13.370917</td>\n",
       "      <td>4.379060</td>\n",
       "      <td>1.790</td>\n",
       "      <td>0.654324</td>\n",
       "      <td>-0.067147</td>\n",
       "      <td>-33.60</td>\n",
       "      <td>0.006465</td>\n",
       "      <td>6</td>\n",
       "    </tr>\n",
       "    <tr>\n",
       "      <th>...</th>\n",
       "      <td>...</td>\n",
       "      <td>...</td>\n",
       "      <td>...</td>\n",
       "      <td>...</td>\n",
       "      <td>...</td>\n",
       "      <td>...</td>\n",
       "      <td>...</td>\n",
       "      <td>...</td>\n",
       "      <td>...</td>\n",
       "    </tr>\n",
       "    <tr>\n",
       "      <th>422</th>\n",
       "      <td>81</td>\n",
       "      <td>12.500000</td>\n",
       "      <td>4.536124</td>\n",
       "      <td>1.454</td>\n",
       "      <td>1.894688</td>\n",
       "      <td>-0.104740</td>\n",
       "      <td>-109.00</td>\n",
       "      <td>0.005690</td>\n",
       "      <td>5</td>\n",
       "    </tr>\n",
       "    <tr>\n",
       "      <th>423</th>\n",
       "      <td>81</td>\n",
       "      <td>12.500000</td>\n",
       "      <td>4.592223</td>\n",
       "      <td>1.572</td>\n",
       "      <td>1.881597</td>\n",
       "      <td>-0.103488</td>\n",
       "      <td>-109.00</td>\n",
       "      <td>0.005625</td>\n",
       "      <td>5</td>\n",
       "    </tr>\n",
       "    <tr>\n",
       "      <th>424</th>\n",
       "      <td>81</td>\n",
       "      <td>12.500000</td>\n",
       "      <td>4.680219</td>\n",
       "      <td>1.730</td>\n",
       "      <td>1.856333</td>\n",
       "      <td>-0.102752</td>\n",
       "      <td>-109.00</td>\n",
       "      <td>0.005550</td>\n",
       "      <td>5</td>\n",
       "    </tr>\n",
       "    <tr>\n",
       "      <th>425</th>\n",
       "      <td>81</td>\n",
       "      <td>12.500000</td>\n",
       "      <td>4.654947</td>\n",
       "      <td>1.850</td>\n",
       "      <td>1.833297</td>\n",
       "      <td>-0.095931</td>\n",
       "      <td>-109.00</td>\n",
       "      <td>0.008100</td>\n",
       "      <td>5</td>\n",
       "    </tr>\n",
       "    <tr>\n",
       "      <th>426</th>\n",
       "      <td>81</td>\n",
       "      <td>12.500000</td>\n",
       "      <td>4.684415</td>\n",
       "      <td>1.822</td>\n",
       "      <td>1.814041</td>\n",
       "      <td>-0.094149</td>\n",
       "      <td>-94.28</td>\n",
       "      <td>0.005296</td>\n",
       "      <td>5</td>\n",
       "    </tr>\n",
       "  </tbody>\n",
       "</table>\n",
       "<p>427 rows × 9 columns</p>\n",
       "</div>"
      ],
      "text/plain": [
       "     prov_code  ethnic_kurdish  ln_gdppc_cons  divorce_rate_ma5  mosques_perk  \\\n",
       "0            1       13.370917       4.187798             1.458      0.606649   \n",
       "1            1       13.370917       4.270533             1.532      0.599866   \n",
       "2            1       13.370917       4.310695             1.632      0.640750   \n",
       "3            1       13.370917       4.350712             1.712      0.651852   \n",
       "4            1       13.370917       4.379060             1.790      0.654324   \n",
       "..         ...             ...            ...               ...           ...   \n",
       "422         81       12.500000       4.536124             1.454      1.894688   \n",
       "423         81       12.500000       4.592223             1.572      1.881597   \n",
       "424         81       12.500000       4.680219             1.730      1.856333   \n",
       "425         81       12.500000       4.654947             1.850      1.833297   \n",
       "426         81       12.500000       4.684415             1.822      1.814041   \n",
       "\n",
       "     fm_diff_educ  pol_attitude   count_k  cluster_id  \n",
       "0       -0.062882        -29.70  0.009591           6  \n",
       "1       -0.068188        -29.70  0.007113           6  \n",
       "2       -0.067100        -29.70  0.004234           6  \n",
       "3       -0.066711        -33.60  0.003257           6  \n",
       "4       -0.067147        -33.60  0.006465           6  \n",
       "..            ...           ...       ...         ...  \n",
       "422     -0.104740       -109.00  0.005690           5  \n",
       "423     -0.103488       -109.00  0.005625           5  \n",
       "424     -0.102752       -109.00  0.005550           5  \n",
       "425     -0.095931       -109.00  0.008100           5  \n",
       "426     -0.094149        -94.28  0.005296           5  \n",
       "\n",
       "[427 rows x 9 columns]"
      ]
     },
     "execution_count": 150,
     "metadata": {},
     "output_type": "execute_result"
    }
   ],
   "source": [
    "not_reg_clustered"
   ]
  },
  {
   "cell_type": "code",
   "execution_count": 147,
   "metadata": {},
   "outputs": [
    {
     "data": {
      "text/plain": [
       "array([[ 3.39729730e+01,  6.65899156e+01,  3.93887187e+00,\n",
       "         5.98810811e-01,  1.52555138e+00, -1.11109046e-01,\n",
       "        -9.83145946e+01,  3.75990493e-03],\n",
       "       [ 5.80000000e+01,  4.20428147e+00,  4.59776108e+00,\n",
       "         1.80745946e+00,  1.50337371e+00, -7.82886576e-02,\n",
       "         8.54962162e+01,  4.77235593e-03],\n",
       "       [ 1.93495146e+01,  6.10442726e+00,  4.54003554e+00,\n",
       "         1.52275728e+00,  1.89982378e+00, -9.53518384e-02,\n",
       "        -9.40184466e+01,  3.96832010e-03],\n",
       "       [ 5.13250000e+01,  7.84617990e+01,  3.86811063e+00,\n",
       "         4.35250000e-01,  1.31660562e+00, -1.02306401e-01,\n",
       "         1.88000000e+00,  4.15838592e-03],\n",
       "       [ 7.46111111e+01,  7.82251267e+00,  4.29492122e+00,\n",
       "         1.55588889e+00,  1.82496973e+00, -9.56130491e-02,\n",
       "        -5.47088889e+01,  4.11547989e-03],\n",
       "       [ 5.42727273e+01,  3.44397756e+00,  4.42560064e+00,\n",
       "         1.44949091e+00,  1.70363209e+00, -1.02794361e-01,\n",
       "        -1.09978182e+02,  3.90782053e-03],\n",
       "       [ 2.64838710e+01,  6.41105880e+00,  4.45854528e+00,\n",
       "         1.57787097e+00,  1.92650597e+00, -8.44212427e-02,\n",
       "        -3.91993548e+01,  4.14152684e-03],\n",
       "       [ 1.95686275e+01,  7.88599506e+00,  4.54764853e+00,\n",
       "         1.76737255e+00,  1.34671411e+00, -7.84666003e-02,\n",
       "         8.57011765e+01,  4.70895477e-03]])"
      ]
     },
     "execution_count": 147,
     "metadata": {},
     "output_type": "execute_result"
    }
   ],
   "source": [
    "kmeans.cluster_centers_"
   ]
  },
  {
   "cell_type": "code",
   "execution_count": 148,
   "metadata": {},
   "outputs": [],
   "source": [
    "cluster_centers_df1 = pd.DataFrame(kmeans.cluster_centers_, columns = list_titles1)"
   ]
  },
  {
   "cell_type": "code",
   "execution_count": 149,
   "metadata": {},
   "outputs": [
    {
     "data": {
      "image/png": "[encoded data removed]",
      "text/plain": [
       "<Figure size 1152x576 with 2 Axes>"
      ]
     },
     "metadata": {
      "needs_background": "light"
     },
     "output_type": "display_data"
    }
   ],
   "source": [
    "plt.figure(figsize=(16,8))\n",
    "sns.heatmap(cluster_centers_df1, cmap=\"PiYG\", annot=True, center=0)\n",
    "plt.show()"
   ]
  }
 ],
 "metadata": {
  "kernelspec": {
   "display_name": "Python 3",
   "language": "python",
   "name": "python3"
  },
  "language_info": {
   "codemirror_mode": {
    "name": "ipython",
    "version": 3
   },
   "file_extension": ".py",
   "mimetype": "text/x-python",
   "name": "python",
   "nbconvert_exporter": "python",
   "pygments_lexer": "ipython3",
   "version": "3.8.5"
  }
 },
 "nbformat": 4,
 "nbformat_minor": 4
}
