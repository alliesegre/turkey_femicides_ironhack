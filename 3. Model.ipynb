{
 "cells": [
  {
   "cell_type": "code",
   "execution_count": 456,
   "metadata": {},
   "outputs": [],
   "source": [
    "import pandas as pd\n",
    "import numpy as np\n",
    "import warnings\n",
    "warnings.filterwarnings('ignore')\n",
    "warnings.filterwarnings(\"ignore\", message=\"numpy.ufunc size changed\")\n",
    "import matplotlib.pyplot as plt\n",
    "import seaborn as sns\n",
    "%matplotlib inline\n",
    "pd.set_option('display.max_columns', None)\n",
    "import re\n",
    "import math\n",
    "\n",
    "from sklearn.linear_model import LinearRegression\n",
    "from sklearn.metrics import mean_squared_error, r2_score\n",
    "from sklearn.model_selection import train_test_split\n",
    "from sklearn import datasets, linear_model\n",
    "from sklearn.ensemble import RandomForestRegressor \n",
    "from sklearn.neighbors import KNeighborsRegressor\n",
    "\n",
    "from sklearn.cluster import KMeans\n",
    "from sklearn.metrics import silhouette_score\n",
    "import matplotlib.pyplot as plt\n",
    "from yellowbrick.cluster import SilhouetteVisualizer"
   ]
  },
  {
   "cell_type": "code",
   "execution_count": 457,
   "metadata": {},
   "outputs": [],
   "source": [
    "def model_predictions(x, X_train, X_test, y_train, y_test):\n",
    "    #global X_train, X_test, y_train, y_test, model, predictions\n",
    "    if x == \"linear\":\n",
    "        model =LinearRegression()    # model\n",
    "        model.fit(X_train, y_train) # model train\n",
    "        print(\"Linear:\")\n",
    "        predictions=model.predict(X_test)   # model prediction\n",
    "        r2 = r2_score(y_test, predictions)\n",
    "        print(r2)\n",
    "        rmse = mean_squared_error(y_test, predictions)**0.5\n",
    "        print(rmse)\n",
    "    elif x == \"knn\":\n",
    "        model = KNeighborsRegressor(n_neighbors = 10)\n",
    "        model.fit(X_train, y_train)\n",
    "        print(\"KNN:\")\n",
    "        predictions = model.predict(X_test)\n",
    "        r2 = r2_score(y_test, predictions)\n",
    "        print(r2)\n",
    "        rmse = mean_squared_error(y_test, predictions)**0.5\n",
    "        print(rmse)\n",
    "    elif x==\"random forest\":\n",
    "        model = RandomForestRegressor(n_estimators = 100, random_state = 0) \n",
    "        model.fit(X_train, y_train)\n",
    "        print(\"Random Forest Regressor:\")\n",
    "        predictions = model.predict(X_test)\n",
    "        r2 = r2_score(y_test, predictions)\n",
    "        print(r2)\n",
    "        rmse = mean_squared_error(y_test, predictions)**0.5\n",
    "        print(rmse)\n",
    "    else:\n",
    "        print (\"Input should be linear, random forest, or knn\")   \n",
    "    return [model, predictions]"
   ]
  },
  {
   "cell_type": "markdown",
   "metadata": {},
   "source": [
    "### Import preprocessed data"
   ]
  },
  {
   "cell_type": "code",
   "execution_count": 458,
   "metadata": {},
   "outputs": [],
   "source": [
    "data = pd.read_csv('data_reg_preprocessed.csv')"
   ]
  },
  {
   "cell_type": "code",
   "execution_count": 459,
   "metadata": {},
   "outputs": [
    {
     "data": {
      "text/html": [
       "<div>\n",
       "<style scoped>\n",
       "    .dataframe tbody tr th:only-of-type {\n",
       "        vertical-align: middle;\n",
       "    }\n",
       "\n",
       "    .dataframe tbody tr th {\n",
       "        vertical-align: top;\n",
       "    }\n",
       "\n",
       "    .dataframe thead th {\n",
       "        text-align: right;\n",
       "    }\n",
       "</style>\n",
       "<table border=\"1\" class=\"dataframe\">\n",
       "  <thead>\n",
       "    <tr style=\"text-align: right;\">\n",
       "      <th></th>\n",
       "      <th>prov_code</th>\n",
       "      <th>ethnic_kurdish</th>\n",
       "      <th>ln_gdppc_cons</th>\n",
       "      <th>divorce_rate_ma5</th>\n",
       "      <th>mosques_perk</th>\n",
       "      <th>fm_diff_educ</th>\n",
       "      <th>pol_attitude</th>\n",
       "      <th>count_k</th>\n",
       "    </tr>\n",
       "  </thead>\n",
       "  <tbody>\n",
       "    <tr>\n",
       "      <th>0</th>\n",
       "      <td>0.030402</td>\n",
       "      <td>0.406505</td>\n",
       "      <td>0.127318</td>\n",
       "      <td>0.044326</td>\n",
       "      <td>0.018443</td>\n",
       "      <td>-0.001912</td>\n",
       "      <td>-0.902945</td>\n",
       "      <td>0.959129</td>\n",
       "    </tr>\n",
       "    <tr>\n",
       "      <th>1</th>\n",
       "      <td>0.030389</td>\n",
       "      <td>0.406334</td>\n",
       "      <td>0.129779</td>\n",
       "      <td>0.046557</td>\n",
       "      <td>0.018230</td>\n",
       "      <td>-0.002072</td>\n",
       "      <td>-0.902564</td>\n",
       "      <td>0.711303</td>\n",
       "    </tr>\n",
       "    <tr>\n",
       "      <th>2</th>\n",
       "      <td>0.030379</td>\n",
       "      <td>0.406200</td>\n",
       "      <td>0.130956</td>\n",
       "      <td>0.049579</td>\n",
       "      <td>0.019466</td>\n",
       "      <td>-0.002038</td>\n",
       "      <td>-0.902268</td>\n",
       "      <td>0.423403</td>\n",
       "    </tr>\n",
       "    <tr>\n",
       "      <th>3</th>\n",
       "      <td>0.027410</td>\n",
       "      <td>0.366494</td>\n",
       "      <td>0.119252</td>\n",
       "      <td>0.046926</td>\n",
       "      <td>0.017867</td>\n",
       "      <td>-0.001829</td>\n",
       "      <td>-0.920970</td>\n",
       "      <td>0.325693</td>\n",
       "    </tr>\n",
       "    <tr>\n",
       "      <th>4</th>\n",
       "      <td>0.027404</td>\n",
       "      <td>0.366422</td>\n",
       "      <td>0.120006</td>\n",
       "      <td>0.049054</td>\n",
       "      <td>0.017931</td>\n",
       "      <td>-0.001840</td>\n",
       "      <td>-0.920788</td>\n",
       "      <td>0.646474</td>\n",
       "    </tr>\n",
       "    <tr>\n",
       "      <th>...</th>\n",
       "      <td>...</td>\n",
       "      <td>...</td>\n",
       "      <td>...</td>\n",
       "      <td>...</td>\n",
       "      <td>...</td>\n",
       "      <td>...</td>\n",
       "      <td>...</td>\n",
       "      <td>...</td>\n",
       "    </tr>\n",
       "    <tr>\n",
       "      <th>422</th>\n",
       "      <td>0.593529</td>\n",
       "      <td>0.091594</td>\n",
       "      <td>0.033239</td>\n",
       "      <td>0.010654</td>\n",
       "      <td>0.013883</td>\n",
       "      <td>-0.000767</td>\n",
       "      <td>-0.798700</td>\n",
       "      <td>0.568975</td>\n",
       "    </tr>\n",
       "    <tr>\n",
       "      <th>423</th>\n",
       "      <td>0.593516</td>\n",
       "      <td>0.091592</td>\n",
       "      <td>0.033649</td>\n",
       "      <td>0.011519</td>\n",
       "      <td>0.013787</td>\n",
       "      <td>-0.000758</td>\n",
       "      <td>-0.798682</td>\n",
       "      <td>0.562510</td>\n",
       "    </tr>\n",
       "    <tr>\n",
       "      <th>424</th>\n",
       "      <td>0.593497</td>\n",
       "      <td>0.091589</td>\n",
       "      <td>0.034293</td>\n",
       "      <td>0.012676</td>\n",
       "      <td>0.013602</td>\n",
       "      <td>-0.000753</td>\n",
       "      <td>-0.798656</td>\n",
       "      <td>0.554957</td>\n",
       "    </tr>\n",
       "    <tr>\n",
       "      <th>425</th>\n",
       "      <td>0.593495</td>\n",
       "      <td>0.091589</td>\n",
       "      <td>0.034107</td>\n",
       "      <td>0.013555</td>\n",
       "      <td>0.013433</td>\n",
       "      <td>-0.000703</td>\n",
       "      <td>-0.798654</td>\n",
       "      <td>0.809999</td>\n",
       "    </tr>\n",
       "    <tr>\n",
       "      <th>426</th>\n",
       "      <td>0.647802</td>\n",
       "      <td>0.099970</td>\n",
       "      <td>0.037464</td>\n",
       "      <td>0.014572</td>\n",
       "      <td>0.014508</td>\n",
       "      <td>-0.000753</td>\n",
       "      <td>-0.754010</td>\n",
       "      <td>0.529647</td>\n",
       "    </tr>\n",
       "  </tbody>\n",
       "</table>\n",
       "<p>427 rows × 8 columns</p>\n",
       "</div>"
      ],
      "text/plain": [
       "     prov_code  ethnic_kurdish  ln_gdppc_cons  divorce_rate_ma5  mosques_perk  \\\n",
       "0     0.030402        0.406505       0.127318          0.044326      0.018443   \n",
       "1     0.030389        0.406334       0.129779          0.046557      0.018230   \n",
       "2     0.030379        0.406200       0.130956          0.049579      0.019466   \n",
       "3     0.027410        0.366494       0.119252          0.046926      0.017867   \n",
       "4     0.027404        0.366422       0.120006          0.049054      0.017931   \n",
       "..         ...             ...            ...               ...           ...   \n",
       "422   0.593529        0.091594       0.033239          0.010654      0.013883   \n",
       "423   0.593516        0.091592       0.033649          0.011519      0.013787   \n",
       "424   0.593497        0.091589       0.034293          0.012676      0.013602   \n",
       "425   0.593495        0.091589       0.034107          0.013555      0.013433   \n",
       "426   0.647802        0.099970       0.037464          0.014572      0.014508   \n",
       "\n",
       "     fm_diff_educ  pol_attitude   count_k  \n",
       "0       -0.001912     -0.902945  0.959129  \n",
       "1       -0.002072     -0.902564  0.711303  \n",
       "2       -0.002038     -0.902268  0.423403  \n",
       "3       -0.001829     -0.920970  0.325693  \n",
       "4       -0.001840     -0.920788  0.646474  \n",
       "..            ...           ...       ...  \n",
       "422     -0.000767     -0.798700  0.568975  \n",
       "423     -0.000758     -0.798682  0.562510  \n",
       "424     -0.000753     -0.798656  0.554957  \n",
       "425     -0.000703     -0.798654  0.809999  \n",
       "426     -0.000753     -0.754010  0.529647  \n",
       "\n",
       "[427 rows x 8 columns]"
      ]
     },
     "execution_count": 459,
     "metadata": {},
     "output_type": "execute_result"
    }
   ],
   "source": [
    "data"
   ]
  },
  {
   "cell_type": "code",
   "execution_count": 460,
   "metadata": {},
   "outputs": [],
   "source": [
    "list_titles = data.columns.values"
   ]
  },
  {
   "cell_type": "markdown",
   "metadata": {},
   "source": [
    "*Assign final column as y and remaining columns as X features*"
   ]
  },
  {
   "cell_type": "code",
   "execution_count": 461,
   "metadata": {},
   "outputs": [],
   "source": [
    "y = pd.DataFrame(data[data.columns[-1]])\n",
    "X = data.drop([data.columns[-1]],axis=1)"
   ]
  },
  {
   "cell_type": "code",
   "execution_count": 462,
   "metadata": {},
   "outputs": [],
   "source": [
    "X = X.drop('prov_code', axis=1)"
   ]
  },
  {
   "cell_type": "markdown",
   "metadata": {},
   "source": [
    "*Split into train/test data*"
   ]
  },
  {
   "cell_type": "code",
   "execution_count": 463,
   "metadata": {},
   "outputs": [],
   "source": [
    "X_train, X_test, y_train, y_test = train_test_split(X, y, test_size=0.4, random_state=100)"
   ]
  },
  {
   "cell_type": "code",
   "execution_count": 464,
   "metadata": {},
   "outputs": [
    {
     "name": "stdout",
     "output_type": "stream",
     "text": [
      "y_test:\n",
      " count_k \n",
      "0.067832    1\n",
      "0.496744    1\n",
      "0.461539    1\n",
      "0.463335    1\n",
      "0.468029    1\n",
      "           ..\n",
      "0.286992    1\n",
      "0.292168    1\n",
      "0.292273    1\n",
      "0.294135    1\n",
      "1.248117    1\n",
      "Length: 171, dtype: int64\n",
      "y_train:\n",
      " count_k \n",
      "0.074568    1\n",
      "0.086781    1\n",
      "0.462684    1\n",
      "0.468051    1\n",
      "0.468792    1\n",
      "           ..\n",
      "0.293122    1\n",
      "0.293389    1\n",
      "0.293884    1\n",
      "0.293946    1\n",
      "1.319331    1\n",
      "Length: 256, dtype: int64\n"
     ]
    }
   ],
   "source": [
    "print(\"y_test:\\n\",y_test.value_counts())\n",
    "print(\"y_train:\\n\", y_train.value_counts())"
   ]
  },
  {
   "cell_type": "markdown",
   "metadata": {},
   "source": [
    "Choose Model"
   ]
  },
  {
   "cell_type": "code",
   "execution_count": 465,
   "metadata": {},
   "outputs": [
    {
     "name": "stdout",
     "output_type": "stream",
     "text": [
      "Linear:\n",
      "0.037184226334838755\n",
      "0.2130947401601473\n"
     ]
    }
   ],
   "source": [
    "#Logistic Regression: \"logistic\", K Nearest Neighbours: \"knn\", Decision Tree: \"decision_tree\", Random Forest: \"random_forest\"\n",
    "model_run = model_predictions('linear', X_train, X_test, y_train, y_test)"
   ]
  },
  {
   "cell_type": "code",
   "execution_count": 466,
   "metadata": {},
   "outputs": [
    {
     "name": "stdout",
     "output_type": "stream",
     "text": [
      "Feature: 0, Score: 0.15530\n",
      "Feature: 1, Score: -5.56757\n",
      "Feature: 2, Score: 12.43741\n",
      "Feature: 3, Score: 3.26725\n",
      "Feature: 4, Score: -3.20181\n",
      "Feature: 5, Score: 0.03397\n"
     ]
    },
    {
     "data": {
      "image/png": "[encoded data removed]",
      "text/plain": [
       "<Figure size 432x288 with 1 Axes>"
      ]
     },
     "metadata": {
      "needs_background": "light"
     },
     "output_type": "display_data"
    }
   ],
   "source": [
    "from sklearn.datasets import make_classification\n",
    "from matplotlib import pyplot\n",
    "# define the model\n",
    "model = LinearRegression()\n",
    "# fit the model\n",
    "model.fit(X, y)\n",
    "# get importance\n",
    "importance = model.coef_[0]\n",
    "# summarize feature importance\n",
    "for i,v in enumerate(importance):\n",
    "    print('Feature: %0d, Score: %.5f' % (i,v))\n",
    "# plot feature importance\n",
    "pyplot.bar([x for x in range(len(importance))], importance)\n",
    "pyplot.xticks(rotation='vertical')\n",
    "pyplot.show()"
   ]
  },
  {
   "cell_type": "markdown",
   "metadata": {},
   "source": [
    "# CLUSTERING\n",
    "Since nothing can be predicted. We will work with clustering."
   ]
  },
  {
   "cell_type": "code",
   "execution_count": 467,
   "metadata": {},
   "outputs": [
    {
     "name": "stdout",
     "output_type": "stream",
     "text": [
      "[6 6 0 0 6 6 6 1 0 0 0 0 2 2 2 2 2 6 0 0 3 3 0 2 6 2 2 2 6 2 2 2 2 2 2 5 5\n",
      " 1 5 6 2 6 6 1 6 1 5 1 1 1 1 1 1 2 6 2 2 2 6 6 6 6 6 1 0 0 0 3 2 2 2 2 6 6\n",
      " 1 2 1 1 5 1 6 2 2 2 2 2 2 6 1 1 5 5 6 6 6 6 2 2 2 6 6 6 6 2 2 6 2 2 2 2 6\n",
      " 3 3 3 3 3 3 3 3 1 5 1 1 1 1 1 6 0 6 0 0 6 0 6 6 6 6 6 2 2 2 6 2 2 1 5 5 1\n",
      " 5 1 5 6 6 2 6 6 6 6 6 1 5 1 5 2 6 2 2 2 5 1 5 5 4 4 7 2 1 1 5 4 4 7 4 5 2\n",
      " 2 2 2 2 2 2 5 0 0 0 3 3 3 7 4 7 2 2 2 2 7 2 2 2 2 2 2 2 6 5 5 1 5 7 2 2 2\n",
      " 2 2 2 2 2 6 6 2 2 2 2 2 2 2 2 2 6 2 2 2 2 2 4 6 0 0 2 2 6 2 4 4 4 4 4 7 4\n",
      " 7 2 6 2 2 2 2 2 0 0 0 0 0 1 5 5 5 1 1 1 5 0 7 7 2 2 7 2 5 5 5 2 2 2 2 2 2\n",
      " 2 2 2 2 2 2 2 2 2 2 2 2 2 2 2 2 3 3 3 5 5 2 2 2 2 5 5 1 5 5 5 5 5 7 2 2 2\n",
      " 7 2 2 2 7 7 2 3 3 3 3 0 0 0 0 0 4 4 4 7 7 4 7 3 3 3 3 3 3 3 2 2 7 2 5 1 5\n",
      " 1 5 1 7 2 7 7 7 2 7 7 7 7 7 7 7 4 4 4 3 3 3 3 3 3 3 3 4 4 7 7 3 3 3 3 5 5\n",
      " 5 1 1 5 4 7 4 4 4 4 4 4 4 7 4 7 7 7 7 7]\n"
     ]
    }
   ],
   "source": [
    "kmeans = KMeans(n_clusters=8, random_state=1234)\n",
    "kmeans.fit(data)\n",
    "\n",
    "# print the cluster centers\n",
    "clusters_coordinates = kmeans.cluster_centers_\n",
    "\n",
    "print(clusters)"
   ]
  },
  {
   "cell_type": "code",
   "execution_count": 468,
   "metadata": {},
   "outputs": [
    {
     "data": {
      "text/plain": [
       "Text(0, 0.5, 'inertia')"
      ]
     },
     "execution_count": 468,
     "metadata": {},
     "output_type": "execute_result"
    },
    {
     "data": {
      "image/png": "[encoded data removed]",
      "text/plain": [
       "<Figure size 432x288 with 1 Axes>"
      ]
     },
     "metadata": {
      "needs_background": "light"
     },
     "output_type": "display_data"
    }
   ],
   "source": [
    "# I want to iterate over a range of mx_iter and for every value, I want to return the inertia\n",
    "def get_kmeans_ineratia_varying_max_iter(max_iter):\n",
    "    kmeans = KMeans(n_clusters=8,\n",
    "                    random_state=1234,\n",
    "                    n_init=3,\n",
    "                    algorithm='elkan',\n",
    "                    max_iter=max_iter,\n",
    "                   )\n",
    "    kmeans.fit(data)\n",
    "\n",
    "    return kmeans.inertia_\n",
    "\n",
    "max_iter_list = [1, 5, 10, 20, 30, 40, 50, 100]\n",
    "\n",
    "plt.plot(max_iter_list,\n",
    "         [get_kmeans_ineratia_varying_max_iter(x) for x in max_iter_list],\n",
    "        )\n",
    "plt.xlabel('Max iter')\n",
    "plt.ylabel('inertia')"
   ]
  },
  {
   "cell_type": "code",
   "execution_count": 469,
   "metadata": {},
   "outputs": [
    {
     "data": {
      "text/plain": [
       "Text(0.5, 1.0, 'Elbow Method showing the optimal k within [2, 3, 4, 5, 6, 7, 8, 9, 10, 11, 12, 13, 14, 15, 16, 17, 18, 19]')"
      ]
     },
     "execution_count": 469,
     "metadata": {},
     "output_type": "execute_result"
    },
    {
     "data": {
      "image/png": "[encoded data removed]",
      "text/plain": [
       "<Figure size 1152x576 with 1 Axes>"
      ]
     },
     "metadata": {
      "needs_background": "light"
     },
     "output_type": "display_data"
    }
   ],
   "source": [
    "K = range(2,20)\n",
    "inertias = []\n",
    "\n",
    "for k in K:\n",
    "    kmeans = KMeans(n_clusters=k,\n",
    "                    random_state=1234,\n",
    "                   )\n",
    "    kmeans.fit(data)\n",
    "    inertias.append(kmeans.inertia_)\n",
    "    \n",
    "import matplotlib.pyplot as plt\n",
    "\n",
    "plt.figure(figsize=(16,8))\n",
    "plt.plot(K, inertias, 'bx-')\n",
    "plt.xlabel('k')\n",
    "plt.ylabel('inertia')\n",
    "plt.xticks(np.arange(min(K), max(K)+1, 1.0))\n",
    "plt.title(f'Elbow Method showing the optimal k within {list(K)}')"
   ]
  },
  {
   "cell_type": "code",
   "execution_count": null,
   "metadata": {},
   "outputs": [],
   "source": [
    "K = range(2,20)\n",
    "silhouettes = []\n",
    "\n",
    "for k in K:\n",
    "    kmeans = KMeans(n_clusters=k,\n",
    "                    random_state=1234,\n",
    "                   )\n",
    "    kmeans.fit(data)\n",
    "    silhouettes.append(silhouette_score(data,\n",
    "                                     kmeans.predict(data)\n",
    "                                    )\n",
    "                   )\n",
    "    \n",
    "\n",
    "\n",
    "plt.figure(figsize=(16,8))\n",
    "plt.plot(K, silhouettes, 'bx-')\n",
    "plt.xlabel('k')\n",
    "plt.ylabel('silhouette score')\n",
    "plt.xticks(np.arange(min(K), max(K)+1, 1.0))\n",
    "plt.title(f'Elbow Method showing the optimal k within {list(K)}')"
   ]
  },
  {
   "cell_type": "code",
   "execution_count": null,
   "metadata": {},
   "outputs": [],
   "source": [
    "fig, ax = plt.subplots(2, 2, figsize=(15,8))\n",
    "for k in [5,6, 7,8]:\n",
    "    km = KMeans(n_clusters=k,\n",
    "                random_state=1234)\n",
    "    q, mod = divmod(k, 2)    \n",
    "    visualizer = SilhouetteVisualizer(km, colors='yellowbrick', ax=ax[q-4][mod])\n",
    "    visualizer.fit(data)"
   ]
  },
  {
   "cell_type": "markdown",
   "metadata": {},
   "source": [
    "8 looks gr8. We will stick with that"
   ]
  },
  {
   "cell_type": "code",
   "execution_count": null,
   "metadata": {},
   "outputs": [],
   "source": [
    "kmeans = KMeans(n_clusters=8,\n",
    "               random_state=1234)\n",
    "kmeans.fit(data)\n",
    "\n",
    "clusters = kmeans.predict(data)"
   ]
  },
  {
   "cell_type": "code",
   "execution_count": null,
   "metadata": {},
   "outputs": [],
   "source": [
    "clusters.shape"
   ]
  },
  {
   "cell_type": "code",
   "execution_count": null,
   "metadata": {},
   "outputs": [],
   "source": [
    "reg_clustered = pd.DataFrame(data, columns = list_titles)"
   ]
  },
  {
   "cell_type": "code",
   "execution_count": null,
   "metadata": {},
   "outputs": [],
   "source": [
    "reg_clustered ['cluster_id'] = clusters"
   ]
  },
  {
   "cell_type": "code",
   "execution_count": null,
   "metadata": {},
   "outputs": [],
   "source": [
    "reg_clustered"
   ]
  },
  {
   "cell_type": "code",
   "execution_count": null,
   "metadata": {},
   "outputs": [],
   "source": [
    "#cluster_centers_df['cluster_id'] = range(0,8)"
   ]
  },
  {
   "cell_type": "code",
   "execution_count": null,
   "metadata": {},
   "outputs": [],
   "source": [
    "cluster_centers_df = pd.DataFrame(kmeans.cluster_centers_)"
   ]
  },
  {
   "cell_type": "code",
   "execution_count": null,
   "metadata": {},
   "outputs": [],
   "source": [
    "plt.figure(figsize=(16,8))\n",
    "sns.heatmap(cluster_centers_df, cmap=\"PiYG\", annot=True, center=0)\n",
    "plt.show()"
   ]
  },
  {
   "cell_type": "code",
   "execution_count": null,
   "metadata": {},
   "outputs": [],
   "source": [
    "reg_sub_df =reg_clustered[['pol_attitude', 'count_k','cluster_id']]"
   ]
  },
  {
   "cell_type": "code",
   "execution_count": null,
   "metadata": {},
   "outputs": [],
   "source": [
    "# plot datapoints\n",
    "sns.scatterplot(data=reg_sub_df,\n",
    "               x=\"pol_attitude\",\n",
    "               y=\"count_k\",\n",
    "               hue='cluster_id')"
   ]
  }
 ],
 "metadata": {
  "kernelspec": {
   "display_name": "Python 3",
   "language": "python",
   "name": "python3"
  },
  "language_info": {
   "codemirror_mode": {
    "name": "ipython",
    "version": 3
   },
   "file_extension": ".py",
   "mimetype": "text/x-python",
   "name": "python",
   "nbconvert_exporter": "python",
   "pygments_lexer": "ipython3",
   "version": "3.8.5"
  }
 },
 "nbformat": 4,
 "nbformat_minor": 4
}
