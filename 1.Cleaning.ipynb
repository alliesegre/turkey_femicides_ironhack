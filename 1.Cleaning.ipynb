{
 "cells": [
  {
   "cell_type": "markdown",
   "metadata": {},
   "source": [
    "Before starting, converting data for regions\n",
    "\n",
    "\n",
    "data = pd.io.stata.read_stata('/Users/segre/OneDrive/Desktop/Final Project/Turkey/Files from research/wm_replication_dataset_2020_09_25.dta')\n",
    "data.to_csv('/Users/segre/OneDrive/Desktop/Final Project/Turkey/Files from research/region_info.csv')"
   ]
  },
  {
   "cell_type": "code",
   "execution_count": 2,
   "metadata": {},
   "outputs": [],
   "source": [
    "import pandas as pd\n",
    "import numpy as np\n",
    "import googletrans\n",
    "from googletrans import Translator\n",
    "import time"
   ]
  },
  {
   "cell_type": "markdown",
   "metadata": {},
   "source": [
    "# 0. Importing all data:\n",
    "- info about regions\n",
    "- femicides cases\n",
    "- trends of country for what concerns democracy\n",
    "- elections results per region"
   ]
  },
  {
   "cell_type": "code",
   "execution_count": 3,
   "metadata": {},
   "outputs": [],
   "source": [
    "regions_info = pd.read_csv('/Users/segre/OneDrive/Desktop/Final Project/Turkey/Repo_File/turkey_femicides_ironhack/Sources/region_info.csv')"
   ]
  },
  {
   "cell_type": "code",
   "execution_count": 4,
   "metadata": {},
   "outputs": [],
   "source": [
    "victims = pd.read_csv('/Users/segre/OneDrive/Desktop/Final Project/Turkey/Repo_File/turkey_femicides_ironhack/Sources/victim_level_data.csv')"
   ]
  },
  {
   "cell_type": "code",
   "execution_count": 5,
   "metadata": {},
   "outputs": [],
   "source": [
    "demo_trends = pd.read_csv('/Users/segre/OneDrive/Desktop/Final Project/Turkey/Repo_File/turkey_femicides_ironhack/Sources/country_trends.csv')"
   ]
  },
  {
   "cell_type": "code",
   "execution_count": 6,
   "metadata": {},
   "outputs": [],
   "source": [
    "elections = pd.read_csv('/Users/segre/OneDrive/Desktop/Final Project/Turkey/Repo_File/turkey_femicides_ironhack/Sources/elections_cityresults.csv')"
   ]
  },
  {
   "cell_type": "markdown",
   "metadata": {},
   "source": [
    "# 1. Data Cleaning - Starting with the regions.\n",
    "\n",
    "Columns data:\n",
    "- Province Code\n",
    "- Province Name\n",
    "- all_wm_prov: women’s murders in Turkey (per 100,000 people) per year\n",
    "- knows_wm_prov: number of women’s murders (again, per 100,000 people) across Turkish\n",
    "provinces\n",
    "- tot_pop\n",
    "- ethnic_turkish\n",
    "- ethnic_kurdish\n",
    "- ln_gdppc_cons: e (logged) GDP per capita \n",
    "- fm_diff_educ: Gender equality in education attainment is calculated by subtracting the percentage of men who finished at least high school from the percentage of women who finished at least high school\n",
    "- divore_rate: every observation, the average divorce\n",
    "rate (i.e. number of divorces per 1000 people) in the last five years is calculated\n",
    "- mosques: Religiosity is measured by the number of mosques (per 1000 people) in a province\n",
    "- ln_casualty: civil war is measured by the (logged) number of war-related killings that occurred in a\n",
    "province between 1984 and 2010\n",
    "- ceasefire: It takes the value of 1 in years 2013 and 2014, and 0 otherwise. This variable is interacted with Civil War Exposure."
   ]
  },
  {
   "cell_type": "code",
   "execution_count": 7,
   "metadata": {},
   "outputs": [],
   "source": [
    "regions_info = regions_info.drop('Unnamed: 0', axis=1)"
   ]
  },
  {
   "cell_type": "code",
   "execution_count": 8,
   "metadata": {},
   "outputs": [
    {
     "name": "stdout",
     "output_type": "stream",
     "text": [
      "<class 'pandas.core.frame.DataFrame'>\n",
      "RangeIndex: 2460 entries, 0 to 2459\n",
      "Data columns (total 14 columns):\n",
      " #   Column            Non-Null Count  Dtype  \n",
      "---  ------            --------------  -----  \n",
      " 0   prov_code         2460 non-null   int64  \n",
      " 1   prov_name         2460 non-null   object \n",
      " 2   year              2460 non-null   int64  \n",
      " 3   all_wm_prov       648 non-null    float64\n",
      " 4   knows_wm_prov     648 non-null    float64\n",
      " 5   total_pop         648 non-null    float64\n",
      " 6   ethnic_turkish    648 non-null    float64\n",
      " 7   ethnic_kurdish    648 non-null    float64\n",
      " 8   ln_casualty       648 non-null    float64\n",
      " 9   ln_gdppc_cons     891 non-null    float64\n",
      " 10  divorce_rate_ma5  1377 non-null   float64\n",
      " 11  mosques_perk      648 non-null    float64\n",
      " 12  ceasefire         2460 non-null   int64  \n",
      " 13  fm_diff_educ      810 non-null    float64\n",
      "dtypes: float64(10), int64(3), object(1)\n",
      "memory usage: 269.2+ KB\n"
     ]
    }
   ],
   "source": [
    "regions_info.info()"
   ]
  },
  {
   "cell_type": "markdown",
   "metadata": {},
   "source": [
    "We can already drop the years we do not need. Our dataset on femicides goes from 2010 to 2017. So for now, I will only keep data from 2009 to 2017."
   ]
  },
  {
   "cell_type": "code",
   "execution_count": 9,
   "metadata": {},
   "outputs": [],
   "source": [
    "regions_info.drop(regions_info[regions_info['year'] < 2010].index, inplace = True) "
   ]
  },
  {
   "cell_type": "code",
   "execution_count": 10,
   "metadata": {},
   "outputs": [],
   "source": [
    "regions_info.drop(regions_info[regions_info['year'] > 2017].index, inplace = True) "
   ]
  },
  {
   "cell_type": "code",
   "execution_count": 11,
   "metadata": {},
   "outputs": [
    {
     "data": {
      "text/plain": [
       "array([2010, 2011, 2012, 2013, 2014, 2015, 2016, 2017], dtype=int64)"
      ]
     },
     "execution_count": 11,
     "metadata": {},
     "output_type": "execute_result"
    }
   ],
   "source": [
    "regions_info['year'].unique()"
   ]
  },
  {
   "cell_type": "markdown",
   "metadata": {},
   "source": [
    "We do not convert to datetime as we only have the years."
   ]
  },
  {
   "cell_type": "markdown",
   "metadata": {},
   "source": [
    "### Exploration of data regions"
   ]
  },
  {
   "cell_type": "markdown",
   "metadata": {},
   "source": [
    "Check for duplicates"
   ]
  },
  {
   "cell_type": "code",
   "execution_count": 12,
   "metadata": {},
   "outputs": [
    {
     "data": {
      "text/plain": [
       "0"
      ]
     },
     "execution_count": 12,
     "metadata": {},
     "output_type": "execute_result"
    }
   ],
   "source": [
    "sum(regions_info.duplicated())"
   ]
  },
  {
   "cell_type": "markdown",
   "metadata": {},
   "source": [
    "Check for nulls. Nothing needed."
   ]
  },
  {
   "cell_type": "code",
   "execution_count": 13,
   "metadata": {},
   "outputs": [
    {
     "data": {
      "text/plain": [
       "prov_code           0.0\n",
       "prov_name           0.0\n",
       "year                0.0\n",
       "all_wm_prov         0.0\n",
       "knows_wm_prov       0.0\n",
       "total_pop           0.0\n",
       "ethnic_turkish      0.0\n",
       "ethnic_kurdish      0.0\n",
       "ln_casualty         0.0\n",
       "ln_gdppc_cons       0.0\n",
       "divorce_rate_ma5    0.0\n",
       "mosques_perk        0.0\n",
       "ceasefire           0.0\n",
       "fm_diff_educ        0.0\n",
       "dtype: float64"
      ]
     },
     "execution_count": 13,
     "metadata": {},
     "output_type": "execute_result"
    }
   ],
   "source": [
    "round(regions_info.isna().sum()/len(regions_info),4)*100"
   ]
  },
  {
   "cell_type": "markdown",
   "metadata": {},
   "source": [
    "Final clean-up"
   ]
  },
  {
   "cell_type": "code",
   "execution_count": 14,
   "metadata": {},
   "outputs": [],
   "source": [
    "regions_info['prov_name'] = regions_info['prov_name'].str.lower()"
   ]
  },
  {
   "cell_type": "markdown",
   "metadata": {},
   "source": [
    "Check data details"
   ]
  },
  {
   "cell_type": "code",
   "execution_count": 15,
   "metadata": {},
   "outputs": [
    {
     "data": {
      "text/html": [
       "<div>\n",
       "<style scoped>\n",
       "    .dataframe tbody tr th:only-of-type {\n",
       "        vertical-align: middle;\n",
       "    }\n",
       "\n",
       "    .dataframe tbody tr th {\n",
       "        vertical-align: top;\n",
       "    }\n",
       "\n",
       "    .dataframe thead th {\n",
       "        text-align: right;\n",
       "    }\n",
       "</style>\n",
       "<table border=\"1\" class=\"dataframe\">\n",
       "  <thead>\n",
       "    <tr style=\"text-align: right;\">\n",
       "      <th></th>\n",
       "      <th>prov_code</th>\n",
       "      <th>prov_name</th>\n",
       "      <th>year</th>\n",
       "      <th>all_wm_prov</th>\n",
       "      <th>knows_wm_prov</th>\n",
       "      <th>total_pop</th>\n",
       "      <th>ethnic_turkish</th>\n",
       "      <th>ethnic_kurdish</th>\n",
       "      <th>ln_casualty</th>\n",
       "      <th>ln_gdppc_cons</th>\n",
       "      <th>divorce_rate_ma5</th>\n",
       "      <th>mosques_perk</th>\n",
       "      <th>ceasefire</th>\n",
       "      <th>fm_diff_educ</th>\n",
       "    </tr>\n",
       "  </thead>\n",
       "  <tbody>\n",
       "    <tr>\n",
       "      <th>count</th>\n",
       "      <td>648.000000</td>\n",
       "      <td>648</td>\n",
       "      <td>648.000000</td>\n",
       "      <td>648.000000</td>\n",
       "      <td>648.000000</td>\n",
       "      <td>6.480000e+02</td>\n",
       "      <td>648.000000</td>\n",
       "      <td>648.000000</td>\n",
       "      <td>648.000000</td>\n",
       "      <td>648.000000</td>\n",
       "      <td>648.000000</td>\n",
       "      <td>648.000000</td>\n",
       "      <td>648.000000</td>\n",
       "      <td>648.000000</td>\n",
       "    </tr>\n",
       "    <tr>\n",
       "      <th>unique</th>\n",
       "      <td>NaN</td>\n",
       "      <td>81</td>\n",
       "      <td>NaN</td>\n",
       "      <td>NaN</td>\n",
       "      <td>NaN</td>\n",
       "      <td>NaN</td>\n",
       "      <td>NaN</td>\n",
       "      <td>NaN</td>\n",
       "      <td>NaN</td>\n",
       "      <td>NaN</td>\n",
       "      <td>NaN</td>\n",
       "      <td>NaN</td>\n",
       "      <td>NaN</td>\n",
       "      <td>NaN</td>\n",
       "    </tr>\n",
       "    <tr>\n",
       "      <th>top</th>\n",
       "      <td>NaN</td>\n",
       "      <td>amasya</td>\n",
       "      <td>NaN</td>\n",
       "      <td>NaN</td>\n",
       "      <td>NaN</td>\n",
       "      <td>NaN</td>\n",
       "      <td>NaN</td>\n",
       "      <td>NaN</td>\n",
       "      <td>NaN</td>\n",
       "      <td>NaN</td>\n",
       "      <td>NaN</td>\n",
       "      <td>NaN</td>\n",
       "      <td>NaN</td>\n",
       "      <td>NaN</td>\n",
       "    </tr>\n",
       "    <tr>\n",
       "      <th>freq</th>\n",
       "      <td>NaN</td>\n",
       "      <td>8</td>\n",
       "      <td>NaN</td>\n",
       "      <td>NaN</td>\n",
       "      <td>NaN</td>\n",
       "      <td>NaN</td>\n",
       "      <td>NaN</td>\n",
       "      <td>NaN</td>\n",
       "      <td>NaN</td>\n",
       "      <td>NaN</td>\n",
       "      <td>NaN</td>\n",
       "      <td>NaN</td>\n",
       "      <td>NaN</td>\n",
       "      <td>NaN</td>\n",
       "    </tr>\n",
       "    <tr>\n",
       "      <th>mean</th>\n",
       "      <td>41.000000</td>\n",
       "      <td>NaN</td>\n",
       "      <td>2013.500000</td>\n",
       "      <td>3.030864</td>\n",
       "      <td>2.915123</td>\n",
       "      <td>9.534026e+05</td>\n",
       "      <td>75.425493</td>\n",
       "      <td>21.467349</td>\n",
       "      <td>2.345763</td>\n",
       "      <td>4.344408</td>\n",
       "      <td>1.283133</td>\n",
       "      <td>1.843475</td>\n",
       "      <td>0.250000</td>\n",
       "      <td>-0.100884</td>\n",
       "    </tr>\n",
       "    <tr>\n",
       "      <th>std</th>\n",
       "      <td>23.398966</td>\n",
       "      <td>NaN</td>\n",
       "      <td>2.293058</td>\n",
       "      <td>5.068218</td>\n",
       "      <td>4.868333</td>\n",
       "      <td>1.706082e+06</td>\n",
       "      <td>33.867957</td>\n",
       "      <td>32.434790</td>\n",
       "      <td>2.623615</td>\n",
       "      <td>0.342109</td>\n",
       "      <td>0.616719</td>\n",
       "      <td>1.160641</td>\n",
       "      <td>0.433347</td>\n",
       "      <td>0.028900</td>\n",
       "    </tr>\n",
       "    <tr>\n",
       "      <th>min</th>\n",
       "      <td>1.000000</td>\n",
       "      <td>NaN</td>\n",
       "      <td>2010.000000</td>\n",
       "      <td>0.000000</td>\n",
       "      <td>0.000000</td>\n",
       "      <td>7.441200e+04</td>\n",
       "      <td>0.000000</td>\n",
       "      <td>0.000000</td>\n",
       "      <td>0.000000</td>\n",
       "      <td>3.463987</td>\n",
       "      <td>0.114000</td>\n",
       "      <td>0.226302</td>\n",
       "      <td>0.000000</td>\n",
       "      <td>-0.184529</td>\n",
       "    </tr>\n",
       "    <tr>\n",
       "      <th>25%</th>\n",
       "      <td>21.000000</td>\n",
       "      <td>NaN</td>\n",
       "      <td>2011.750000</td>\n",
       "      <td>0.000000</td>\n",
       "      <td>0.000000</td>\n",
       "      <td>2.808055e+05</td>\n",
       "      <td>62.074455</td>\n",
       "      <td>0.000000</td>\n",
       "      <td>0.000000</td>\n",
       "      <td>4.108124</td>\n",
       "      <td>0.857000</td>\n",
       "      <td>1.120346</td>\n",
       "      <td>0.000000</td>\n",
       "      <td>-0.119214</td>\n",
       "    </tr>\n",
       "    <tr>\n",
       "      <th>50%</th>\n",
       "      <td>41.000000</td>\n",
       "      <td>NaN</td>\n",
       "      <td>2013.500000</td>\n",
       "      <td>1.000000</td>\n",
       "      <td>1.000000</td>\n",
       "      <td>5.131070e+05</td>\n",
       "      <td>94.709680</td>\n",
       "      <td>3.169473</td>\n",
       "      <td>1.098612</td>\n",
       "      <td>4.336241</td>\n",
       "      <td>1.342000</td>\n",
       "      <td>1.577232</td>\n",
       "      <td>0.000000</td>\n",
       "      <td>-0.099548</td>\n",
       "    </tr>\n",
       "    <tr>\n",
       "      <th>75%</th>\n",
       "      <td>61.000000</td>\n",
       "      <td>NaN</td>\n",
       "      <td>2015.250000</td>\n",
       "      <td>4.000000</td>\n",
       "      <td>3.000000</td>\n",
       "      <td>9.948722e+05</td>\n",
       "      <td>99.407780</td>\n",
       "      <td>25.884853</td>\n",
       "      <td>4.204693</td>\n",
       "      <td>4.566989</td>\n",
       "      <td>1.709000</td>\n",
       "      <td>2.132194</td>\n",
       "      <td>0.250000</td>\n",
       "      <td>-0.080654</td>\n",
       "    </tr>\n",
       "    <tr>\n",
       "      <th>max</th>\n",
       "      <td>81.000000</td>\n",
       "      <td>NaN</td>\n",
       "      <td>2017.000000</td>\n",
       "      <td>46.000000</td>\n",
       "      <td>42.000000</td>\n",
       "      <td>1.502923e+07</td>\n",
       "      <td>100.000000</td>\n",
       "      <td>100.000000</td>\n",
       "      <td>8.323852</td>\n",
       "      <td>5.339387</td>\n",
       "      <td>2.754000</td>\n",
       "      <td>7.162153</td>\n",
       "      <td>1.000000</td>\n",
       "      <td>-0.043720</td>\n",
       "    </tr>\n",
       "  </tbody>\n",
       "</table>\n",
       "</div>"
      ],
      "text/plain": [
       "         prov_code prov_name         year  all_wm_prov  knows_wm_prov  \\\n",
       "count   648.000000       648   648.000000   648.000000     648.000000   \n",
       "unique         NaN        81          NaN          NaN            NaN   \n",
       "top            NaN    amasya          NaN          NaN            NaN   \n",
       "freq           NaN         8          NaN          NaN            NaN   \n",
       "mean     41.000000       NaN  2013.500000     3.030864       2.915123   \n",
       "std      23.398966       NaN     2.293058     5.068218       4.868333   \n",
       "min       1.000000       NaN  2010.000000     0.000000       0.000000   \n",
       "25%      21.000000       NaN  2011.750000     0.000000       0.000000   \n",
       "50%      41.000000       NaN  2013.500000     1.000000       1.000000   \n",
       "75%      61.000000       NaN  2015.250000     4.000000       3.000000   \n",
       "max      81.000000       NaN  2017.000000    46.000000      42.000000   \n",
       "\n",
       "           total_pop  ethnic_turkish  ethnic_kurdish  ln_casualty  \\\n",
       "count   6.480000e+02      648.000000      648.000000   648.000000   \n",
       "unique           NaN             NaN             NaN          NaN   \n",
       "top              NaN             NaN             NaN          NaN   \n",
       "freq             NaN             NaN             NaN          NaN   \n",
       "mean    9.534026e+05       75.425493       21.467349     2.345763   \n",
       "std     1.706082e+06       33.867957       32.434790     2.623615   \n",
       "min     7.441200e+04        0.000000        0.000000     0.000000   \n",
       "25%     2.808055e+05       62.074455        0.000000     0.000000   \n",
       "50%     5.131070e+05       94.709680        3.169473     1.098612   \n",
       "75%     9.948722e+05       99.407780       25.884853     4.204693   \n",
       "max     1.502923e+07      100.000000      100.000000     8.323852   \n",
       "\n",
       "        ln_gdppc_cons  divorce_rate_ma5  mosques_perk   ceasefire  \\\n",
       "count      648.000000        648.000000    648.000000  648.000000   \n",
       "unique            NaN               NaN           NaN         NaN   \n",
       "top               NaN               NaN           NaN         NaN   \n",
       "freq              NaN               NaN           NaN         NaN   \n",
       "mean         4.344408          1.283133      1.843475    0.250000   \n",
       "std          0.342109          0.616719      1.160641    0.433347   \n",
       "min          3.463987          0.114000      0.226302    0.000000   \n",
       "25%          4.108124          0.857000      1.120346    0.000000   \n",
       "50%          4.336241          1.342000      1.577232    0.000000   \n",
       "75%          4.566989          1.709000      2.132194    0.250000   \n",
       "max          5.339387          2.754000      7.162153    1.000000   \n",
       "\n",
       "        fm_diff_educ  \n",
       "count     648.000000  \n",
       "unique           NaN  \n",
       "top              NaN  \n",
       "freq             NaN  \n",
       "mean       -0.100884  \n",
       "std         0.028900  \n",
       "min        -0.184529  \n",
       "25%        -0.119214  \n",
       "50%        -0.099548  \n",
       "75%        -0.080654  \n",
       "max        -0.043720  "
      ]
     },
     "execution_count": 15,
     "metadata": {},
     "output_type": "execute_result"
    }
   ],
   "source": [
    "regions_info.describe(include = 'all')"
   ]
  },
  {
   "cell_type": "markdown",
   "metadata": {},
   "source": [
    "# 2a. Data Cleaning and Translations - Victims Cases"
   ]
  },
  {
   "cell_type": "code",
   "execution_count": 16,
   "metadata": {},
   "outputs": [],
   "source": [
    "victims.rename(columns = {'isim':'victim_name', 'yaş':'age', 'tarih':'date',\n",
    "                         'yer':'place','fail':'perpetrator',\n",
    "                         'bahane':'excuse', 'hikaye':'story' }, inplace = True) \n"
   ]
  },
  {
   "cell_type": "code",
   "execution_count": 17,
   "metadata": {},
   "outputs": [],
   "source": [
    "victims1 = victims.drop('link', axis=1)"
   ]
  },
  {
   "cell_type": "code",
   "execution_count": 18,
   "metadata": {},
   "outputs": [],
   "source": [
    "victims1 = victims1.drop('victim_name', axis=1)"
   ]
  },
  {
   "cell_type": "markdown",
   "metadata": {},
   "source": [
    "Splitting locations to have a better overview on cities"
   ]
  },
  {
   "cell_type": "code",
   "execution_count": 19,
   "metadata": {},
   "outputs": [],
   "source": [
    "victims2 = victims1.join(victims['place'].str.split(',', 1, expand=True).rename(columns={0:'district', 1:'prov_name'}))\n",
    "#city is enough, we can drop district (too granular)"
   ]
  },
  {
   "cell_type": "code",
   "execution_count": 20,
   "metadata": {},
   "outputs": [],
   "source": [
    "victims2 = victims2.drop('district', axis=1)"
   ]
  },
  {
   "cell_type": "code",
   "execution_count": 21,
   "metadata": {},
   "outputs": [],
   "source": [
    "victims2['prov_name'] = victims2['prov_name'].str.lower()"
   ]
  },
  {
   "cell_type": "code",
   "execution_count": 22,
   "metadata": {},
   "outputs": [],
   "source": [
    "victims2 = victims2.drop('place', axis=1)"
   ]
  },
  {
   "cell_type": "code",
   "execution_count": 23,
   "metadata": {},
   "outputs": [
    {
     "data": {
      "text/html": [
       "<div>\n",
       "<style scoped>\n",
       "    .dataframe tbody tr th:only-of-type {\n",
       "        vertical-align: middle;\n",
       "    }\n",
       "\n",
       "    .dataframe tbody tr th {\n",
       "        vertical-align: top;\n",
       "    }\n",
       "\n",
       "    .dataframe thead th {\n",
       "        text-align: right;\n",
       "    }\n",
       "</style>\n",
       "<table border=\"1\" class=\"dataframe\">\n",
       "  <thead>\n",
       "    <tr style=\"text-align: right;\">\n",
       "      <th></th>\n",
       "      <th>age</th>\n",
       "      <th>date</th>\n",
       "      <th>perpetrator</th>\n",
       "      <th>excuse</th>\n",
       "      <th>story</th>\n",
       "      <th>prov_name</th>\n",
       "    </tr>\n",
       "  </thead>\n",
       "  <tbody>\n",
       "    <tr>\n",
       "      <th>0</th>\n",
       "      <td>18.0</td>\n",
       "      <td>31/12/2017</td>\n",
       "      <td>Erkek arkadaşı</td>\n",
       "      <td>Bilinmiyor</td>\n",
       "      <td>Erhan M. adlı kişi, sevgilisi Buket Şişek'i 5....</td>\n",
       "      <td>istanbul</td>\n",
       "    </tr>\n",
       "    <tr>\n",
       "      <th>1</th>\n",
       "      <td>17.0</td>\n",
       "      <td>31/12/2017</td>\n",
       "      <td>Erkek arkadaşı</td>\n",
       "      <td>Kadının ayrılma isteği</td>\n",
       "      <td>19 yaşındaki Furkan K., kendisinden ayrılmak i...</td>\n",
       "      <td>burdur</td>\n",
       "    </tr>\n",
       "    <tr>\n",
       "      <th>2</th>\n",
       "      <td>38.0</td>\n",
       "      <td>30/12/2017</td>\n",
       "      <td>Erkek arkadaşı</td>\n",
       "      <td>Tartışma/ kavga</td>\n",
       "      <td>Tevfik K. adlı kişi, tartışma üzerine sevgilis...</td>\n",
       "      <td>bolu</td>\n",
       "    </tr>\n",
       "    <tr>\n",
       "      <th>3</th>\n",
       "      <td>53.0</td>\n",
       "      <td>27/12/2017</td>\n",
       "      <td>Erkek arkadaşı</td>\n",
       "      <td>Kadının ayrılma isteği</td>\n",
       "      <td>Seyfali Akkoç adlı kişi, bir süredir kendisind...</td>\n",
       "      <td>ankara</td>\n",
       "    </tr>\n",
       "    <tr>\n",
       "      <th>4</th>\n",
       "      <td>22.0</td>\n",
       "      <td>25/12/2017</td>\n",
       "      <td>Kocası</td>\n",
       "      <td>Aldatılma şüphesi</td>\n",
       "      <td>Şeyhmus İ. adlı kişi kendisini aldattığı iddia...</td>\n",
       "      <td>diyarbakir</td>\n",
       "    </tr>\n",
       "    <tr>\n",
       "      <th>...</th>\n",
       "      <td>...</td>\n",
       "      <td>...</td>\n",
       "      <td>...</td>\n",
       "      <td>...</td>\n",
       "      <td>...</td>\n",
       "      <td>...</td>\n",
       "    </tr>\n",
       "    <tr>\n",
       "      <th>1959</th>\n",
       "      <td>24.0</td>\n",
       "      <td>14/01/2010</td>\n",
       "      <td>Akrabası</td>\n",
       "      <td>Erkeğin ayrılma isteğinin reddedilmesi</td>\n",
       "      <td>İddiaya göre Yunus F., eşinin kardeşinin karıs...</td>\n",
       "      <td>ankara</td>\n",
       "    </tr>\n",
       "    <tr>\n",
       "      <th>1960</th>\n",
       "      <td>34.0</td>\n",
       "      <td>12/1/2010</td>\n",
       "      <td>Saldırgan</td>\n",
       "      <td>Erkeğin reddedilmesi/ terk edilmesi</td>\n",
       "      <td>Cezaevindeki iyi hali nedeniyle Adana Adliyesi...</td>\n",
       "      <td>adana</td>\n",
       "    </tr>\n",
       "    <tr>\n",
       "      <th>1961</th>\n",
       "      <td>57.0</td>\n",
       "      <td>12/1/2010</td>\n",
       "      <td>Erkek kardeşi</td>\n",
       "      <td>Bilinmiyor</td>\n",
       "      <td>48 yaşındaki Yusuf D., evine gelen ablası Alim...</td>\n",
       "      <td>kutahya</td>\n",
       "    </tr>\n",
       "    <tr>\n",
       "      <th>1962</th>\n",
       "      <td>34.0</td>\n",
       "      <td>11/1/2010</td>\n",
       "      <td>Erkek arkadaşı</td>\n",
       "      <td>Bilinmiyor</td>\n",
       "      <td>26 yaşındaki Uzman Onbaşı Harun Ceylan, sevgil...</td>\n",
       "      <td>adana</td>\n",
       "    </tr>\n",
       "    <tr>\n",
       "      <th>1963</th>\n",
       "      <td>NaN</td>\n",
       "      <td>3/1/2010</td>\n",
       "      <td>Kocası</td>\n",
       "      <td>Aldatılma şüphesi</td>\n",
       "      <td>Habip Keklik adlı kişi, kendisini aldattığını ...</td>\n",
       "      <td>bitlis</td>\n",
       "    </tr>\n",
       "  </tbody>\n",
       "</table>\n",
       "<p>1964 rows × 6 columns</p>\n",
       "</div>"
      ],
      "text/plain": [
       "       age        date     perpetrator  \\\n",
       "0     18.0  31/12/2017  Erkek arkadaşı   \n",
       "1     17.0  31/12/2017  Erkek arkadaşı   \n",
       "2     38.0  30/12/2017  Erkek arkadaşı   \n",
       "3     53.0  27/12/2017  Erkek arkadaşı   \n",
       "4     22.0  25/12/2017          Kocası   \n",
       "...    ...         ...             ...   \n",
       "1959  24.0  14/01/2010        Akrabası   \n",
       "1960  34.0   12/1/2010       Saldırgan   \n",
       "1961  57.0   12/1/2010   Erkek kardeşi   \n",
       "1962  34.0   11/1/2010  Erkek arkadaşı   \n",
       "1963   NaN    3/1/2010          Kocası   \n",
       "\n",
       "                                      excuse  \\\n",
       "0                                 Bilinmiyor   \n",
       "1                     Kadının ayrılma isteği   \n",
       "2                            Tartışma/ kavga   \n",
       "3                     Kadının ayrılma isteği   \n",
       "4                          Aldatılma şüphesi   \n",
       "...                                      ...   \n",
       "1959  Erkeğin ayrılma isteğinin reddedilmesi   \n",
       "1960     Erkeğin reddedilmesi/ terk edilmesi   \n",
       "1961                              Bilinmiyor   \n",
       "1962                              Bilinmiyor   \n",
       "1963                       Aldatılma şüphesi   \n",
       "\n",
       "                                                  story    prov_name  \n",
       "0     Erhan M. adlı kişi, sevgilisi Buket Şişek'i 5....     istanbul  \n",
       "1     19 yaşındaki Furkan K., kendisinden ayrılmak i...       burdur  \n",
       "2     Tevfik K. adlı kişi, tartışma üzerine sevgilis...         bolu  \n",
       "3     Seyfali Akkoç adlı kişi, bir süredir kendisind...       ankara  \n",
       "4     Şeyhmus İ. adlı kişi kendisini aldattığı iddia...   diyarbakir  \n",
       "...                                                 ...          ...  \n",
       "1959  İddiaya göre Yunus F., eşinin kardeşinin karıs...       ankara  \n",
       "1960  Cezaevindeki iyi hali nedeniyle Adana Adliyesi...        adana  \n",
       "1961  48 yaşındaki Yusuf D., evine gelen ablası Alim...      kutahya  \n",
       "1962  26 yaşındaki Uzman Onbaşı Harun Ceylan, sevgil...        adana  \n",
       "1963  Habip Keklik adlı kişi, kendisini aldattığını ...       bitlis  \n",
       "\n",
       "[1964 rows x 6 columns]"
      ]
     },
     "execution_count": 23,
     "metadata": {},
     "output_type": "execute_result"
    }
   ],
   "source": [
    "victims2"
   ]
  },
  {
   "cell_type": "markdown",
   "metadata": {},
   "source": [
    "Translate from Turkish "
   ]
  },
  {
   "cell_type": "code",
   "execution_count": 24,
   "metadata": {},
   "outputs": [
    {
     "data": {
      "text/plain": [
       "array(['Erkek arkadaşı', 'Kocası', 'Oğlu', 'Eski kocası',\n",
       "       'Tanıdığı bir erkek', 'Babası', 'Diğer yakını',\n",
       "       'Dini nikahlı kocası', 'Üvey oğlu', 'Erkek kardeşi',\n",
       "       'Eski erkek arkadaşı', 'Akrabası', 'Damadı', 'Saldırgan',\n",
       "       'Dini nikahlı eski kocası', 'Kayınpederi'], dtype=object)"
      ]
     },
     "execution_count": 24,
     "metadata": {},
     "output_type": "execute_result"
    }
   ],
   "source": [
    "victims2['perpetrator'].unique()"
   ]
  },
  {
   "cell_type": "code",
   "execution_count": 25,
   "metadata": {},
   "outputs": [],
   "source": [
    "translations = {\n",
    "        'Erkek arkadaşı':'boyfriend',\n",
    "        'Kocası':'husband',\n",
    "        'Oğlu':'son',\n",
    "        'Eski kocası':'ex-husband',\n",
    "        'Tanıdığı bir erkek':'known man',\n",
    "        'Babası':'father',\n",
    "        'Diğer yakını':'other relative',\n",
    "        'Dini nikahlı kocası':'religiously-married husband',\n",
    "        'Üvey oğlu':'step-son',\n",
    "        'Erkek kardeşi':'brother',\n",
    "        'Eski erkek arkadaşı':'ex-boyfriend',\n",
    "        'Akrabası':'relative',\n",
    "        'Damadı':'fiancè',\n",
    "        'Saldırgan':'attacker', \n",
    "        'Dini nikahlı eski kocası':'religiously married ex-husband', \n",
    "        'Kayınpederi':'father-in-law'\n",
    "    }\n",
    "\n",
    "victims2['perpetrator_en'] = victims2['perpetrator'].replace(translations)"
   ]
  },
  {
   "cell_type": "markdown",
   "metadata": {},
   "source": [
    "Remapping perpetratore categories"
   ]
  },
  {
   "cell_type": "code",
   "execution_count": 26,
   "metadata": {},
   "outputs": [],
   "source": [
    "remapping_perpetrator = {\n",
    "        'boyfriend': ['boyfriend'],\n",
    "        'partner':['fiancè','husband','religiously-married husband'],\n",
    "        'son':['son', 'step-son'],\n",
    "        'known man': ['known man'],\n",
    "        'father':['father'],\n",
    "        'relative':['other relative','relative'],\n",
    "        'brother':['brother'],\n",
    "        'attacker':['attacker'],\n",
    "        'ex-partner':['ex-husband','religiously married ex-husband', 'ex-boyfriend'],\n",
    "        'father-in-law':['father-in-law']\n",
    "    }\n",
    "victims2['perpetrator_en_new'] = victims2['perpetrator_en'].map(lambda x: next((k for k, v in remapping_perpetrator.items() if x in v), None))"
   ]
  },
  {
   "cell_type": "code",
   "execution_count": 27,
   "metadata": {},
   "outputs": [],
   "source": [
    "victims2 = victims2.drop('perpetrator', axis=1)\n"
   ]
  },
  {
   "cell_type": "code",
   "execution_count": 28,
   "metadata": {},
   "outputs": [],
   "source": [
    "victims2 =victims2.drop('perpetrator_en', axis=1)"
   ]
  },
  {
   "cell_type": "code",
   "execution_count": 29,
   "metadata": {},
   "outputs": [
    {
     "data": {
      "text/html": [
       "<div>\n",
       "<style scoped>\n",
       "    .dataframe tbody tr th:only-of-type {\n",
       "        vertical-align: middle;\n",
       "    }\n",
       "\n",
       "    .dataframe tbody tr th {\n",
       "        vertical-align: top;\n",
       "    }\n",
       "\n",
       "    .dataframe thead th {\n",
       "        text-align: right;\n",
       "    }\n",
       "</style>\n",
       "<table border=\"1\" class=\"dataframe\">\n",
       "  <thead>\n",
       "    <tr style=\"text-align: right;\">\n",
       "      <th></th>\n",
       "      <th>age</th>\n",
       "      <th>date</th>\n",
       "      <th>excuse</th>\n",
       "      <th>story</th>\n",
       "      <th>prov_name</th>\n",
       "      <th>perp_cat</th>\n",
       "    </tr>\n",
       "  </thead>\n",
       "  <tbody>\n",
       "    <tr>\n",
       "      <th>0</th>\n",
       "      <td>18.0</td>\n",
       "      <td>31/12/2017</td>\n",
       "      <td>Bilinmiyor</td>\n",
       "      <td>Erhan M. adlı kişi, sevgilisi Buket Şişek'i 5....</td>\n",
       "      <td>istanbul</td>\n",
       "      <td>boyfriend</td>\n",
       "    </tr>\n",
       "    <tr>\n",
       "      <th>1</th>\n",
       "      <td>17.0</td>\n",
       "      <td>31/12/2017</td>\n",
       "      <td>Kadının ayrılma isteği</td>\n",
       "      <td>19 yaşındaki Furkan K., kendisinden ayrılmak i...</td>\n",
       "      <td>burdur</td>\n",
       "      <td>boyfriend</td>\n",
       "    </tr>\n",
       "    <tr>\n",
       "      <th>2</th>\n",
       "      <td>38.0</td>\n",
       "      <td>30/12/2017</td>\n",
       "      <td>Tartışma/ kavga</td>\n",
       "      <td>Tevfik K. adlı kişi, tartışma üzerine sevgilis...</td>\n",
       "      <td>bolu</td>\n",
       "      <td>boyfriend</td>\n",
       "    </tr>\n",
       "    <tr>\n",
       "      <th>3</th>\n",
       "      <td>53.0</td>\n",
       "      <td>27/12/2017</td>\n",
       "      <td>Kadının ayrılma isteği</td>\n",
       "      <td>Seyfali Akkoç adlı kişi, bir süredir kendisind...</td>\n",
       "      <td>ankara</td>\n",
       "      <td>boyfriend</td>\n",
       "    </tr>\n",
       "    <tr>\n",
       "      <th>4</th>\n",
       "      <td>22.0</td>\n",
       "      <td>25/12/2017</td>\n",
       "      <td>Aldatılma şüphesi</td>\n",
       "      <td>Şeyhmus İ. adlı kişi kendisini aldattığı iddia...</td>\n",
       "      <td>diyarbakir</td>\n",
       "      <td>partner</td>\n",
       "    </tr>\n",
       "    <tr>\n",
       "      <th>...</th>\n",
       "      <td>...</td>\n",
       "      <td>...</td>\n",
       "      <td>...</td>\n",
       "      <td>...</td>\n",
       "      <td>...</td>\n",
       "      <td>...</td>\n",
       "    </tr>\n",
       "    <tr>\n",
       "      <th>1959</th>\n",
       "      <td>24.0</td>\n",
       "      <td>14/01/2010</td>\n",
       "      <td>Erkeğin ayrılma isteğinin reddedilmesi</td>\n",
       "      <td>İddiaya göre Yunus F., eşinin kardeşinin karıs...</td>\n",
       "      <td>ankara</td>\n",
       "      <td>relative</td>\n",
       "    </tr>\n",
       "    <tr>\n",
       "      <th>1960</th>\n",
       "      <td>34.0</td>\n",
       "      <td>12/1/2010</td>\n",
       "      <td>Erkeğin reddedilmesi/ terk edilmesi</td>\n",
       "      <td>Cezaevindeki iyi hali nedeniyle Adana Adliyesi...</td>\n",
       "      <td>adana</td>\n",
       "      <td>attacker</td>\n",
       "    </tr>\n",
       "    <tr>\n",
       "      <th>1961</th>\n",
       "      <td>57.0</td>\n",
       "      <td>12/1/2010</td>\n",
       "      <td>Bilinmiyor</td>\n",
       "      <td>48 yaşındaki Yusuf D., evine gelen ablası Alim...</td>\n",
       "      <td>kutahya</td>\n",
       "      <td>brother</td>\n",
       "    </tr>\n",
       "    <tr>\n",
       "      <th>1962</th>\n",
       "      <td>34.0</td>\n",
       "      <td>11/1/2010</td>\n",
       "      <td>Bilinmiyor</td>\n",
       "      <td>26 yaşındaki Uzman Onbaşı Harun Ceylan, sevgil...</td>\n",
       "      <td>adana</td>\n",
       "      <td>boyfriend</td>\n",
       "    </tr>\n",
       "    <tr>\n",
       "      <th>1963</th>\n",
       "      <td>NaN</td>\n",
       "      <td>3/1/2010</td>\n",
       "      <td>Aldatılma şüphesi</td>\n",
       "      <td>Habip Keklik adlı kişi, kendisini aldattığını ...</td>\n",
       "      <td>bitlis</td>\n",
       "      <td>partner</td>\n",
       "    </tr>\n",
       "  </tbody>\n",
       "</table>\n",
       "<p>1964 rows × 6 columns</p>\n",
       "</div>"
      ],
      "text/plain": [
       "       age        date                                  excuse  \\\n",
       "0     18.0  31/12/2017                              Bilinmiyor   \n",
       "1     17.0  31/12/2017                  Kadının ayrılma isteği   \n",
       "2     38.0  30/12/2017                         Tartışma/ kavga   \n",
       "3     53.0  27/12/2017                  Kadının ayrılma isteği   \n",
       "4     22.0  25/12/2017                       Aldatılma şüphesi   \n",
       "...    ...         ...                                     ...   \n",
       "1959  24.0  14/01/2010  Erkeğin ayrılma isteğinin reddedilmesi   \n",
       "1960  34.0   12/1/2010     Erkeğin reddedilmesi/ terk edilmesi   \n",
       "1961  57.0   12/1/2010                              Bilinmiyor   \n",
       "1962  34.0   11/1/2010                              Bilinmiyor   \n",
       "1963   NaN    3/1/2010                       Aldatılma şüphesi   \n",
       "\n",
       "                                                  story    prov_name  \\\n",
       "0     Erhan M. adlı kişi, sevgilisi Buket Şişek'i 5....     istanbul   \n",
       "1     19 yaşındaki Furkan K., kendisinden ayrılmak i...       burdur   \n",
       "2     Tevfik K. adlı kişi, tartışma üzerine sevgilis...         bolu   \n",
       "3     Seyfali Akkoç adlı kişi, bir süredir kendisind...       ankara   \n",
       "4     Şeyhmus İ. adlı kişi kendisini aldattığı iddia...   diyarbakir   \n",
       "...                                                 ...          ...   \n",
       "1959  İddiaya göre Yunus F., eşinin kardeşinin karıs...       ankara   \n",
       "1960  Cezaevindeki iyi hali nedeniyle Adana Adliyesi...        adana   \n",
       "1961  48 yaşındaki Yusuf D., evine gelen ablası Alim...      kutahya   \n",
       "1962  26 yaşındaki Uzman Onbaşı Harun Ceylan, sevgil...        adana   \n",
       "1963  Habip Keklik adlı kişi, kendisini aldattığını ...       bitlis   \n",
       "\n",
       "       perp_cat  \n",
       "0     boyfriend  \n",
       "1     boyfriend  \n",
       "2     boyfriend  \n",
       "3     boyfriend  \n",
       "4       partner  \n",
       "...         ...  \n",
       "1959   relative  \n",
       "1960   attacker  \n",
       "1961    brother  \n",
       "1962  boyfriend  \n",
       "1963    partner  \n",
       "\n",
       "[1964 rows x 6 columns]"
      ]
     },
     "execution_count": 29,
     "metadata": {},
     "output_type": "execute_result"
    }
   ],
   "source": [
    "victims2.rename(columns={'perpetrator_en_new': 'perp_cat'})"
   ]
  },
  {
   "cell_type": "markdown",
   "metadata": {},
   "source": [
    "Decided to drop the stories altogether"
   ]
  },
  {
   "cell_type": "code",
   "execution_count": 30,
   "metadata": {},
   "outputs": [],
   "source": [
    "victims2= victims2.drop('story', axis=1)"
   ]
  },
  {
   "cell_type": "markdown",
   "metadata": {},
   "source": [
    "Translating the excuse"
   ]
  },
  {
   "cell_type": "code",
   "execution_count": 31,
   "metadata": {},
   "outputs": [],
   "source": [
    "#victims2['excuse'].unique()"
   ]
  },
  {
   "cell_type": "code",
   "execution_count": 32,
   "metadata": {},
   "outputs": [],
   "source": [
    "#from google_trans_new import google_translator  \n",
    "#translator = google_translator()  \n",
    "#translations = {}\n",
    "#for column in victims2.columns:\n",
    "    # unique elements of the column\n",
    " #   unique_elements = victims2[column].unique()\n",
    "  #  for element in unique_elements:\n",
    "        # add translation to the dictionary\n",
    "         #time.sleep(10)\n",
    "      #  translations[element] = translator.translate(element)\n",
    "    \n",
    "#print(translations[5])"
   ]
  },
  {
   "cell_type": "markdown",
   "metadata": {},
   "source": [
    "Getting a too many requests error from google translate API, translating the excuse with a simple map"
   ]
  },
  {
   "cell_type": "code",
   "execution_count": 33,
   "metadata": {},
   "outputs": [],
   "source": [
    "translations_excuses= {\n",
    "        'Bilinmiyor':'Unknown',\n",
    "'Kadının ayrılma isteği':'The womans desire to leave',\n",
    "'Tartışma/ kavga':' Argument / fight',\n",
    "'Aldatılma şüphesi':'Suspicion of being deceived',\n",
    "'Erkeğin barışma isteğinin reddedilmesi':'Refusing the mans request for reconciliation',\n",
    "'Maddi kaynaklı':'Financially sourced',\n",
    "'Diğer, Erkeğin \"erkekliği\"':'Other, the man s manhood',\n",
    "'Diğer, Psikolojik sorun':'Other Psychological problem',\n",
    "'Erkeğin reddedilmesi/ terk edilmesi':'The rejection / abandonment of the man',\n",
    "'Kaza iddiası':'Accident claim',\n",
    "'Dolaylı':'Indirect',\n",
    "'Kadının karar ve tercihlerine ilişkin, Kadının seks işçiliğine karşı direnmesi':'Regarding the decisions and preferences of women womens resistance to sex work',\n",
    "'Kadının boşanma isteği':'The womans desire for divorce',\n",
    "'Namus/ töre':'Honor',\n",
    "'Kadının karar ve tercihlerine ilişkin, Kadının dedikodu yapması':'The womans gossip about the womans decisions and preferences',\n",
    "'Kıskançlık':'Jealousy',\n",
    "'Cinsel saldırı':'Sexual assault',\n",
    "'Diğer, Başka bir olaydan kadını sorumlu tutma':'Other holding a woman responsible for another incident',\n",
    "'Kadının karar ve tercihlerine ilişkin, Kadının hakaret etmesi':'Regarding the womans decisions and preferences the womans insulting',\n",
    "'Kadının karar ve tercihlerine ilişkin, Kadının erkekten içki içmemesini istemesi':'Regarding the womans decisions and preferences the womans asking the man not to drink alcohol',\n",
    "'Kadının karar ve tercihlerine ilişkin, Kadının sosyal medya hesabı':'Womens social media account regarding the decisions and preferences of the woman',\n",
    "'Diğer, Yönlendirme':'Other Routing',\n",
    "'Çocuk/ velayet kaynaklı':'Child / custody sourced',\n",
    "'Kadının karar ve tercihlerine ilişkin, Kadının erkeğin ilişkisini onaylamaması':'Regarding the womans decisions and preferences the womans disapproval of the mans relationship',\n",
    "'Kadının karar ve tercihlerine ilişkin, Kadının evden ayrılmak istemesi':'Regarding the womans decisions and preferences the womans willingness to leave the house',\n",
    "'Hırsızlık':'Theft',\n",
    "'Erkeğin hizmet beklentisi, Kadının yemeğe salça koyması':'Male service expectation Woman putting tomato paste in food',\n",
    "'Erkeğin ayrılma isteğinin reddedilmesi':'Refusal of a mans request to leave',\n",
    "'Kadının karar ve tercihlerine ilişkin, Erkeğin kadının işini onaylamaması':'Regarding the womans decisions and preferences the mans disapproval of the womans job',\n",
    "'Kadının karar ve tercihlerine ilişkin, Erkeğin kadının ilişkisini onaylamaması':'Regarding the womans decisions and preferences the mans disapproval of the womans relationship',\n",
    "'Kadının karar ve tercihlerine ilişkin, Kadının erkeğin tacizini ifşa etmesi':'Regarding the decisions and preferences of the woman the womans disclosure of the harassment of the man',\n",
    "'Diğer, Erkeğe vahiy gelmesi':'The other is the coming of revelation to the man',\n",
    "'Diğer, Erkeğe cinayeti cinlerin söylemesi':'Other the murder of the man is told by the jinn',\n",
    "'Cinsiyet kimliği':'Gender identity',\n",
    "'Kadının karar ve tercihlerine ilişkin, Kadının telefon şifresini söylememesi':'Regarding the womans decisions and preferences the womans not saying her phone password',\n",
    "'Kadının karar ve tercihlerine ilişkin, Kadının abisinde kalması':'Regarding the decisions and preferences of the woman the woman should remain in her brother',\n",
    "'Diğer, Erkeğin sinirlerine hakim olamaması':'The other is that the man cannot control his nerves',\n",
    "'Diğer, Erkeğin uyuşturucunun etkisine girmesi':'The other is that the man is under the influence of drugs',\n",
    "'Kadının karar ve tercihlerine ilişkin, Kadının ailesinde kalmak istemesi':'Regarding the womans decisions and preferences the womans willingness to stay in her family',\n",
    "'Diğer, Erkeğin cinayetle suçlanması':'The other is that the man is accused of murder',\n",
    "'Kadının karar ve tercihlerine ilişkin, Kadının kardeşini koruması':'Regarding the womans decisions and preferences Womans protection of her brother',\n",
    "'Diğer, Kadının uykusunda erkeğe saldırması':'Other a woman attacking a man in her sleep',\n",
    "'Kadının karar ve tercihlerine ilişkin, Kadının telefonda çok konuşması':'Women talking a lot on the phone regarding the decisions and preferences of the woman',\n",
    "'Kadının karar ve tercihlerine ilişkin, Kadının erkeği şikayet etmesi':'Regarding the womans decisions and preferences Womans complaint against the man',\n",
    "'Kadının karar ve tercihlerine ilişkin, Kadının boşandığı eşine dönmesi':'Regarding the womans decisions and preferences the womans return to her divorced spouse',\n",
    "'Kadının karar ve tercihlerine ilişkin, Kadının sık sevgili değiştirmesi':'Regarding the womans decisions and preferences the womans frequent change of lovers',\n",
    "'Kadının karar ve tercihlerine ilişkin, Kadının geç saatlere kadar gezmesi':'Regarding the womans decisions and preferences Womans traveling until late hours',\n",
    "'Diğer, Erkeğin bunalması':'Other the man is overwhelmed',\n",
    "'Kadının karar ve tercihlerine ilişkin, Kadının erkeği rezil edeceğini söylemesi':'Regarding the womans decisions and preferences the womans saying that she will disgrace the man',\n",
    "'Diğer, Erkeğin gürültüden rahatsız olması':'The other is that the man is disturbed by the noise',\n",
    "'Kadının karar ve tercihlerine ilişkin, Kadının yurttan kaçması':'Regarding the womans decisions and preferences Womans escape from the dormitory',\n",
    "'Diğer, Erkeğin söylediği yalanın ortaya çıkması':'The other is the disclosure of the lie that the man told',\n",
    "'Erkeğin hizmet beklentisi, Kadının su vermemesi':'Male service expectation Woman not giving water',\n",
    "'Kadının karar ve tercihlerine ilişkin, Kadının kızına aldığı elbisenin etek boyu':'Regarding the decisions and preferences of the woman the skirt length of the dress the woman bought for her daughter',\n",
    "'Diğer, Kadının telefonuna mesaj gelmesi':'Other a message on the womans phone',\n",
    "'Erkeğin hizmet beklentisi, Kadının erkeğin derdini dinlememesi':'Male service expectation Woman not listening to mans troubles',\n",
    "'Diğer, Cinsiyet':'Other Gender',\n",
    "'Erkeğin hizmet beklentisi, Kadının yemek hazırlamaması':'Male service expectation Woman not preparing food',\n",
    "'Kadının karar ve tercihlerine ilişkin, Kadının saçını kızıla boyatması':'Regarding the womans decisions and preferences the woman dying her hair red',\n",
    "'Kadının karar ve tercihlerine ilişkin, Kadının yaptırdığı dövme':'A tattoo made by the woman regarding the decisions and preferences of the woman',\n",
    "'Erkeğin hizmet beklentisi, Kadının çamaşır yıkamaması':'Male service expectation Woman not washing clothes',\n",
    "'Erkeğin hizmet beklentisi, Kadının erkeğin annesini seyrek ziyaret etmesi':'Male service expectation Womans frequent visits to her mother',\n",
    "'Kadının karar ve tercihlerine ilişkin, Kadının gülmesi':'Regarding the decisions and preferences of the woman the laugh of the woman',\n",
    "'Kadının karar ve tercihlerine ilişkin, Kadının ülkesine dönme isteği':'Regarding the decisions and preferences of the woman the desire of the woman to return to her country',\n",
    "'Diğer, Erkeğin kuma getirme isteğinin reddedilmesi':'Other refusal of the mans request to bring it to the sand',\n",
    "'Diğer, Erkeğe evliliğin zor gelmesi':'Other it is difficult to get married to a man',\n",
    "'Diğer, Kadının evlenme isteği':'Other the womans desire to marry',\n",
    "'Kadının karar ve tercihlerine ilişkin, Kadının akrabalarıyla görüşmesi':'The womans meeting with her relatives regarding the womans decisions and preferences',\n",
    "'Kadının karar ve tercihlerine ilişkin, Kadının erkeğin kardeşine yardım etmesi':'Regarding the womans decisions and preferences the woman helping the mans brother',\n",
    "'Erkeğin hizmet beklentisi, Kadının erkek çocuk doğurmaması':'Male service expectation Woman not giving birth to male children',\n",
    "'Kadının karar ve tercihlerine ilişkin, Kadının nafaka talebi':'Regarding the womans decisions and preferences the womans alimony request',\n",
    "'Erkeğin hizmet beklentisi, Kadının erkeğe ilgi göstermemesi':'Male service expectation Woman not showing interest in men',\n",
    "'Kadının karar ve tercihlerine ilişkin, Kadının otomobil istemesi':'Regarding the womans decisions and preferences the womans request for a car',\n",
    "'Kadının karar ve tercihlerine ilişkin, Kadının elbise istemesi':'Regarding the womans decisions and preferences the womans request for a dress',\n",
    "'Kadının karar ve tercihlerine ilişkin, Kadının çocuğu dövmesi':'Regarding the womans decisions and preferences Womans tattooing the child',\n",
    "'Diğer, Kan davası':'Other Blood feud',\n",
    "'Diğer, Erkeğin gıcık olması':'The other is that the man is annoyed',\n",
    "'Kadının karar ve tercihlerine ilişkin, Kadının aleyhte tanıklık yapması':'The womans testimony against the womans decisions and preferences',\n",
    "'Kadının karar ve tercihlerine ilişkin, Kadının eve geç gelmesi':'Regarding the womans decisions and preferences Woman coming home late',\n",
    "'Erkeğin hizmet beklentisi, Kadının patates köfte yapmaması':'Male service expectation Woman not making potato meatballs',\n",
    "'Diğer, Sebepsiz':'Other No Reason',\n",
    "'Kadının karar ve tercihlerine ilişkin, Kadının küsmesi':'Regarding the decisions and preferences of the woman Woman being offended',\n",
    "'Kadının karar ve tercihlerine ilişkin, Kadının yazlık ev istemesi':'Regarding the womans decisions and preferences the womans request for a summer house',\n",
    "'Erkeğin hizmet beklentisi, Kadının çocuk sahibi olmaması':'Male service expectation Woman not having children',\n",
    "'Erkeğin hizmet beklentisi, Kadının erkeğe iyi bakmaması':'Male service expectation Woman not taking good care of men',\n",
    "'Erkeğin hizmet beklentisi, Kadının evi kirletmesi':'Male service expectation Woman polluting the house',\n",
    "'Erkeğin boşanma isteğinin reddedilmesi':'The rejection of a mans divorce request',\n",
    "'Kadının karar ve tercihlerine ilişkin, Kadının aracı yanlış yönlendirmesi':'Woman misleads the tool regarding the decisions and preferences of the woman',\n",
    "'Diğer, Çocuğun yemek yememesi':'Other If the child does not eat',\n",
    "'Erkeğin hizmet beklentisi, Kadının tuzluğu uzatmaması':'Male service expectation Woman not extending the salt shaker',\n",
    "'Erkeğin kadının işini onaylamaması':'The man does not approve of the womans job',\n",
    "'Erkeğin hizmet beklentisi, Kadının yemeği geç hazırlaması':'Male service expectation Woman preparing dinner late',\n",
    "'Erkeğin hizmet beklentisi, Kadının ev işlerini yapmaması':'Male service expectation Woman not doing housework',\n",
    "'Erkeğin hizmet beklentisi, Kadının sabah erkeği uyandırmaması':'Male service expectation Woman not waking up the man in the morning',\n",
    "'Kadının karar ve tercihlerine ilişkin, Kadının yeni elbise alması':'Regarding the womans decisions and preferences the womans buying new clothes',\n",
    "'Kadının karar ve tercihlerine ilişkin, Kadının başörtüsü takmak istememesi':'Regarding the womans decisions and preferences the woman does not want to wear a headscarf',\n",
    "'Erkeğin hizmet beklentisi, Kadının koyunları otlatmaması':'Male service expectation woman not grazing sheep',\n",
    "'Kadının karar ve tercihlerine ilişkin, Kadının oğlunda kalma isteği':'Regarding the womans decisions and preferences the womans desire to stay with her son',\n",
    " }\n",
    "\n",
    "victims2['excuse_en'] = victims2['excuse'].replace(translations_excuses)"
   ]
  },
  {
   "cell_type": "code",
   "execution_count": 34,
   "metadata": {},
   "outputs": [
    {
     "data": {
      "text/plain": [
       "98"
      ]
     },
     "execution_count": 34,
     "metadata": {},
     "output_type": "execute_result"
    }
   ],
   "source": [
    "len(victims2['excuse_en'].unique())"
   ]
  },
  {
   "cell_type": "markdown",
   "metadata": {},
   "source": [
    "# b. Remapping\n",
    "After translations, I have realized there are too many categories for the excuses given for the femicides. I will cluster them in fewer buckets.\n",
    "\n",
    "The main categories of excuses seem to be:\n",
    "- Unknown\n",
    "- Psychological issue\n",
    "- Money Problems\n",
    "- Woman quest for freedom (i.e. leaving the household, asking for divorce, etc.)\n",
    "- Indirect\n",
    "- Household expectations (i.e. not waking up the man, preparing dinner late, \n",
    "- Body expectations (i.e. not having children, "
   ]
  },
  {
   "cell_type": "code",
   "execution_count": 35,
   "metadata": {},
   "outputs": [],
   "source": [
    "remapping_excuses = {\n",
    "        'Children':['Child / custody sourced',\n",
    "                    'Other If the child does not eat',\n",
    "                    'Regarding the womans decisions and preferences the womans desire to stay with her son'],\n",
    "        'Fight':['Other holding a woman responsible for another incident'],\n",
    "        'Household service expectations':['Male service expectation Woman putting tomato paste in food',\n",
    "                                          'Male service expectation Woman not giving water',\n",
    "                                          'Male service expectation Woman not preparing food',\n",
    "                                          'Male service expectation',\n",
    "                                          'Woman not washing clothes',\n",
    "                                          'Male service expectation Woman not extending the salt shaker',\n",
    "                                          'Male service expectation Woman preparing dinner late',\n",
    "                                          'Male service expectation Woman not doing housework',\n",
    "                                          'Male service expectation Woman not waking up the man in the morning',\n",
    "                                         'Male service expectation woman not grazing sheep',\n",
    "                                         'Male service expectation Woman not making potato meatballs',\n",
    "                                         'Male service expectation Woman not washing clothes'],\n",
    "        'Male service expectations':['Male service expectation Woman not listening to mans troubles',\n",
    "                                     'Male service expectation Womans frequent visits to her mother',\n",
    "                                     'Male service expectation Woman not giving birth to male children',\n",
    "                                     'Male service expectation Woman not showing interest in men',\n",
    "                                     'Male service expectation Woman not having children',\n",
    "                                     'Male service expectation Woman polluting the house',\n",
    "                                     'The man does not approve of the womans job',\n",
    "                                    'The other is that the man is annoyed'],\n",
    "        'Masculinity&Honor':['Other, the man s manhood',\n",
    "                             'Honor',\n",
    "                             'Jealousy',\n",
    "                             'Refusal of a mans request to leave',\n",
    "                             'Other the man is overwhelmed',\n",
    "                             'Other a message on the womans phone',\n",
    "                             'Male service expectation Woman not taking good care of men',\n",
    "                            'The other is that the man cannot control his nerves'],\n",
    "        'Other':[' Argument / fight','Financially sourced',\n",
    "                 'Other Psychological problem',\n",
    "                 'Accident claim',\n",
    "                 'Other Routing',\n",
    "                 'The other is the coming of revelation to the man',\n",
    "                 'The other is that the man is under the influence of drugs',\n",
    "                 'The other is that the man is accused of murder',\n",
    "                 'The other is that the man is disturbed by the noise',\n",
    "                 'The other is the disclosure of the lie that the man told',\n",
    "                'Other Gender',\n",
    "                 'Other refusal of the mans request to bring it to the sand',\n",
    "                 'Other it is difficult to get married to a man',\n",
    "                 'Other Blood feud',\n",
    "                 'Other No Reason','Theft','Indirect'],\n",
    "        'Separation & Jealousy':['Refusing the mans request for reconciliation',\n",
    "                                 'The womans desire to leave',\n",
    "                                 'Suspicion of being deceived',\n",
    "                                 'The rejection / abandonment of the man',\n",
    "                                 'Regarding the womans decisions and preferences the womans disapproval of the mans relationship',\n",
    "                                 'Regarding the womans decisions and preferences the womans return to her divorced spouse',\n",
    "                                 'The rejection of a mans divorce request',\n",
    "                                'The womans desire for divorce',\n",
    "                                'Regarding the womans decisions and preferences the womans willingness to leave the house'],\n",
    "        'Sexual expectation':['Regarding the decisions and preferences of women womens resistance to sex work',\n",
    "                              'Sexual assault',\n",
    "                              'Other a woman attacking a man in her sleep'],\n",
    "        'Unknown':['Unknown'],\n",
    "        'Woman Decision and Preferences':['The womans gossip about the womans decisions and preferences',\n",
    "                                        'Regarding the womans decisions and preferences the womans insulting',\n",
    "                                        'Regarding the womans decisions and preferences the womans asking the man not to drink alcohol',\n",
    "                                        'Womens social media account regarding the decisions and preferences of the woman',\n",
    "                                        'Regarding the womans decisions and preferences the mans disapproval of the womans job',\n",
    "                                        'Regarding the womans decisions and preferences the mans disapproval of the womans relationship',\n",
    "                                        'Regarding the decisions and preferences of the woman the womans disclosure of the harassment of the man',\n",
    "                                        'Other the murder of the man is told by the jinn',\n",
    "                                        'Gender identity',\n",
    "                                        'Regarding the womans decisions and preferences the womans not saying her phone password',\n",
    "                                        'Regarding the decisions and preferences of the woman the woman should remain in her brother',\n",
    "                                        'Regarding the womans decisions and preferences the womans willingness to stay in her family',\n",
    "                                        'Regarding the womans decisions and preferences Womans protection of her brother',\n",
    "                                        'Women talking a lot on the phone regarding the decisions and preferences of the woman',\n",
    "                                        'Regarding the womans decisions and preferences Womans complaint against the man',\n",
    "                                        'Regarding the womans decisions and preferences the womans frequent change of lovers',\n",
    "                                        'Regarding the womans decisions and preferences Womans traveling until late hours',\n",
    "                                        'Regarding the womans decisions and preferences the womans saying that she will disgrace the man',\n",
    "                                        'Regarding the womans decisions and preferences Womans escape from the dormitory',\n",
    "                                        'Regarding the decisions and preferences of the woman the skirt length of the dress the woman bought for her daughter',\n",
    "                                        'Regarding the womans decisions and preferences the woman dying her hair red',\n",
    "                                        'A tattoo made by the woman regarding the decisions and preferences of the woman',\n",
    "                                        'Regarding the decisions and preferences of the woman the laugh of the woman',\n",
    "                                        'Regarding the decisions and preferences of the woman the desire of the woman to return to her country',\n",
    "                                        'Other the womans desire to marry',\n",
    "                                        'The womans meeting with her relatives regarding the womans decisions and preferences',\n",
    "                                        'Regarding the womans decisions and preferences the woman helping the mans brother',\n",
    "                                        'Regarding the womans decisions and preferences the womans alimony request',\n",
    "                                        'Regarding the womans decisions and preferences the womans request for a car',\n",
    "                                        'Regarding the womans decisions and preferences the womans request for a dress',\n",
    "                                        'Regarding the womans decisions and preferences Womans tattooing the child',\n",
    "                                        'The womans testimony against the womans decisions and preferences',\n",
    "                                        'Regarding the womans decisions and preferences Woman coming home late',\n",
    "                                        'Regarding the decisions and preferences of the woman Woman being offended',\n",
    "                                        'Regarding the womans decisions and preferences the womans request for a summer house',\n",
    "                                        'Woman misleads the tool regarding the decisions and preferences of the woman',\n",
    "                                        'Regarding the womans decisions and preferences the womans buying new clothes',\n",
    "                                        'Regarding the womans decisions and preferences the woman does not want to wear a headscarf']\n",
    "    }\n",
    "victims2['excuses_cat'] = victims2['excuse_en'].map(lambda x: next((k for k, v in remapping_excuses.items() if x in v), None))"
   ]
  },
  {
   "cell_type": "markdown",
   "metadata": {},
   "source": [
    "Dropping old excuses column"
   ]
  },
  {
   "cell_type": "code",
   "execution_count": 36,
   "metadata": {},
   "outputs": [],
   "source": [
    "victims2 = victims2.drop('excuse', axis=1)"
   ]
  },
  {
   "cell_type": "code",
   "execution_count": 37,
   "metadata": {},
   "outputs": [],
   "source": [
    "victims2 = victims2.drop('excuse_en', axis=1)"
   ]
  },
  {
   "cell_type": "code",
   "execution_count": 38,
   "metadata": {},
   "outputs": [
    {
     "data": {
      "text/html": [
       "<div>\n",
       "<style scoped>\n",
       "    .dataframe tbody tr th:only-of-type {\n",
       "        vertical-align: middle;\n",
       "    }\n",
       "\n",
       "    .dataframe tbody tr th {\n",
       "        vertical-align: top;\n",
       "    }\n",
       "\n",
       "    .dataframe thead th {\n",
       "        text-align: right;\n",
       "    }\n",
       "</style>\n",
       "<table border=\"1\" class=\"dataframe\">\n",
       "  <thead>\n",
       "    <tr style=\"text-align: right;\">\n",
       "      <th></th>\n",
       "      <th>age</th>\n",
       "      <th>date</th>\n",
       "      <th>prov_name</th>\n",
       "      <th>perpetrator_en_new</th>\n",
       "      <th>excuses_cat</th>\n",
       "    </tr>\n",
       "  </thead>\n",
       "  <tbody>\n",
       "    <tr>\n",
       "      <th>0</th>\n",
       "      <td>18.0</td>\n",
       "      <td>31/12/2017</td>\n",
       "      <td>istanbul</td>\n",
       "      <td>boyfriend</td>\n",
       "      <td>Unknown</td>\n",
       "    </tr>\n",
       "    <tr>\n",
       "      <th>1</th>\n",
       "      <td>17.0</td>\n",
       "      <td>31/12/2017</td>\n",
       "      <td>burdur</td>\n",
       "      <td>boyfriend</td>\n",
       "      <td>Separation &amp; Jealousy</td>\n",
       "    </tr>\n",
       "    <tr>\n",
       "      <th>2</th>\n",
       "      <td>38.0</td>\n",
       "      <td>30/12/2017</td>\n",
       "      <td>bolu</td>\n",
       "      <td>boyfriend</td>\n",
       "      <td>Other</td>\n",
       "    </tr>\n",
       "    <tr>\n",
       "      <th>3</th>\n",
       "      <td>53.0</td>\n",
       "      <td>27/12/2017</td>\n",
       "      <td>ankara</td>\n",
       "      <td>boyfriend</td>\n",
       "      <td>Separation &amp; Jealousy</td>\n",
       "    </tr>\n",
       "    <tr>\n",
       "      <th>4</th>\n",
       "      <td>22.0</td>\n",
       "      <td>25/12/2017</td>\n",
       "      <td>diyarbakir</td>\n",
       "      <td>partner</td>\n",
       "      <td>Separation &amp; Jealousy</td>\n",
       "    </tr>\n",
       "    <tr>\n",
       "      <th>...</th>\n",
       "      <td>...</td>\n",
       "      <td>...</td>\n",
       "      <td>...</td>\n",
       "      <td>...</td>\n",
       "      <td>...</td>\n",
       "    </tr>\n",
       "    <tr>\n",
       "      <th>1959</th>\n",
       "      <td>24.0</td>\n",
       "      <td>14/01/2010</td>\n",
       "      <td>ankara</td>\n",
       "      <td>relative</td>\n",
       "      <td>Masculinity&amp;Honor</td>\n",
       "    </tr>\n",
       "    <tr>\n",
       "      <th>1960</th>\n",
       "      <td>34.0</td>\n",
       "      <td>12/1/2010</td>\n",
       "      <td>adana</td>\n",
       "      <td>attacker</td>\n",
       "      <td>Separation &amp; Jealousy</td>\n",
       "    </tr>\n",
       "    <tr>\n",
       "      <th>1961</th>\n",
       "      <td>57.0</td>\n",
       "      <td>12/1/2010</td>\n",
       "      <td>kutahya</td>\n",
       "      <td>brother</td>\n",
       "      <td>Unknown</td>\n",
       "    </tr>\n",
       "    <tr>\n",
       "      <th>1962</th>\n",
       "      <td>34.0</td>\n",
       "      <td>11/1/2010</td>\n",
       "      <td>adana</td>\n",
       "      <td>boyfriend</td>\n",
       "      <td>Unknown</td>\n",
       "    </tr>\n",
       "    <tr>\n",
       "      <th>1963</th>\n",
       "      <td>NaN</td>\n",
       "      <td>3/1/2010</td>\n",
       "      <td>bitlis</td>\n",
       "      <td>partner</td>\n",
       "      <td>Separation &amp; Jealousy</td>\n",
       "    </tr>\n",
       "  </tbody>\n",
       "</table>\n",
       "<p>1964 rows × 5 columns</p>\n",
       "</div>"
      ],
      "text/plain": [
       "       age        date    prov_name perpetrator_en_new            excuses_cat\n",
       "0     18.0  31/12/2017     istanbul          boyfriend                Unknown\n",
       "1     17.0  31/12/2017       burdur          boyfriend  Separation & Jealousy\n",
       "2     38.0  30/12/2017         bolu          boyfriend                  Other\n",
       "3     53.0  27/12/2017       ankara          boyfriend  Separation & Jealousy\n",
       "4     22.0  25/12/2017   diyarbakir            partner  Separation & Jealousy\n",
       "...    ...         ...          ...                ...                    ...\n",
       "1959  24.0  14/01/2010       ankara           relative      Masculinity&Honor\n",
       "1960  34.0   12/1/2010        adana           attacker  Separation & Jealousy\n",
       "1961  57.0   12/1/2010      kutahya            brother                Unknown\n",
       "1962  34.0   11/1/2010        adana          boyfriend                Unknown\n",
       "1963   NaN    3/1/2010       bitlis            partner  Separation & Jealousy\n",
       "\n",
       "[1964 rows x 5 columns]"
      ]
     },
     "execution_count": 38,
     "metadata": {},
     "output_type": "execute_result"
    }
   ],
   "source": [
    "victims2"
   ]
  },
  {
   "cell_type": "markdown",
   "metadata": {},
   "source": [
    "### Check for nulls in victims data"
   ]
  },
  {
   "cell_type": "code",
   "execution_count": 39,
   "metadata": {},
   "outputs": [
    {
     "data": {
      "text/plain": [
       "age                   70\n",
       "date                   0\n",
       "prov_name              3\n",
       "perpetrator_en_new     0\n",
       "excuses_cat            0\n",
       "dtype: int64"
      ]
     },
     "execution_count": 39,
     "metadata": {},
     "output_type": "execute_result"
    }
   ],
   "source": [
    "victims2.isna().sum()"
   ]
  },
  {
   "cell_type": "markdown",
   "metadata": {},
   "source": [
    "We drop the observation that have no city, as we cannot include them in our model based on city demographics"
   ]
  },
  {
   "cell_type": "code",
   "execution_count": 40,
   "metadata": {},
   "outputs": [],
   "source": [
    "victims2 = victims2[victims2['prov_name'].notna()]"
   ]
  },
  {
   "cell_type": "code",
   "execution_count": 41,
   "metadata": {},
   "outputs": [
    {
     "data": {
      "text/plain": [
       "age                   70\n",
       "date                   0\n",
       "prov_name              0\n",
       "perpetrator_en_new     0\n",
       "excuses_cat            0\n",
       "dtype: int64"
      ]
     },
     "execution_count": 41,
     "metadata": {},
     "output_type": "execute_result"
    }
   ],
   "source": [
    "victims2.isna().sum()"
   ]
  },
  {
   "cell_type": "markdown",
   "metadata": {},
   "source": [
    "### Check for types"
   ]
  },
  {
   "cell_type": "code",
   "execution_count": 42,
   "metadata": {},
   "outputs": [
    {
     "data": {
      "text/plain": [
       "age                   float64\n",
       "date                   object\n",
       "prov_name              object\n",
       "perpetrator_en_new     object\n",
       "excuses_cat            object\n",
       "dtype: object"
      ]
     },
     "execution_count": 42,
     "metadata": {},
     "output_type": "execute_result"
    }
   ],
   "source": [
    "victims2.dtypes"
   ]
  },
  {
   "cell_type": "code",
   "execution_count": 43,
   "metadata": {},
   "outputs": [
    {
     "data": {
      "text/html": [
       "<div>\n",
       "<style scoped>\n",
       "    .dataframe tbody tr th:only-of-type {\n",
       "        vertical-align: middle;\n",
       "    }\n",
       "\n",
       "    .dataframe tbody tr th {\n",
       "        vertical-align: top;\n",
       "    }\n",
       "\n",
       "    .dataframe thead th {\n",
       "        text-align: right;\n",
       "    }\n",
       "</style>\n",
       "<table border=\"1\" class=\"dataframe\">\n",
       "  <thead>\n",
       "    <tr style=\"text-align: right;\">\n",
       "      <th></th>\n",
       "      <th>age</th>\n",
       "      <th>date</th>\n",
       "      <th>prov_name</th>\n",
       "      <th>perpetrator_en_new</th>\n",
       "      <th>excuses_cat</th>\n",
       "    </tr>\n",
       "  </thead>\n",
       "  <tbody>\n",
       "    <tr>\n",
       "      <th>0</th>\n",
       "      <td>18.0</td>\n",
       "      <td>31/12/2017</td>\n",
       "      <td>istanbul</td>\n",
       "      <td>boyfriend</td>\n",
       "      <td>Unknown</td>\n",
       "    </tr>\n",
       "    <tr>\n",
       "      <th>1</th>\n",
       "      <td>17.0</td>\n",
       "      <td>31/12/2017</td>\n",
       "      <td>burdur</td>\n",
       "      <td>boyfriend</td>\n",
       "      <td>Separation &amp; Jealousy</td>\n",
       "    </tr>\n",
       "    <tr>\n",
       "      <th>2</th>\n",
       "      <td>38.0</td>\n",
       "      <td>30/12/2017</td>\n",
       "      <td>bolu</td>\n",
       "      <td>boyfriend</td>\n",
       "      <td>Other</td>\n",
       "    </tr>\n",
       "    <tr>\n",
       "      <th>3</th>\n",
       "      <td>53.0</td>\n",
       "      <td>27/12/2017</td>\n",
       "      <td>ankara</td>\n",
       "      <td>boyfriend</td>\n",
       "      <td>Separation &amp; Jealousy</td>\n",
       "    </tr>\n",
       "    <tr>\n",
       "      <th>4</th>\n",
       "      <td>22.0</td>\n",
       "      <td>25/12/2017</td>\n",
       "      <td>diyarbakir</td>\n",
       "      <td>partner</td>\n",
       "      <td>Separation &amp; Jealousy</td>\n",
       "    </tr>\n",
       "    <tr>\n",
       "      <th>...</th>\n",
       "      <td>...</td>\n",
       "      <td>...</td>\n",
       "      <td>...</td>\n",
       "      <td>...</td>\n",
       "      <td>...</td>\n",
       "    </tr>\n",
       "    <tr>\n",
       "      <th>1959</th>\n",
       "      <td>24.0</td>\n",
       "      <td>14/01/2010</td>\n",
       "      <td>ankara</td>\n",
       "      <td>relative</td>\n",
       "      <td>Masculinity&amp;Honor</td>\n",
       "    </tr>\n",
       "    <tr>\n",
       "      <th>1960</th>\n",
       "      <td>34.0</td>\n",
       "      <td>12/1/2010</td>\n",
       "      <td>adana</td>\n",
       "      <td>attacker</td>\n",
       "      <td>Separation &amp; Jealousy</td>\n",
       "    </tr>\n",
       "    <tr>\n",
       "      <th>1961</th>\n",
       "      <td>57.0</td>\n",
       "      <td>12/1/2010</td>\n",
       "      <td>kutahya</td>\n",
       "      <td>brother</td>\n",
       "      <td>Unknown</td>\n",
       "    </tr>\n",
       "    <tr>\n",
       "      <th>1962</th>\n",
       "      <td>34.0</td>\n",
       "      <td>11/1/2010</td>\n",
       "      <td>adana</td>\n",
       "      <td>boyfriend</td>\n",
       "      <td>Unknown</td>\n",
       "    </tr>\n",
       "    <tr>\n",
       "      <th>1963</th>\n",
       "      <td>NaN</td>\n",
       "      <td>3/1/2010</td>\n",
       "      <td>bitlis</td>\n",
       "      <td>partner</td>\n",
       "      <td>Separation &amp; Jealousy</td>\n",
       "    </tr>\n",
       "  </tbody>\n",
       "</table>\n",
       "<p>1961 rows × 5 columns</p>\n",
       "</div>"
      ],
      "text/plain": [
       "       age        date    prov_name perpetrator_en_new            excuses_cat\n",
       "0     18.0  31/12/2017     istanbul          boyfriend                Unknown\n",
       "1     17.0  31/12/2017       burdur          boyfriend  Separation & Jealousy\n",
       "2     38.0  30/12/2017         bolu          boyfriend                  Other\n",
       "3     53.0  27/12/2017       ankara          boyfriend  Separation & Jealousy\n",
       "4     22.0  25/12/2017   diyarbakir            partner  Separation & Jealousy\n",
       "...    ...         ...          ...                ...                    ...\n",
       "1959  24.0  14/01/2010       ankara           relative      Masculinity&Honor\n",
       "1960  34.0   12/1/2010        adana           attacker  Separation & Jealousy\n",
       "1961  57.0   12/1/2010      kutahya            brother                Unknown\n",
       "1962  34.0   11/1/2010        adana          boyfriend                Unknown\n",
       "1963   NaN    3/1/2010       bitlis            partner  Separation & Jealousy\n",
       "\n",
       "[1961 rows x 5 columns]"
      ]
     },
     "execution_count": 43,
     "metadata": {},
     "output_type": "execute_result"
    }
   ],
   "source": [
    "victims2"
   ]
  },
  {
   "cell_type": "markdown",
   "metadata": {},
   "source": [
    "Convert date"
   ]
  },
  {
   "cell_type": "code",
   "execution_count": 44,
   "metadata": {},
   "outputs": [],
   "source": [
    "victims3 = victims2.copy()"
   ]
  },
  {
   "cell_type": "code",
   "execution_count": 45,
   "metadata": {},
   "outputs": [],
   "source": [
    "victims3['date'] = pd.to_datetime(victims3['date'], format='%d/%m/%Y')"
   ]
  },
  {
   "cell_type": "markdown",
   "metadata": {},
   "source": [
    "# 3. Check politics, and country trend to merge with demographic trends of regions"
   ]
  },
  {
   "cell_type": "markdown",
   "metadata": {},
   "source": [
    "Check for Nulls, 0's and type of data.\n",
    "\n",
    "The aim is to merge these with the regional data so that we can have an overview of regional trends as well as country trends. We will check for collinearity in the EDA notebook and, if needed, drop some features"
   ]
  },
  {
   "cell_type": "code",
   "execution_count": 46,
   "metadata": {},
   "outputs": [
    {
     "data": {
      "text/plain": [
       "Year                     0\n",
       "egalitarian_dem_index    0\n",
       "wmn_civil_soc            0\n",
       "acad_freedom             0\n",
       "dtype: int64"
      ]
     },
     "execution_count": 46,
     "metadata": {},
     "output_type": "execute_result"
    }
   ],
   "source": [
    "demo_trends.isna().sum()"
   ]
  },
  {
   "cell_type": "code",
   "execution_count": 47,
   "metadata": {},
   "outputs": [
    {
     "data": {
      "text/plain": [
       "Year                     0\n",
       "egalitarian_dem_index    0\n",
       "wmn_civil_soc            0\n",
       "acad_freedom             0\n",
       "dtype: int64"
      ]
     },
     "execution_count": 47,
     "metadata": {},
     "output_type": "execute_result"
    }
   ],
   "source": [
    "demo_trends.isin([0]).sum()"
   ]
  },
  {
   "cell_type": "markdown",
   "metadata": {},
   "source": [
    "Demo_trends is clean and ready to merge, we drop some rows, as we only need data from 2010 to 2017."
   ]
  },
  {
   "cell_type": "code",
   "execution_count": 48,
   "metadata": {},
   "outputs": [],
   "source": [
    "demo_trends.drop(demo_trends[demo_trends['Year'] < 2010].index, inplace = True) "
   ]
  },
  {
   "cell_type": "code",
   "execution_count": 49,
   "metadata": {},
   "outputs": [],
   "source": [
    "demo_trends.drop(demo_trends[demo_trends['Year'] > 2017].index, inplace = True) "
   ]
  },
  {
   "cell_type": "code",
   "execution_count": 50,
   "metadata": {},
   "outputs": [
    {
     "data": {
      "text/plain": [
       "prov_name     0\n",
       "party_2009    0\n",
       "perc_2009     0\n",
       "party_2014    0\n",
       "perc_2014     0\n",
       "party_2019    0\n",
       "perc_2019     0\n",
       "dtype: int64"
      ]
     },
     "execution_count": 50,
     "metadata": {},
     "output_type": "execute_result"
    }
   ],
   "source": [
    "elections.isna().sum()"
   ]
  },
  {
   "cell_type": "code",
   "execution_count": 51,
   "metadata": {},
   "outputs": [
    {
     "data": {
      "text/plain": [
       "prov_name     0\n",
       "party_2009    0\n",
       "perc_2009     0\n",
       "party_2014    0\n",
       "perc_2014     0\n",
       "party_2019    0\n",
       "perc_2019     0\n",
       "dtype: int64"
      ]
     },
     "execution_count": 51,
     "metadata": {},
     "output_type": "execute_result"
    }
   ],
   "source": [
    "elections.isin([0]).sum()"
   ]
  },
  {
   "cell_type": "code",
   "execution_count": 52,
   "metadata": {},
   "outputs": [
    {
     "data": {
      "text/plain": [
       "prov_name      object\n",
       "party_2009     object\n",
       "perc_2009     float64\n",
       "party_2014     object\n",
       "perc_2014     float64\n",
       "party_2019     object\n",
       "perc_2019     float64\n",
       "dtype: object"
      ]
     },
     "execution_count": 52,
     "metadata": {},
     "output_type": "execute_result"
    }
   ],
   "source": [
    "elections.dtypes"
   ]
  },
  {
   "cell_type": "markdown",
   "metadata": {},
   "source": [
    "For the elections data, we check which parties are included. \n",
    "Here is the list:\n",
    "- AKP\n",
    "- CHP\n",
    "- MHP\n",
    "- Ind.\n",
    "- BDP(DBP)\n",
    "- DTP\n",
    "- DSP\n",
    "- HDP\n",
    "</br>\n"
   ]
  },
  {
   "cell_type": "code",
   "execution_count": 53,
   "metadata": {},
   "outputs": [
    {
     "data": {
      "text/plain": [
       "array(['MHP', 'AKP', 'CHP', 'DTP', 'DSP', 'BBP', 'IND', 'DP'],\n",
       "      dtype=object)"
      ]
     },
     "execution_count": 53,
     "metadata": {},
     "output_type": "execute_result"
    }
   ],
   "source": [
    "elections['party_2009'].unique()"
   ]
  },
  {
   "cell_type": "code",
   "execution_count": 54,
   "metadata": {},
   "outputs": [
    {
     "data": {
      "text/plain": [
       "array(['MHP', 'AKP', 'BDP', 'CHP'], dtype=object)"
      ]
     },
     "execution_count": 54,
     "metadata": {},
     "output_type": "execute_result"
    }
   ],
   "source": [
    "elections['party_2014'].unique()"
   ]
  },
  {
   "cell_type": "code",
   "execution_count": 55,
   "metadata": {},
   "outputs": [
    {
     "data": {
      "text/plain": [
       "array(['CHP', 'AKP', 'MHP', 'HDP', 'TKP'], dtype=object)"
      ]
     },
     "execution_count": 55,
     "metadata": {},
     "output_type": "execute_result"
    }
   ],
   "source": [
    "elections['party_2019'].unique()"
   ]
  },
  {
   "cell_type": "markdown",
   "metadata": {},
   "source": [
    "Based on https://en.wikipedia.org/wiki/List_of_political_parties_in_Turkey and https://www.cambridge.org/core/journals/new-perspectives-on-turkey/article/keeping-power-through-opposition-party-system-change-in-turkey/7D9211968313E58D1B28FEA68976E89F we will place the parties on a spectrum from -2 (extreme right) to 2 (extreme left).\n",
    "\n",
    "- MHP Far-right\n",
    "- AKP Right-wing\n",
    "- Ind.Centre-left\n",
    "- DSP Centre-left\n",
    "- CHP Centre-left\n",
    "- DTP Left-wing nationalism\n",
    "- BDP(DBP) Left-wing\n",
    "- HDP Left-wing\n",
    "\n",
    "Until 2011, in Turkey, instead of using left–right\n",
    "ideology, parties weree better scaled on their position in \n",
    "the religious–secular issue. The Turkish left wing differed from European undestanding of the left, having close ties with the military. (Aydogan, A., & Slapin, J. (2012). Left-Right Reversed: Parties and Ideology in Modern Turkey. SSRN Electronic Journal. doi: 10.2139/ssrn.2165409).\n",
    "Nowaday, however, it can be argued that their positions changed drastically from what was presented in the article. For example, the AKP party their secular and liberal stance. Thus, we will scale parties as following (from 2-left-secular to -2-right-religious). This scaling wants to simplify an aspect that should have various dimension. For the sake of this research, we will keep only one for now:\n",
    "- CHP 2\n",
    "- AKP -2\n",
    "- MHP -1\n",
    "- DTP 0\n",
    "- BDP(DBP) 0\n",
    "- HDP 0\n",
    "- Ind. 1"
   ]
  },
  {
   "cell_type": "code",
   "execution_count": 56,
   "metadata": {},
   "outputs": [],
   "source": [
    "remapping_parties = {\n",
    "        'AKP':int(-2),\n",
    "        'CHP':int(2),\n",
    "        'MHP':int(-1),\n",
    "        'BBP':int(-1),\n",
    "        'DTP':int(0),\n",
    "        'DBP':int(0),\n",
    "        'BDP':int(0),\n",
    "        'HDP':int(0),\n",
    "        'IND':int(1),\n",
    "        'DSP':int(1),\n",
    "        'DP':int(1),\n",
    "        'TKP':int(2)\n",
    "}\n",
    "elections['party_2009'] = elections['party_2009'].replace(remapping_parties)"
   ]
  },
  {
   "cell_type": "code",
   "execution_count": 57,
   "metadata": {},
   "outputs": [],
   "source": [
    "elections['party_2014'] = elections['party_2014'].replace(remapping_parties)"
   ]
  },
  {
   "cell_type": "code",
   "execution_count": 58,
   "metadata": {},
   "outputs": [],
   "source": [
    "elections['party_2019'] = elections['party_2019'].replace(remapping_parties)"
   ]
  },
  {
   "cell_type": "code",
   "execution_count": 59,
   "metadata": {},
   "outputs": [
    {
     "data": {
      "text/plain": [
       "prov_name      object\n",
       "party_2009      int64\n",
       "perc_2009     float64\n",
       "party_2014      int64\n",
       "perc_2014     float64\n",
       "party_2019      int64\n",
       "perc_2019     float64\n",
       "dtype: object"
      ]
     },
     "execution_count": 59,
     "metadata": {},
     "output_type": "execute_result"
    }
   ],
   "source": [
    "elections.dtypes"
   ]
  },
  {
   "cell_type": "code",
   "execution_count": 60,
   "metadata": {},
   "outputs": [],
   "source": [
    "elections['party_2009'] =elections['party_2009'].astype(int) "
   ]
  },
  {
   "cell_type": "code",
   "execution_count": 61,
   "metadata": {},
   "outputs": [],
   "source": [
    "elections['party_2014'] =elections['party_2014'].astype(int) "
   ]
  },
  {
   "cell_type": "code",
   "execution_count": 62,
   "metadata": {},
   "outputs": [],
   "source": [
    "elections['party_2019'] =elections['party_2019'].astype(int) "
   ]
  },
  {
   "cell_type": "markdown",
   "metadata": {},
   "source": [
    "Lowercase column titles and name of cities"
   ]
  },
  {
   "cell_type": "code",
   "execution_count": 63,
   "metadata": {},
   "outputs": [],
   "source": [
    "elections.columns=[e.lower().replace(' ', '_') for e in elections.columns] "
   ]
  },
  {
   "cell_type": "markdown",
   "metadata": {},
   "source": [
    "We do not care about the number of votes. What is relevant is just:\n",
    "- the city\n",
    "- the party who won (scaled from left  2 to right - 2)\n",
    "- the percentage of votes by which the party won. This allows us to get a weighted results and a better idea of regional attitudes (always as comparison between left to right, secular to religious). We will multiply this by the election results, to get the weighted attitude for each of the three years.\n",
    "\n",
    "- the lowest the number, the more the political attitude is tending toward the right."
   ]
  },
  {
   "cell_type": "code",
   "execution_count": 64,
   "metadata": {},
   "outputs": [],
   "source": [
    "elections['pol_2009'] = elections['party_2009'] * elections['perc_2009']"
   ]
  },
  {
   "cell_type": "code",
   "execution_count": 65,
   "metadata": {},
   "outputs": [],
   "source": [
    "elections['pol_2014'] = elections['party_2014'] * elections['perc_2014']"
   ]
  },
  {
   "cell_type": "code",
   "execution_count": 66,
   "metadata": {},
   "outputs": [],
   "source": [
    "elections['pol_2019'] = elections['party_2019'] * elections['perc_2019']"
   ]
  },
  {
   "cell_type": "code",
   "execution_count": 67,
   "metadata": {},
   "outputs": [],
   "source": [
    "elections['prov_name'] = elections['prov_name'].str.lower()"
   ]
  },
  {
   "cell_type": "code",
   "execution_count": 68,
   "metadata": {},
   "outputs": [],
   "source": [
    "elections_cleaned =  pd.concat([elections['prov_name'], elections['pol_2009'],elections['pol_2014'],elections['pol_2019']], axis=1)"
   ]
  },
  {
   "cell_type": "code",
   "execution_count": 69,
   "metadata": {},
   "outputs": [
    {
     "data": {
      "text/html": [
       "<div>\n",
       "<style scoped>\n",
       "    .dataframe tbody tr th:only-of-type {\n",
       "        vertical-align: middle;\n",
       "    }\n",
       "\n",
       "    .dataframe tbody tr th {\n",
       "        vertical-align: top;\n",
       "    }\n",
       "\n",
       "    .dataframe thead th {\n",
       "        text-align: right;\n",
       "    }\n",
       "</style>\n",
       "<table border=\"1\" class=\"dataframe\">\n",
       "  <thead>\n",
       "    <tr style=\"text-align: right;\">\n",
       "      <th></th>\n",
       "      <th>prov_name</th>\n",
       "      <th>pol_2009</th>\n",
       "      <th>pol_2014</th>\n",
       "      <th>pol_2019</th>\n",
       "    </tr>\n",
       "  </thead>\n",
       "  <tbody>\n",
       "    <tr>\n",
       "      <th>0</th>\n",
       "      <td>adana</td>\n",
       "      <td>-29.7</td>\n",
       "      <td>-33.6</td>\n",
       "      <td>107.26</td>\n",
       "    </tr>\n",
       "    <tr>\n",
       "      <th>1</th>\n",
       "      <td>adiyaman</td>\n",
       "      <td>-98.6</td>\n",
       "      <td>-113.0</td>\n",
       "      <td>-106.44</td>\n",
       "    </tr>\n",
       "    <tr>\n",
       "      <th>2</th>\n",
       "      <td>afyonkarahisar</td>\n",
       "      <td>-96.4</td>\n",
       "      <td>-98.8</td>\n",
       "      <td>-85.92</td>\n",
       "    </tr>\n",
       "    <tr>\n",
       "      <th>3</th>\n",
       "      <td>agri</td>\n",
       "      <td>-79.2</td>\n",
       "      <td>0.0</td>\n",
       "      <td>-111.14</td>\n",
       "    </tr>\n",
       "    <tr>\n",
       "      <th>4</th>\n",
       "      <td>aksaray</td>\n",
       "      <td>-116.4</td>\n",
       "      <td>-113.8</td>\n",
       "      <td>-80.94</td>\n",
       "    </tr>\n",
       "    <tr>\n",
       "      <th>...</th>\n",
       "      <td>...</td>\n",
       "      <td>...</td>\n",
       "      <td>...</td>\n",
       "      <td>...</td>\n",
       "    </tr>\n",
       "    <tr>\n",
       "      <th>76</th>\n",
       "      <td>usak</td>\n",
       "      <td>-39.6</td>\n",
       "      <td>-86.6</td>\n",
       "      <td>-78.22</td>\n",
       "    </tr>\n",
       "    <tr>\n",
       "      <th>77</th>\n",
       "      <td>van</td>\n",
       "      <td>0.0</td>\n",
       "      <td>0.0</td>\n",
       "      <td>0.00</td>\n",
       "    </tr>\n",
       "    <tr>\n",
       "      <th>78</th>\n",
       "      <td>yalova</td>\n",
       "      <td>35.4</td>\n",
       "      <td>96.0</td>\n",
       "      <td>91.82</td>\n",
       "    </tr>\n",
       "    <tr>\n",
       "      <th>79</th>\n",
       "      <td>yozgat</td>\n",
       "      <td>-109.4</td>\n",
       "      <td>-112.4</td>\n",
       "      <td>-81.72</td>\n",
       "    </tr>\n",
       "    <tr>\n",
       "      <th>80</th>\n",
       "      <td>zonguldak</td>\n",
       "      <td>91.6</td>\n",
       "      <td>79.8</td>\n",
       "      <td>-85.04</td>\n",
       "    </tr>\n",
       "  </tbody>\n",
       "</table>\n",
       "<p>81 rows × 4 columns</p>\n",
       "</div>"
      ],
      "text/plain": [
       "         prov_name  pol_2009  pol_2014  pol_2019\n",
       "0            adana     -29.7     -33.6    107.26\n",
       "1         adiyaman     -98.6    -113.0   -106.44\n",
       "2   afyonkarahisar     -96.4     -98.8    -85.92\n",
       "3             agri     -79.2       0.0   -111.14\n",
       "4          aksaray    -116.4    -113.8    -80.94\n",
       "..             ...       ...       ...       ...\n",
       "76            usak     -39.6     -86.6    -78.22\n",
       "77             van       0.0       0.0      0.00\n",
       "78          yalova      35.4      96.0     91.82\n",
       "79          yozgat    -109.4    -112.4    -81.72\n",
       "80       zonguldak      91.6      79.8    -85.04\n",
       "\n",
       "[81 rows x 4 columns]"
      ]
     },
     "execution_count": 69,
     "metadata": {},
     "output_type": "execute_result"
    }
   ],
   "source": [
    "elections_cleaned"
   ]
  },
  {
   "cell_type": "markdown",
   "metadata": {},
   "source": [
    "# 4. Merging\n",
    "#### a.Counting victims total in country\n",
    "Count total victims from victim file and add as column on the country demographics trends to be able to run a regression on count."
   ]
  },
  {
   "cell_type": "code",
   "execution_count": 70,
   "metadata": {},
   "outputs": [],
   "source": [
    "count = victims3.groupby([victims3['date'].dt.year.rename('year')]).agg({'count'})"
   ]
  },
  {
   "cell_type": "code",
   "execution_count": 71,
   "metadata": {},
   "outputs": [
    {
     "data": {
      "text/html": [
       "<div>\n",
       "<style scoped>\n",
       "    .dataframe tbody tr th:only-of-type {\n",
       "        vertical-align: middle;\n",
       "    }\n",
       "\n",
       "    .dataframe tbody tr th {\n",
       "        vertical-align: top;\n",
       "    }\n",
       "\n",
       "    .dataframe thead th {\n",
       "        text-align: right;\n",
       "    }\n",
       "</style>\n",
       "<table border=\"1\" class=\"dataframe\">\n",
       "  <thead>\n",
       "    <tr style=\"text-align: right;\">\n",
       "      <th></th>\n",
       "      <th>year</th>\n",
       "      <th>age_count</th>\n",
       "      <th>date_count</th>\n",
       "      <th>prov_name_count</th>\n",
       "      <th>perpetrator_en_new_count</th>\n",
       "      <th>excuses_cat_count</th>\n",
       "    </tr>\n",
       "  </thead>\n",
       "  <tbody>\n",
       "    <tr>\n",
       "      <th>0</th>\n",
       "      <td>2010</td>\n",
       "      <td>239</td>\n",
       "      <td>248</td>\n",
       "      <td>248</td>\n",
       "      <td>248</td>\n",
       "      <td>248</td>\n",
       "    </tr>\n",
       "    <tr>\n",
       "      <th>1</th>\n",
       "      <td>2011</td>\n",
       "      <td>226</td>\n",
       "      <td>230</td>\n",
       "      <td>230</td>\n",
       "      <td>230</td>\n",
       "      <td>230</td>\n",
       "    </tr>\n",
       "    <tr>\n",
       "      <th>2</th>\n",
       "      <td>2012</td>\n",
       "      <td>180</td>\n",
       "      <td>182</td>\n",
       "      <td>182</td>\n",
       "      <td>182</td>\n",
       "      <td>182</td>\n",
       "    </tr>\n",
       "    <tr>\n",
       "      <th>3</th>\n",
       "      <td>2013</td>\n",
       "      <td>205</td>\n",
       "      <td>209</td>\n",
       "      <td>209</td>\n",
       "      <td>209</td>\n",
       "      <td>209</td>\n",
       "    </tr>\n",
       "    <tr>\n",
       "      <th>4</th>\n",
       "      <td>2014</td>\n",
       "      <td>258</td>\n",
       "      <td>266</td>\n",
       "      <td>266</td>\n",
       "      <td>266</td>\n",
       "      <td>266</td>\n",
       "    </tr>\n",
       "    <tr>\n",
       "      <th>5</th>\n",
       "      <td>2015</td>\n",
       "      <td>267</td>\n",
       "      <td>283</td>\n",
       "      <td>283</td>\n",
       "      <td>283</td>\n",
       "      <td>283</td>\n",
       "    </tr>\n",
       "    <tr>\n",
       "      <th>6</th>\n",
       "      <td>2016</td>\n",
       "      <td>247</td>\n",
       "      <td>258</td>\n",
       "      <td>258</td>\n",
       "      <td>258</td>\n",
       "      <td>258</td>\n",
       "    </tr>\n",
       "    <tr>\n",
       "      <th>7</th>\n",
       "      <td>2017</td>\n",
       "      <td>269</td>\n",
       "      <td>285</td>\n",
       "      <td>285</td>\n",
       "      <td>285</td>\n",
       "      <td>285</td>\n",
       "    </tr>\n",
       "  </tbody>\n",
       "</table>\n",
       "</div>"
      ],
      "text/plain": [
       "   year  age_count  date_count  prov_name_count  perpetrator_en_new_count  \\\n",
       "0  2010        239         248              248                       248   \n",
       "1  2011        226         230              230                       230   \n",
       "2  2012        180         182              182                       182   \n",
       "3  2013        205         209              209                       209   \n",
       "4  2014        258         266              266                       266   \n",
       "5  2015        267         283              283                       283   \n",
       "6  2016        247         258              258                       258   \n",
       "7  2017        269         285              285                       285   \n",
       "\n",
       "   excuses_cat_count  \n",
       "0                248  \n",
       "1                230  \n",
       "2                182  \n",
       "3                209  \n",
       "4                266  \n",
       "5                283  \n",
       "6                258  \n",
       "7                285  "
      ]
     },
     "execution_count": 71,
     "metadata": {},
     "output_type": "execute_result"
    }
   ],
   "source": [
    "#flatten the headers\n",
    "count.columns =count.columns.map('_'.join)\n",
    "count = count.reset_index()\n",
    "count"
   ]
  },
  {
   "cell_type": "code",
   "execution_count": 72,
   "metadata": {},
   "outputs": [],
   "source": [
    "count = pd.concat([count['year'], count['prov_name_count']], axis=1, keys=[\"year\", \"count_fem\"])"
   ]
  },
  {
   "cell_type": "code",
   "execution_count": 73,
   "metadata": {},
   "outputs": [],
   "source": [
    "deaths_country = pd.merge(demo_trends, count, left_on='Year', right_on='year', how='inner').drop('Year', axis=1)"
   ]
  },
  {
   "cell_type": "code",
   "execution_count": 74,
   "metadata": {},
   "outputs": [
    {
     "data": {
      "text/html": [
       "<div>\n",
       "<style scoped>\n",
       "    .dataframe tbody tr th:only-of-type {\n",
       "        vertical-align: middle;\n",
       "    }\n",
       "\n",
       "    .dataframe tbody tr th {\n",
       "        vertical-align: top;\n",
       "    }\n",
       "\n",
       "    .dataframe thead th {\n",
       "        text-align: right;\n",
       "    }\n",
       "</style>\n",
       "<table border=\"1\" class=\"dataframe\">\n",
       "  <thead>\n",
       "    <tr style=\"text-align: right;\">\n",
       "      <th></th>\n",
       "      <th>egalitarian_dem_index</th>\n",
       "      <th>wmn_civil_soc</th>\n",
       "      <th>acad_freedom</th>\n",
       "      <th>year</th>\n",
       "      <th>count_fem</th>\n",
       "    </tr>\n",
       "  </thead>\n",
       "  <tbody>\n",
       "    <tr>\n",
       "      <th>0</th>\n",
       "      <td>0.390</td>\n",
       "      <td>0.366</td>\n",
       "      <td>0.482</td>\n",
       "      <td>2010</td>\n",
       "      <td>248</td>\n",
       "    </tr>\n",
       "    <tr>\n",
       "      <th>1</th>\n",
       "      <td>0.391</td>\n",
       "      <td>0.376</td>\n",
       "      <td>0.482</td>\n",
       "      <td>2011</td>\n",
       "      <td>230</td>\n",
       "    </tr>\n",
       "    <tr>\n",
       "      <th>2</th>\n",
       "      <td>0.384</td>\n",
       "      <td>0.378</td>\n",
       "      <td>0.467</td>\n",
       "      <td>2012</td>\n",
       "      <td>182</td>\n",
       "    </tr>\n",
       "    <tr>\n",
       "      <th>3</th>\n",
       "      <td>0.327</td>\n",
       "      <td>0.385</td>\n",
       "      <td>0.378</td>\n",
       "      <td>2013</td>\n",
       "      <td>209</td>\n",
       "    </tr>\n",
       "    <tr>\n",
       "      <th>4</th>\n",
       "      <td>0.290</td>\n",
       "      <td>0.386</td>\n",
       "      <td>0.324</td>\n",
       "      <td>2014</td>\n",
       "      <td>266</td>\n",
       "    </tr>\n",
       "    <tr>\n",
       "      <th>5</th>\n",
       "      <td>0.269</td>\n",
       "      <td>0.349</td>\n",
       "      <td>0.294</td>\n",
       "      <td>2015</td>\n",
       "      <td>283</td>\n",
       "    </tr>\n",
       "    <tr>\n",
       "      <th>6</th>\n",
       "      <td>0.221</td>\n",
       "      <td>0.332</td>\n",
       "      <td>0.088</td>\n",
       "      <td>2016</td>\n",
       "      <td>258</td>\n",
       "    </tr>\n",
       "    <tr>\n",
       "      <th>7</th>\n",
       "      <td>0.201</td>\n",
       "      <td>0.275</td>\n",
       "      <td>0.057</td>\n",
       "      <td>2017</td>\n",
       "      <td>285</td>\n",
       "    </tr>\n",
       "  </tbody>\n",
       "</table>\n",
       "</div>"
      ],
      "text/plain": [
       "   egalitarian_dem_index  wmn_civil_soc  acad_freedom  year  count_fem\n",
       "0                  0.390          0.366         0.482  2010        248\n",
       "1                  0.391          0.376         0.482  2011        230\n",
       "2                  0.384          0.378         0.467  2012        182\n",
       "3                  0.327          0.385         0.378  2013        209\n",
       "4                  0.290          0.386         0.324  2014        266\n",
       "5                  0.269          0.349         0.294  2015        283\n",
       "6                  0.221          0.332         0.088  2016        258\n",
       "7                  0.201          0.275         0.057  2017        285"
      ]
     },
     "execution_count": 74,
     "metadata": {},
     "output_type": "execute_result"
    }
   ],
   "source": [
    "deaths_country"
   ]
  },
  {
   "cell_type": "markdown",
   "metadata": {},
   "source": [
    "# 4. Merging\n",
    "#### b. Count of victims per region\n",
    "<br>\n",
    "Count total victims per region from victim file and add as column on the region demographics to run regression. </br>\n",
    "\n",
    "### Political Elections as proxi for regional attitude\n",
    "Additionally, I want to merge the information I found for the regional elections and use them as a proxy for political attitude shifts.\n",
    "</br>\n",
    "<br>\n",
    "The elections were not run in the same exact years of our dataset. Hence, I have just chosen 2009 (just before our dataset femicides cases) and 2019(just after), to be able to see such shifts.\n",
    "</br>\n",
    "As our dataset goes from 2010 to 2017, I will proceed with the following assignment.\n",
    "- 2010 - 2012 attitude: election results from 2009\n",
    "- 2013 - 2016 attitude: election results from 2014\n",
    "- 2017 attitude: election results from 2019"
   ]
  },
  {
   "cell_type": "markdown",
   "metadata": {},
   "source": [
    "#### Add Count of Victims"
   ]
  },
  {
   "cell_type": "code",
   "execution_count": 75,
   "metadata": {},
   "outputs": [
    {
     "data": {
      "text/html": [
       "<div>\n",
       "<style scoped>\n",
       "    .dataframe tbody tr th:only-of-type {\n",
       "        vertical-align: middle;\n",
       "    }\n",
       "\n",
       "    .dataframe tbody tr th {\n",
       "        vertical-align: top;\n",
       "    }\n",
       "\n",
       "    .dataframe thead th {\n",
       "        text-align: right;\n",
       "    }\n",
       "</style>\n",
       "<table border=\"1\" class=\"dataframe\">\n",
       "  <thead>\n",
       "    <tr style=\"text-align: right;\">\n",
       "      <th></th>\n",
       "      <th>age</th>\n",
       "      <th>date</th>\n",
       "      <th>prov_name</th>\n",
       "      <th>perpetrator_en_new</th>\n",
       "      <th>excuses_cat</th>\n",
       "    </tr>\n",
       "  </thead>\n",
       "  <tbody>\n",
       "    <tr>\n",
       "      <th>0</th>\n",
       "      <td>18.0</td>\n",
       "      <td>2017-12-31</td>\n",
       "      <td>istanbul</td>\n",
       "      <td>boyfriend</td>\n",
       "      <td>Unknown</td>\n",
       "    </tr>\n",
       "    <tr>\n",
       "      <th>1</th>\n",
       "      <td>17.0</td>\n",
       "      <td>2017-12-31</td>\n",
       "      <td>burdur</td>\n",
       "      <td>boyfriend</td>\n",
       "      <td>Separation &amp; Jealousy</td>\n",
       "    </tr>\n",
       "    <tr>\n",
       "      <th>2</th>\n",
       "      <td>38.0</td>\n",
       "      <td>2017-12-30</td>\n",
       "      <td>bolu</td>\n",
       "      <td>boyfriend</td>\n",
       "      <td>Other</td>\n",
       "    </tr>\n",
       "    <tr>\n",
       "      <th>3</th>\n",
       "      <td>53.0</td>\n",
       "      <td>2017-12-27</td>\n",
       "      <td>ankara</td>\n",
       "      <td>boyfriend</td>\n",
       "      <td>Separation &amp; Jealousy</td>\n",
       "    </tr>\n",
       "    <tr>\n",
       "      <th>4</th>\n",
       "      <td>22.0</td>\n",
       "      <td>2017-12-25</td>\n",
       "      <td>diyarbakir</td>\n",
       "      <td>partner</td>\n",
       "      <td>Separation &amp; Jealousy</td>\n",
       "    </tr>\n",
       "    <tr>\n",
       "      <th>...</th>\n",
       "      <td>...</td>\n",
       "      <td>...</td>\n",
       "      <td>...</td>\n",
       "      <td>...</td>\n",
       "      <td>...</td>\n",
       "    </tr>\n",
       "    <tr>\n",
       "      <th>1959</th>\n",
       "      <td>24.0</td>\n",
       "      <td>2010-01-14</td>\n",
       "      <td>ankara</td>\n",
       "      <td>relative</td>\n",
       "      <td>Masculinity&amp;Honor</td>\n",
       "    </tr>\n",
       "    <tr>\n",
       "      <th>1960</th>\n",
       "      <td>34.0</td>\n",
       "      <td>2010-01-12</td>\n",
       "      <td>adana</td>\n",
       "      <td>attacker</td>\n",
       "      <td>Separation &amp; Jealousy</td>\n",
       "    </tr>\n",
       "    <tr>\n",
       "      <th>1961</th>\n",
       "      <td>57.0</td>\n",
       "      <td>2010-01-12</td>\n",
       "      <td>kutahya</td>\n",
       "      <td>brother</td>\n",
       "      <td>Unknown</td>\n",
       "    </tr>\n",
       "    <tr>\n",
       "      <th>1962</th>\n",
       "      <td>34.0</td>\n",
       "      <td>2010-01-11</td>\n",
       "      <td>adana</td>\n",
       "      <td>boyfriend</td>\n",
       "      <td>Unknown</td>\n",
       "    </tr>\n",
       "    <tr>\n",
       "      <th>1963</th>\n",
       "      <td>NaN</td>\n",
       "      <td>2010-01-03</td>\n",
       "      <td>bitlis</td>\n",
       "      <td>partner</td>\n",
       "      <td>Separation &amp; Jealousy</td>\n",
       "    </tr>\n",
       "  </tbody>\n",
       "</table>\n",
       "<p>1961 rows × 5 columns</p>\n",
       "</div>"
      ],
      "text/plain": [
       "       age       date    prov_name perpetrator_en_new            excuses_cat\n",
       "0     18.0 2017-12-31     istanbul          boyfriend                Unknown\n",
       "1     17.0 2017-12-31       burdur          boyfriend  Separation & Jealousy\n",
       "2     38.0 2017-12-30         bolu          boyfriend                  Other\n",
       "3     53.0 2017-12-27       ankara          boyfriend  Separation & Jealousy\n",
       "4     22.0 2017-12-25   diyarbakir            partner  Separation & Jealousy\n",
       "...    ...        ...          ...                ...                    ...\n",
       "1959  24.0 2010-01-14       ankara           relative      Masculinity&Honor\n",
       "1960  34.0 2010-01-12        adana           attacker  Separation & Jealousy\n",
       "1961  57.0 2010-01-12      kutahya            brother                Unknown\n",
       "1962  34.0 2010-01-11        adana          boyfriend                Unknown\n",
       "1963   NaN 2010-01-03       bitlis            partner  Separation & Jealousy\n",
       "\n",
       "[1961 rows x 5 columns]"
      ]
     },
     "execution_count": 75,
     "metadata": {},
     "output_type": "execute_result"
    }
   ],
   "source": [
    "victims3"
   ]
  },
  {
   "cell_type": "code",
   "execution_count": 76,
   "metadata": {},
   "outputs": [],
   "source": [
    "count1 = victims3.groupby([victims3['prov_name'], victims3['date'].dt.year.rename('year')]).agg({'count'})"
   ]
  },
  {
   "cell_type": "code",
   "execution_count": 77,
   "metadata": {},
   "outputs": [
    {
     "data": {
      "text/html": [
       "<div>\n",
       "<style scoped>\n",
       "    .dataframe tbody tr th:only-of-type {\n",
       "        vertical-align: middle;\n",
       "    }\n",
       "\n",
       "    .dataframe tbody tr th {\n",
       "        vertical-align: top;\n",
       "    }\n",
       "\n",
       "    .dataframe thead th {\n",
       "        text-align: right;\n",
       "    }\n",
       "</style>\n",
       "<table border=\"1\" class=\"dataframe\">\n",
       "  <thead>\n",
       "    <tr style=\"text-align: right;\">\n",
       "      <th></th>\n",
       "      <th>prov_name</th>\n",
       "      <th>year</th>\n",
       "      <th>age_count</th>\n",
       "      <th>date_count</th>\n",
       "      <th>perpetrator_en_new_count</th>\n",
       "      <th>excuses_cat_count</th>\n",
       "    </tr>\n",
       "  </thead>\n",
       "  <tbody>\n",
       "    <tr>\n",
       "      <th>0</th>\n",
       "      <td>adana</td>\n",
       "      <td>2010</td>\n",
       "      <td>18</td>\n",
       "      <td>20</td>\n",
       "      <td>20</td>\n",
       "      <td>20</td>\n",
       "    </tr>\n",
       "    <tr>\n",
       "      <th>1</th>\n",
       "      <td>adana</td>\n",
       "      <td>2011</td>\n",
       "      <td>15</td>\n",
       "      <td>15</td>\n",
       "      <td>15</td>\n",
       "      <td>15</td>\n",
       "    </tr>\n",
       "    <tr>\n",
       "      <th>2</th>\n",
       "      <td>adana</td>\n",
       "      <td>2012</td>\n",
       "      <td>9</td>\n",
       "      <td>9</td>\n",
       "      <td>9</td>\n",
       "      <td>9</td>\n",
       "    </tr>\n",
       "    <tr>\n",
       "      <th>3</th>\n",
       "      <td>adana</td>\n",
       "      <td>2013</td>\n",
       "      <td>7</td>\n",
       "      <td>7</td>\n",
       "      <td>7</td>\n",
       "      <td>7</td>\n",
       "    </tr>\n",
       "    <tr>\n",
       "      <th>4</th>\n",
       "      <td>adana</td>\n",
       "      <td>2014</td>\n",
       "      <td>14</td>\n",
       "      <td>14</td>\n",
       "      <td>14</td>\n",
       "      <td>14</td>\n",
       "    </tr>\n",
       "    <tr>\n",
       "      <th>...</th>\n",
       "      <td>...</td>\n",
       "      <td>...</td>\n",
       "      <td>...</td>\n",
       "      <td>...</td>\n",
       "      <td>...</td>\n",
       "      <td>...</td>\n",
       "    </tr>\n",
       "    <tr>\n",
       "      <th>444</th>\n",
       "      <td>zonguldak</td>\n",
       "      <td>2013</td>\n",
       "      <td>3</td>\n",
       "      <td>3</td>\n",
       "      <td>3</td>\n",
       "      <td>3</td>\n",
       "    </tr>\n",
       "    <tr>\n",
       "      <th>445</th>\n",
       "      <td>zonguldak</td>\n",
       "      <td>2014</td>\n",
       "      <td>5</td>\n",
       "      <td>5</td>\n",
       "      <td>5</td>\n",
       "      <td>5</td>\n",
       "    </tr>\n",
       "    <tr>\n",
       "      <th>446</th>\n",
       "      <td>zonguldak</td>\n",
       "      <td>2015</td>\n",
       "      <td>1</td>\n",
       "      <td>1</td>\n",
       "      <td>1</td>\n",
       "      <td>1</td>\n",
       "    </tr>\n",
       "    <tr>\n",
       "      <th>447</th>\n",
       "      <td>zonguldak</td>\n",
       "      <td>2016</td>\n",
       "      <td>4</td>\n",
       "      <td>4</td>\n",
       "      <td>4</td>\n",
       "      <td>4</td>\n",
       "    </tr>\n",
       "    <tr>\n",
       "      <th>448</th>\n",
       "      <td>zonguldak</td>\n",
       "      <td>2017</td>\n",
       "      <td>3</td>\n",
       "      <td>4</td>\n",
       "      <td>4</td>\n",
       "      <td>4</td>\n",
       "    </tr>\n",
       "  </tbody>\n",
       "</table>\n",
       "<p>449 rows × 6 columns</p>\n",
       "</div>"
      ],
      "text/plain": [
       "      prov_name  year  age_count  date_count  perpetrator_en_new_count  \\\n",
       "0         adana  2010         18          20                        20   \n",
       "1         adana  2011         15          15                        15   \n",
       "2         adana  2012          9           9                         9   \n",
       "3         adana  2013          7           7                         7   \n",
       "4         adana  2014         14          14                        14   \n",
       "..          ...   ...        ...         ...                       ...   \n",
       "444   zonguldak  2013          3           3                         3   \n",
       "445   zonguldak  2014          5           5                         5   \n",
       "446   zonguldak  2015          1           1                         1   \n",
       "447   zonguldak  2016          4           4                         4   \n",
       "448   zonguldak  2017          3           4                         4   \n",
       "\n",
       "     excuses_cat_count  \n",
       "0                   20  \n",
       "1                   15  \n",
       "2                    9  \n",
       "3                    7  \n",
       "4                   14  \n",
       "..                 ...  \n",
       "444                  3  \n",
       "445                  5  \n",
       "446                  1  \n",
       "447                  4  \n",
       "448                  4  \n",
       "\n",
       "[449 rows x 6 columns]"
      ]
     },
     "execution_count": 77,
     "metadata": {},
     "output_type": "execute_result"
    }
   ],
   "source": [
    "#flatten the headers\n",
    "count1.columns =count1.columns.map('_'.join)\n",
    "count1 = count1.reset_index()\n",
    "count1"
   ]
  },
  {
   "cell_type": "code",
   "execution_count": 78,
   "metadata": {},
   "outputs": [],
   "source": [
    "count_fem_prov = pd.concat([count1['prov_name'], count1['year'], count1['date_count']], axis=1, keys=[\"prov_name\", \"year\", \"count\"])"
   ]
  },
  {
   "cell_type": "markdown",
   "metadata": {},
   "source": [
    "Final clean up before merging. Some extra spaces were present in count_fem_prov and regions indexes had to be dropped."
   ]
  },
  {
   "cell_type": "code",
   "execution_count": 79,
   "metadata": {},
   "outputs": [],
   "source": [
    "count_fem_prov['prov_name'] = count_fem_prov['prov_name'].str.strip()"
   ]
  },
  {
   "cell_type": "code",
   "execution_count": 80,
   "metadata": {},
   "outputs": [],
   "source": [
    "regions_info = regions_info.reset_index()"
   ]
  },
  {
   "cell_type": "code",
   "execution_count": 81,
   "metadata": {},
   "outputs": [],
   "source": [
    "regions_info[\"count\"]=\"\"\n",
    "for i in range(count_fem_prov.shape[0]):\n",
    "    for j in range(regions_info.shape[0]):\n",
    "        if regions_info.at[j, \"prov_name\"] == count_fem_prov.at[i, \"prov_name\"] and regions_info.at[j, \"year\"] == count_fem_prov.at[i, \"year\"]:\n",
    "            regions_info.at[j, \"count\"] = count_fem_prov.at[i, \"count\"]        "
   ]
  },
  {
   "cell_type": "markdown",
   "metadata": {},
   "source": [
    "drop index"
   ]
  },
  {
   "cell_type": "code",
   "execution_count": 82,
   "metadata": {},
   "outputs": [],
   "source": [
    "regions_info = regions_info.drop('index', axis=1)"
   ]
  },
  {
   "cell_type": "markdown",
   "metadata": {},
   "source": [
    "Check for nulls after adding count. Are there provinces with no count?"
   ]
  },
  {
   "cell_type": "code",
   "execution_count": 83,
   "metadata": {},
   "outputs": [
    {
     "data": {
      "text/plain": [
       "prov_code           0.0\n",
       "prov_name           0.0\n",
       "year                0.0\n",
       "all_wm_prov         0.0\n",
       "knows_wm_prov       0.0\n",
       "total_pop           0.0\n",
       "ethnic_turkish      0.0\n",
       "ethnic_kurdish      0.0\n",
       "ln_casualty         0.0\n",
       "ln_gdppc_cons       0.0\n",
       "divorce_rate_ma5    0.0\n",
       "mosques_perk        0.0\n",
       "ceasefire           0.0\n",
       "fm_diff_educ        0.0\n",
       "count               0.0\n",
       "dtype: float64"
      ]
     },
     "execution_count": 83,
     "metadata": {},
     "output_type": "execute_result"
    }
   ],
   "source": [
    "round(regions_info.isna().sum()/len(regions_info),4)*100 "
   ]
  },
  {
   "cell_type": "markdown",
   "metadata": {},
   "source": [
    "We are good to go!"
   ]
  },
  {
   "cell_type": "markdown",
   "metadata": {},
   "source": [
    "#### Add Politics to demographics \n",
    "- see chapter 4b for explanation loop\n",
    "- got the data from https://secim.haberler.com/2014/illerde-durum/"
   ]
  },
  {
   "cell_type": "code",
   "execution_count": 84,
   "metadata": {},
   "outputs": [],
   "source": [
    "regions_info[\"pol_attitude\"]=\"\"\n",
    "for i in range(elections_cleaned.shape[0]):\n",
    "    for j in range(regions_info.shape[0]):\n",
    "        if regions_info.at[j,\"prov_name\"] == elections_cleaned.at[i,\"prov_name\"]:\n",
    "            if regions_info.at[j,\"year\"] in range(2010, 2013):\n",
    "                regions_info.at[j, \"pol_attitude\"] =elections_cleaned.at[i,\"pol_2009\"]           \n",
    "            elif regions_info.at[j,\"year\"] in range(2013, 2017):\n",
    "                regions_info.at[j, \"pol_attitude\"] =elections_cleaned.at[i,'pol_2014']  \n",
    "            elif regions_info.at[j,\"year\"]in range(2017, 2020):\n",
    "                regions_info.at[j, \"pol_attitude\"] =elections_cleaned.at[i,\"pol_2019\"]  "
   ]
  },
  {
   "cell_type": "markdown",
   "metadata": {},
   "source": [
    "Checking the count for empty values and spaces"
   ]
  },
  {
   "cell_type": "code",
   "execution_count": 85,
   "metadata": {},
   "outputs": [
    {
     "data": {
      "text/plain": [
       "array([20, 15, 9, 7, 14, 12, 11, 18, '', 1, 2, 4, 3, 10, 16, 13, 5, 6, 8,\n",
       "       37, 27, 31, 28, 46, 34], dtype=object)"
      ]
     },
     "execution_count": 85,
     "metadata": {},
     "output_type": "execute_result"
    }
   ],
   "source": [
    "regions_info['count'].unique()"
   ]
  },
  {
   "cell_type": "code",
   "execution_count": 86,
   "metadata": {},
   "outputs": [],
   "source": [
    "regions_info['count']= regions_info['count'].replace(r'^\\s*$', np.nan, regex=True)"
   ]
  },
  {
   "cell_type": "code",
   "execution_count": 87,
   "metadata": {},
   "outputs": [
    {
     "data": {
      "text/html": [
       "<div>\n",
       "<style scoped>\n",
       "    .dataframe tbody tr th:only-of-type {\n",
       "        vertical-align: middle;\n",
       "    }\n",
       "\n",
       "    .dataframe tbody tr th {\n",
       "        vertical-align: top;\n",
       "    }\n",
       "\n",
       "    .dataframe thead th {\n",
       "        text-align: right;\n",
       "    }\n",
       "</style>\n",
       "<table border=\"1\" class=\"dataframe\">\n",
       "  <thead>\n",
       "    <tr style=\"text-align: right;\">\n",
       "      <th></th>\n",
       "      <th>prov_code</th>\n",
       "      <th>prov_name</th>\n",
       "      <th>year</th>\n",
       "      <th>all_wm_prov</th>\n",
       "      <th>knows_wm_prov</th>\n",
       "      <th>total_pop</th>\n",
       "      <th>ethnic_turkish</th>\n",
       "      <th>ethnic_kurdish</th>\n",
       "      <th>ln_casualty</th>\n",
       "      <th>ln_gdppc_cons</th>\n",
       "      <th>divorce_rate_ma5</th>\n",
       "      <th>mosques_perk</th>\n",
       "      <th>ceasefire</th>\n",
       "      <th>fm_diff_educ</th>\n",
       "      <th>count</th>\n",
       "      <th>pol_attitude</th>\n",
       "    </tr>\n",
       "  </thead>\n",
       "  <tbody>\n",
       "    <tr>\n",
       "      <th>0</th>\n",
       "      <td>1</td>\n",
       "      <td>adana</td>\n",
       "      <td>2010</td>\n",
       "      <td>20.0</td>\n",
       "      <td>19.0</td>\n",
       "      <td>2085225.0</td>\n",
       "      <td>82.03772</td>\n",
       "      <td>13.370917</td>\n",
       "      <td>3.178054</td>\n",
       "      <td>4.187798</td>\n",
       "      <td>1.458</td>\n",
       "      <td>0.606649</td>\n",
       "      <td>0</td>\n",
       "      <td>-0.062882</td>\n",
       "      <td>20.0</td>\n",
       "      <td>-29.70</td>\n",
       "    </tr>\n",
       "    <tr>\n",
       "      <th>1</th>\n",
       "      <td>1</td>\n",
       "      <td>adana</td>\n",
       "      <td>2011</td>\n",
       "      <td>15.0</td>\n",
       "      <td>15.0</td>\n",
       "      <td>2108805.0</td>\n",
       "      <td>82.03772</td>\n",
       "      <td>13.370917</td>\n",
       "      <td>3.178054</td>\n",
       "      <td>4.270533</td>\n",
       "      <td>1.532</td>\n",
       "      <td>0.599866</td>\n",
       "      <td>0</td>\n",
       "      <td>-0.068188</td>\n",
       "      <td>15.0</td>\n",
       "      <td>-29.70</td>\n",
       "    </tr>\n",
       "    <tr>\n",
       "      <th>2</th>\n",
       "      <td>1</td>\n",
       "      <td>adana</td>\n",
       "      <td>2012</td>\n",
       "      <td>9.0</td>\n",
       "      <td>9.0</td>\n",
       "      <td>2125635.0</td>\n",
       "      <td>82.03772</td>\n",
       "      <td>13.370917</td>\n",
       "      <td>3.178054</td>\n",
       "      <td>4.310695</td>\n",
       "      <td>1.632</td>\n",
       "      <td>0.640750</td>\n",
       "      <td>0</td>\n",
       "      <td>-0.067100</td>\n",
       "      <td>9.0</td>\n",
       "      <td>-29.70</td>\n",
       "    </tr>\n",
       "    <tr>\n",
       "      <th>3</th>\n",
       "      <td>1</td>\n",
       "      <td>adana</td>\n",
       "      <td>2013</td>\n",
       "      <td>7.0</td>\n",
       "      <td>7.0</td>\n",
       "      <td>2149260.0</td>\n",
       "      <td>82.03772</td>\n",
       "      <td>13.370917</td>\n",
       "      <td>3.178054</td>\n",
       "      <td>4.350712</td>\n",
       "      <td>1.712</td>\n",
       "      <td>0.651852</td>\n",
       "      <td>1</td>\n",
       "      <td>-0.066711</td>\n",
       "      <td>7.0</td>\n",
       "      <td>-33.60</td>\n",
       "    </tr>\n",
       "    <tr>\n",
       "      <th>4</th>\n",
       "      <td>1</td>\n",
       "      <td>adana</td>\n",
       "      <td>2014</td>\n",
       "      <td>14.0</td>\n",
       "      <td>14.0</td>\n",
       "      <td>2165595.0</td>\n",
       "      <td>82.03772</td>\n",
       "      <td>13.370917</td>\n",
       "      <td>3.178054</td>\n",
       "      <td>4.379060</td>\n",
       "      <td>1.790</td>\n",
       "      <td>0.654324</td>\n",
       "      <td>1</td>\n",
       "      <td>-0.067147</td>\n",
       "      <td>14.0</td>\n",
       "      <td>-33.60</td>\n",
       "    </tr>\n",
       "    <tr>\n",
       "      <th>...</th>\n",
       "      <td>...</td>\n",
       "      <td>...</td>\n",
       "      <td>...</td>\n",
       "      <td>...</td>\n",
       "      <td>...</td>\n",
       "      <td>...</td>\n",
       "      <td>...</td>\n",
       "      <td>...</td>\n",
       "      <td>...</td>\n",
       "      <td>...</td>\n",
       "      <td>...</td>\n",
       "      <td>...</td>\n",
       "      <td>...</td>\n",
       "      <td>...</td>\n",
       "      <td>...</td>\n",
       "      <td>...</td>\n",
       "    </tr>\n",
       "    <tr>\n",
       "      <th>643</th>\n",
       "      <td>81</td>\n",
       "      <td>duzce</td>\n",
       "      <td>2013</td>\n",
       "      <td>2.0</td>\n",
       "      <td>2.0</td>\n",
       "      <td>351509.0</td>\n",
       "      <td>87.50000</td>\n",
       "      <td>12.500000</td>\n",
       "      <td>0.000000</td>\n",
       "      <td>4.536124</td>\n",
       "      <td>1.454</td>\n",
       "      <td>1.894688</td>\n",
       "      <td>1</td>\n",
       "      <td>-0.104740</td>\n",
       "      <td>2.0</td>\n",
       "      <td>-109.00</td>\n",
       "    </tr>\n",
       "    <tr>\n",
       "      <th>644</th>\n",
       "      <td>81</td>\n",
       "      <td>duzce</td>\n",
       "      <td>2014</td>\n",
       "      <td>2.0</td>\n",
       "      <td>2.0</td>\n",
       "      <td>355549.0</td>\n",
       "      <td>87.50000</td>\n",
       "      <td>12.500000</td>\n",
       "      <td>0.000000</td>\n",
       "      <td>4.592223</td>\n",
       "      <td>1.572</td>\n",
       "      <td>1.881597</td>\n",
       "      <td>1</td>\n",
       "      <td>-0.103488</td>\n",
       "      <td>2.0</td>\n",
       "      <td>-109.00</td>\n",
       "    </tr>\n",
       "    <tr>\n",
       "      <th>645</th>\n",
       "      <td>81</td>\n",
       "      <td>duzce</td>\n",
       "      <td>2015</td>\n",
       "      <td>2.0</td>\n",
       "      <td>2.0</td>\n",
       "      <td>360388.0</td>\n",
       "      <td>87.50000</td>\n",
       "      <td>12.500000</td>\n",
       "      <td>0.000000</td>\n",
       "      <td>4.680219</td>\n",
       "      <td>1.730</td>\n",
       "      <td>1.856333</td>\n",
       "      <td>0</td>\n",
       "      <td>-0.102752</td>\n",
       "      <td>2.0</td>\n",
       "      <td>-109.00</td>\n",
       "    </tr>\n",
       "    <tr>\n",
       "      <th>646</th>\n",
       "      <td>81</td>\n",
       "      <td>duzce</td>\n",
       "      <td>2016</td>\n",
       "      <td>3.0</td>\n",
       "      <td>3.0</td>\n",
       "      <td>370371.0</td>\n",
       "      <td>87.50000</td>\n",
       "      <td>12.500000</td>\n",
       "      <td>0.000000</td>\n",
       "      <td>4.654947</td>\n",
       "      <td>1.850</td>\n",
       "      <td>1.833297</td>\n",
       "      <td>0</td>\n",
       "      <td>-0.095931</td>\n",
       "      <td>3.0</td>\n",
       "      <td>-109.00</td>\n",
       "    </tr>\n",
       "    <tr>\n",
       "      <th>647</th>\n",
       "      <td>81</td>\n",
       "      <td>duzce</td>\n",
       "      <td>2017</td>\n",
       "      <td>2.0</td>\n",
       "      <td>2.0</td>\n",
       "      <td>377610.0</td>\n",
       "      <td>87.50000</td>\n",
       "      <td>12.500000</td>\n",
       "      <td>0.000000</td>\n",
       "      <td>4.684415</td>\n",
       "      <td>1.822</td>\n",
       "      <td>1.814041</td>\n",
       "      <td>0</td>\n",
       "      <td>-0.094149</td>\n",
       "      <td>2.0</td>\n",
       "      <td>-94.28</td>\n",
       "    </tr>\n",
       "  </tbody>\n",
       "</table>\n",
       "<p>648 rows × 16 columns</p>\n",
       "</div>"
      ],
      "text/plain": [
       "     prov_code prov_name  year  all_wm_prov  knows_wm_prov  total_pop  \\\n",
       "0            1     adana  2010         20.0           19.0  2085225.0   \n",
       "1            1     adana  2011         15.0           15.0  2108805.0   \n",
       "2            1     adana  2012          9.0            9.0  2125635.0   \n",
       "3            1     adana  2013          7.0            7.0  2149260.0   \n",
       "4            1     adana  2014         14.0           14.0  2165595.0   \n",
       "..         ...       ...   ...          ...            ...        ...   \n",
       "643         81     duzce  2013          2.0            2.0   351509.0   \n",
       "644         81     duzce  2014          2.0            2.0   355549.0   \n",
       "645         81     duzce  2015          2.0            2.0   360388.0   \n",
       "646         81     duzce  2016          3.0            3.0   370371.0   \n",
       "647         81     duzce  2017          2.0            2.0   377610.0   \n",
       "\n",
       "     ethnic_turkish  ethnic_kurdish  ln_casualty  ln_gdppc_cons  \\\n",
       "0          82.03772       13.370917     3.178054       4.187798   \n",
       "1          82.03772       13.370917     3.178054       4.270533   \n",
       "2          82.03772       13.370917     3.178054       4.310695   \n",
       "3          82.03772       13.370917     3.178054       4.350712   \n",
       "4          82.03772       13.370917     3.178054       4.379060   \n",
       "..              ...             ...          ...            ...   \n",
       "643        87.50000       12.500000     0.000000       4.536124   \n",
       "644        87.50000       12.500000     0.000000       4.592223   \n",
       "645        87.50000       12.500000     0.000000       4.680219   \n",
       "646        87.50000       12.500000     0.000000       4.654947   \n",
       "647        87.50000       12.500000     0.000000       4.684415   \n",
       "\n",
       "     divorce_rate_ma5  mosques_perk  ceasefire  fm_diff_educ  count  \\\n",
       "0               1.458      0.606649          0     -0.062882   20.0   \n",
       "1               1.532      0.599866          0     -0.068188   15.0   \n",
       "2               1.632      0.640750          0     -0.067100    9.0   \n",
       "3               1.712      0.651852          1     -0.066711    7.0   \n",
       "4               1.790      0.654324          1     -0.067147   14.0   \n",
       "..                ...           ...        ...           ...    ...   \n",
       "643             1.454      1.894688          1     -0.104740    2.0   \n",
       "644             1.572      1.881597          1     -0.103488    2.0   \n",
       "645             1.730      1.856333          0     -0.102752    2.0   \n",
       "646             1.850      1.833297          0     -0.095931    3.0   \n",
       "647             1.822      1.814041          0     -0.094149    2.0   \n",
       "\n",
       "    pol_attitude  \n",
       "0         -29.70  \n",
       "1         -29.70  \n",
       "2         -29.70  \n",
       "3         -33.60  \n",
       "4         -33.60  \n",
       "..           ...  \n",
       "643      -109.00  \n",
       "644      -109.00  \n",
       "645      -109.00  \n",
       "646      -109.00  \n",
       "647       -94.28  \n",
       "\n",
       "[648 rows x 16 columns]"
      ]
     },
     "execution_count": 87,
     "metadata": {},
     "output_type": "execute_result"
    }
   ],
   "source": [
    "regions_info.to_csv('count')"
   ]
  },
  {
   "cell_type": "markdown",
   "metadata": {},
   "source": [
    "Check again for percentage of nulls. Meaning we do not have a count for those rows. There can multiple causes:\n",
    "- the cases may have not been recorded\n",
    "- they are just missing in this dataset\n",
    "- there were no cases\n",
    "- cases were not reported (This has to be accounted for throughout our cases consideration)\n",
    "\n",
    "As the model may be affected by considering the empty spaces as 0's, for now I will drop them."
   ]
  },
  {
   "cell_type": "code",
   "execution_count": 88,
   "metadata": {},
   "outputs": [
    {
     "data": {
      "text/plain": [
       "prov_code            0.00\n",
       "prov_name            0.00\n",
       "year                 0.00\n",
       "all_wm_prov          0.00\n",
       "knows_wm_prov        0.00\n",
       "total_pop            0.00\n",
       "ethnic_turkish       0.00\n",
       "ethnic_kurdish       0.00\n",
       "ln_casualty          0.00\n",
       "ln_gdppc_cons        0.00\n",
       "divorce_rate_ma5     0.00\n",
       "mosques_perk         0.00\n",
       "ceasefire            0.00\n",
       "fm_diff_educ         0.00\n",
       "count               32.41\n",
       "pol_attitude         0.00\n",
       "dtype: float64"
      ]
     },
     "execution_count": 88,
     "metadata": {},
     "output_type": "execute_result"
    }
   ],
   "source": [
    "round(regions_info.isna().sum()/len(regions_info),4)*100 "
   ]
  },
  {
   "cell_type": "code",
   "execution_count": 89,
   "metadata": {},
   "outputs": [],
   "source": [
    "regions_info=regions_info.dropna() "
   ]
  },
  {
   "cell_type": "markdown",
   "metadata": {},
   "source": [
    "#### Final Cleaning Regions"
   ]
  },
  {
   "cell_type": "markdown",
   "metadata": {},
   "source": [
    " We drop the province name and only keep the code"
   ]
  },
  {
   "cell_type": "code",
   "execution_count": 90,
   "metadata": {},
   "outputs": [],
   "source": [
    "regions_info = regions_info.drop('prov_name', axis=1)"
   ]
  },
  {
   "cell_type": "markdown",
   "metadata": {},
   "source": [
    "## Export Cleaned Files\n",
    "\n",
    "We will continue only with regional trends for the regression and clustering. We will explore country data and victim levels data on Tableau"
   ]
  },
  {
   "cell_type": "code",
   "execution_count": 91,
   "metadata": {},
   "outputs": [],
   "source": [
    "victims3.to_csv('victims_cleaned.csv')"
   ]
  },
  {
   "cell_type": "code",
   "execution_count": 92,
   "metadata": {},
   "outputs": [],
   "source": [
    "regions_info.to_csv('regions_cleaned.csv')"
   ]
  },
  {
   "cell_type": "code",
   "execution_count": 93,
   "metadata": {},
   "outputs": [],
   "source": [
    "deaths_country.to_csv('country_femicides.csv')"
   ]
  }
 ],
 "metadata": {
  "kernelspec": {
   "display_name": "Python 3",
   "language": "python",
   "name": "python3"
  },
  "language_info": {
   "codemirror_mode": {
    "name": "ipython",
    "version": 3
   },
   "file_extension": ".py",
   "mimetype": "text/x-python",
   "name": "python",
   "nbconvert_exporter": "python",
   "pygments_lexer": "ipython3",
   "version": "3.8.5"
  }
 },
 "nbformat": 4,
 "nbformat_minor": 4
}
