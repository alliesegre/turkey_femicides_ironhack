{
 "cells": [
  {
   "cell_type": "markdown",
   "metadata": {},
   "source": [
    "Before starting, converting data for regions\n",
    "\n",
    "\n",
    "data = pd.io.stata.read_stata('/Users/segre/OneDrive/Desktop/Final Project/Turkey/Files from research/wm_replication_dataset_2020_09_25.dta')\n",
    "data.to_csv('/Users/segre/OneDrive/Desktop/Final Project/Turkey/Files from research/region_info.csv')"
   ]
  },
  {
   "cell_type": "code",
   "execution_count": 530,
   "metadata": {},
   "outputs": [],
   "source": [
    "import pandas as pd\n",
    "import googletrans\n",
    "from googletrans import Translator\n",
    "import time\n"
   ]
  },
  {
   "cell_type": "markdown",
   "metadata": {},
   "source": [
    "Import Scraped Data on City Politics from other module"
   ]
  },
  {
   "cell_type": "code",
   "execution_count": 531,
   "metadata": {},
   "outputs": [],
   "source": [
    "#politics = "
   ]
  },
  {
   "cell_type": "markdown",
   "metadata": {},
   "source": [
    "Importing csv's of regions and femicides cases"
   ]
  },
  {
   "cell_type": "code",
   "execution_count": 532,
   "metadata": {},
   "outputs": [],
   "source": [
    "regions_info = pd.read_csv('/Users/segre/OneDrive/Desktop/Final Project/Turkey/Files from research/region_info.csv')"
   ]
  },
  {
   "cell_type": "code",
   "execution_count": 533,
   "metadata": {},
   "outputs": [],
   "source": [
    "victims = pd.read_csv('/Users/segre/OneDrive/Desktop/Final Project/Turkey/Files from research/victim_level_data.csv')"
   ]
  },
  {
   "cell_type": "markdown",
   "metadata": {},
   "source": [
    "# Data Cleaning\n",
    "Starting with the regions.\n",
    "Columns data:\n",
    "- Province Code\n",
    "- Province Name\n",
    "- all_wm_prov: women’s murders in Turkey (per 100,000 people) per year\n",
    "- knows_wm_prov: number of women’s murders (again, per 100,000 people) across Turkish\n",
    "provinces\n",
    "- tot_pop\n",
    "- ethnic_turkish\n",
    "- ethnic_kurdish\n",
    "- ln_gdppc_cons: e (logged) GDP per capita \n",
    "- fm_diff_educ: Gender equality in education attainment is calculated by subtracting the percentage of men who finished at least high school from the percentage of women who finished at least high school\n",
    "- divore_rate: every observation, the average divorce\n",
    "rate (i.e. number of divorces per 1000 people) in the last five years is calculated\n",
    "- mosques: Religiosity is measured by the number of mosques (per 1000 people) in a province\n",
    "- ln_casualty: civil war is measured by the (logged) number of war-related killings that occurred in a\n",
    "province between 1984 and 2010\n",
    "- ceasefire: It takes the value of 1 in years 2013 and 2014, and 0 otherwise. This variable is interacted with Civil War Exposure."
   ]
  },
  {
   "cell_type": "code",
   "execution_count": 534,
   "metadata": {},
   "outputs": [],
   "source": [
    "regions_info = regions_info.drop('Unnamed: 0', axis=1)"
   ]
  },
  {
   "cell_type": "code",
   "execution_count": 535,
   "metadata": {},
   "outputs": [
    {
     "name": "stdout",
     "output_type": "stream",
     "text": [
      "<class 'pandas.core.frame.DataFrame'>\n",
      "RangeIndex: 2460 entries, 0 to 2459\n",
      "Data columns (total 14 columns):\n",
      " #   Column            Non-Null Count  Dtype  \n",
      "---  ------            --------------  -----  \n",
      " 0   prov_code         2460 non-null   int64  \n",
      " 1   prov_name         2460 non-null   object \n",
      " 2   year              2460 non-null   int64  \n",
      " 3   all_wm_prov       648 non-null    float64\n",
      " 4   knows_wm_prov     648 non-null    float64\n",
      " 5   total_pop         648 non-null    float64\n",
      " 6   ethnic_turkish    648 non-null    float64\n",
      " 7   ethnic_kurdish    648 non-null    float64\n",
      " 8   ln_casualty       648 non-null    float64\n",
      " 9   ln_gdppc_cons     891 non-null    float64\n",
      " 10  divorce_rate_ma5  1377 non-null   float64\n",
      " 11  mosques_perk      648 non-null    float64\n",
      " 12  ceasefire         2460 non-null   int64  \n",
      " 13  fm_diff_educ      810 non-null    float64\n",
      "dtypes: float64(10), int64(3), object(1)\n",
      "memory usage: 269.2+ KB\n"
     ]
    }
   ],
   "source": [
    "regions_info.info()"
   ]
  },
  {
   "cell_type": "markdown",
   "metadata": {},
   "source": [
    "We can already drop the years we do not need. Our dataset on femicides goes from 2010 to 2017. So for now, I will only keep data from 2009 to 2017."
   ]
  },
  {
   "cell_type": "code",
   "execution_count": 536,
   "metadata": {},
   "outputs": [],
   "source": [
    "regions_info.drop(regions_info[regions_info['year'] < 2010].index, inplace = True) "
   ]
  },
  {
   "cell_type": "code",
   "execution_count": 537,
   "metadata": {},
   "outputs": [],
   "source": [
    "regions_info.drop(regions_info[regions_info['year'] > 2017].index, inplace = True) "
   ]
  },
  {
   "cell_type": "code",
   "execution_count": 538,
   "metadata": {},
   "outputs": [
    {
     "data": {
      "text/plain": [
       "array([2010, 2011, 2012, 2013, 2014, 2015, 2016, 2017], dtype=int64)"
      ]
     },
     "execution_count": 538,
     "metadata": {},
     "output_type": "execute_result"
    }
   ],
   "source": [
    "regions_info['year'].unique()"
   ]
  },
  {
   "cell_type": "markdown",
   "metadata": {},
   "source": [
    "We do not convert to datetime as we only have the years."
   ]
  },
  {
   "cell_type": "markdown",
   "metadata": {},
   "source": [
    "## Exploration of data regions"
   ]
  },
  {
   "cell_type": "markdown",
   "metadata": {},
   "source": [
    "Check for duplicates"
   ]
  },
  {
   "cell_type": "code",
   "execution_count": 539,
   "metadata": {},
   "outputs": [
    {
     "data": {
      "text/plain": [
       "0"
      ]
     },
     "execution_count": 539,
     "metadata": {},
     "output_type": "execute_result"
    }
   ],
   "source": [
    "sum(regions_info.duplicated())"
   ]
  },
  {
   "cell_type": "markdown",
   "metadata": {},
   "source": [
    "Check for nulls. Nothing needed."
   ]
  },
  {
   "cell_type": "code",
   "execution_count": 540,
   "metadata": {},
   "outputs": [
    {
     "data": {
      "text/plain": [
       "prov_code           0.0\n",
       "prov_name           0.0\n",
       "year                0.0\n",
       "all_wm_prov         0.0\n",
       "knows_wm_prov       0.0\n",
       "total_pop           0.0\n",
       "ethnic_turkish      0.0\n",
       "ethnic_kurdish      0.0\n",
       "ln_casualty         0.0\n",
       "ln_gdppc_cons       0.0\n",
       "divorce_rate_ma5    0.0\n",
       "mosques_perk        0.0\n",
       "ceasefire           0.0\n",
       "fm_diff_educ        0.0\n",
       "dtype: float64"
      ]
     },
     "execution_count": 540,
     "metadata": {},
     "output_type": "execute_result"
    }
   ],
   "source": [
    "round(regions_info.isna().sum()/len(regions_info),4)*100"
   ]
  },
  {
   "cell_type": "markdown",
   "metadata": {},
   "source": [
    "Check data details"
   ]
  },
  {
   "cell_type": "code",
   "execution_count": 541,
   "metadata": {},
   "outputs": [
    {
     "data": {
      "text/html": [
       "<div>\n",
       "<style scoped>\n",
       "    .dataframe tbody tr th:only-of-type {\n",
       "        vertical-align: middle;\n",
       "    }\n",
       "\n",
       "    .dataframe tbody tr th {\n",
       "        vertical-align: top;\n",
       "    }\n",
       "\n",
       "    .dataframe thead th {\n",
       "        text-align: right;\n",
       "    }\n",
       "</style>\n",
       "<table border=\"1\" class=\"dataframe\">\n",
       "  <thead>\n",
       "    <tr style=\"text-align: right;\">\n",
       "      <th></th>\n",
       "      <th>prov_code</th>\n",
       "      <th>prov_name</th>\n",
       "      <th>year</th>\n",
       "      <th>all_wm_prov</th>\n",
       "      <th>knows_wm_prov</th>\n",
       "      <th>total_pop</th>\n",
       "      <th>ethnic_turkish</th>\n",
       "      <th>ethnic_kurdish</th>\n",
       "      <th>ln_casualty</th>\n",
       "      <th>ln_gdppc_cons</th>\n",
       "      <th>divorce_rate_ma5</th>\n",
       "      <th>mosques_perk</th>\n",
       "      <th>ceasefire</th>\n",
       "      <th>fm_diff_educ</th>\n",
       "    </tr>\n",
       "  </thead>\n",
       "  <tbody>\n",
       "    <tr>\n",
       "      <th>count</th>\n",
       "      <td>648.000000</td>\n",
       "      <td>648</td>\n",
       "      <td>648.000000</td>\n",
       "      <td>648.000000</td>\n",
       "      <td>648.000000</td>\n",
       "      <td>6.480000e+02</td>\n",
       "      <td>648.000000</td>\n",
       "      <td>648.000000</td>\n",
       "      <td>648.000000</td>\n",
       "      <td>648.000000</td>\n",
       "      <td>648.000000</td>\n",
       "      <td>648.000000</td>\n",
       "      <td>648.000000</td>\n",
       "      <td>648.000000</td>\n",
       "    </tr>\n",
       "    <tr>\n",
       "      <th>unique</th>\n",
       "      <td>NaN</td>\n",
       "      <td>81</td>\n",
       "      <td>NaN</td>\n",
       "      <td>NaN</td>\n",
       "      <td>NaN</td>\n",
       "      <td>NaN</td>\n",
       "      <td>NaN</td>\n",
       "      <td>NaN</td>\n",
       "      <td>NaN</td>\n",
       "      <td>NaN</td>\n",
       "      <td>NaN</td>\n",
       "      <td>NaN</td>\n",
       "      <td>NaN</td>\n",
       "      <td>NaN</td>\n",
       "    </tr>\n",
       "    <tr>\n",
       "      <th>top</th>\n",
       "      <td>NaN</td>\n",
       "      <td>MERSIN</td>\n",
       "      <td>NaN</td>\n",
       "      <td>NaN</td>\n",
       "      <td>NaN</td>\n",
       "      <td>NaN</td>\n",
       "      <td>NaN</td>\n",
       "      <td>NaN</td>\n",
       "      <td>NaN</td>\n",
       "      <td>NaN</td>\n",
       "      <td>NaN</td>\n",
       "      <td>NaN</td>\n",
       "      <td>NaN</td>\n",
       "      <td>NaN</td>\n",
       "    </tr>\n",
       "    <tr>\n",
       "      <th>freq</th>\n",
       "      <td>NaN</td>\n",
       "      <td>8</td>\n",
       "      <td>NaN</td>\n",
       "      <td>NaN</td>\n",
       "      <td>NaN</td>\n",
       "      <td>NaN</td>\n",
       "      <td>NaN</td>\n",
       "      <td>NaN</td>\n",
       "      <td>NaN</td>\n",
       "      <td>NaN</td>\n",
       "      <td>NaN</td>\n",
       "      <td>NaN</td>\n",
       "      <td>NaN</td>\n",
       "      <td>NaN</td>\n",
       "    </tr>\n",
       "    <tr>\n",
       "      <th>mean</th>\n",
       "      <td>41.000000</td>\n",
       "      <td>NaN</td>\n",
       "      <td>2013.500000</td>\n",
       "      <td>3.030864</td>\n",
       "      <td>2.915123</td>\n",
       "      <td>9.534026e+05</td>\n",
       "      <td>75.425493</td>\n",
       "      <td>21.467349</td>\n",
       "      <td>2.345763</td>\n",
       "      <td>4.344408</td>\n",
       "      <td>1.283133</td>\n",
       "      <td>1.843475</td>\n",
       "      <td>0.250000</td>\n",
       "      <td>-0.100884</td>\n",
       "    </tr>\n",
       "    <tr>\n",
       "      <th>std</th>\n",
       "      <td>23.398966</td>\n",
       "      <td>NaN</td>\n",
       "      <td>2.293058</td>\n",
       "      <td>5.068218</td>\n",
       "      <td>4.868333</td>\n",
       "      <td>1.706082e+06</td>\n",
       "      <td>33.867957</td>\n",
       "      <td>32.434790</td>\n",
       "      <td>2.623615</td>\n",
       "      <td>0.342109</td>\n",
       "      <td>0.616719</td>\n",
       "      <td>1.160641</td>\n",
       "      <td>0.433347</td>\n",
       "      <td>0.028900</td>\n",
       "    </tr>\n",
       "    <tr>\n",
       "      <th>min</th>\n",
       "      <td>1.000000</td>\n",
       "      <td>NaN</td>\n",
       "      <td>2010.000000</td>\n",
       "      <td>0.000000</td>\n",
       "      <td>0.000000</td>\n",
       "      <td>7.441200e+04</td>\n",
       "      <td>0.000000</td>\n",
       "      <td>0.000000</td>\n",
       "      <td>0.000000</td>\n",
       "      <td>3.463987</td>\n",
       "      <td>0.114000</td>\n",
       "      <td>0.226302</td>\n",
       "      <td>0.000000</td>\n",
       "      <td>-0.184529</td>\n",
       "    </tr>\n",
       "    <tr>\n",
       "      <th>25%</th>\n",
       "      <td>21.000000</td>\n",
       "      <td>NaN</td>\n",
       "      <td>2011.750000</td>\n",
       "      <td>0.000000</td>\n",
       "      <td>0.000000</td>\n",
       "      <td>2.808055e+05</td>\n",
       "      <td>62.074455</td>\n",
       "      <td>0.000000</td>\n",
       "      <td>0.000000</td>\n",
       "      <td>4.108124</td>\n",
       "      <td>0.857000</td>\n",
       "      <td>1.120346</td>\n",
       "      <td>0.000000</td>\n",
       "      <td>-0.119214</td>\n",
       "    </tr>\n",
       "    <tr>\n",
       "      <th>50%</th>\n",
       "      <td>41.000000</td>\n",
       "      <td>NaN</td>\n",
       "      <td>2013.500000</td>\n",
       "      <td>1.000000</td>\n",
       "      <td>1.000000</td>\n",
       "      <td>5.131070e+05</td>\n",
       "      <td>94.709680</td>\n",
       "      <td>3.169473</td>\n",
       "      <td>1.098612</td>\n",
       "      <td>4.336241</td>\n",
       "      <td>1.342000</td>\n",
       "      <td>1.577232</td>\n",
       "      <td>0.000000</td>\n",
       "      <td>-0.099548</td>\n",
       "    </tr>\n",
       "    <tr>\n",
       "      <th>75%</th>\n",
       "      <td>61.000000</td>\n",
       "      <td>NaN</td>\n",
       "      <td>2015.250000</td>\n",
       "      <td>4.000000</td>\n",
       "      <td>3.000000</td>\n",
       "      <td>9.948722e+05</td>\n",
       "      <td>99.407780</td>\n",
       "      <td>25.884853</td>\n",
       "      <td>4.204693</td>\n",
       "      <td>4.566989</td>\n",
       "      <td>1.709000</td>\n",
       "      <td>2.132194</td>\n",
       "      <td>0.250000</td>\n",
       "      <td>-0.080654</td>\n",
       "    </tr>\n",
       "    <tr>\n",
       "      <th>max</th>\n",
       "      <td>81.000000</td>\n",
       "      <td>NaN</td>\n",
       "      <td>2017.000000</td>\n",
       "      <td>46.000000</td>\n",
       "      <td>42.000000</td>\n",
       "      <td>1.502923e+07</td>\n",
       "      <td>100.000000</td>\n",
       "      <td>100.000000</td>\n",
       "      <td>8.323852</td>\n",
       "      <td>5.339387</td>\n",
       "      <td>2.754000</td>\n",
       "      <td>7.162153</td>\n",
       "      <td>1.000000</td>\n",
       "      <td>-0.043720</td>\n",
       "    </tr>\n",
       "  </tbody>\n",
       "</table>\n",
       "</div>"
      ],
      "text/plain": [
       "         prov_code prov_name         year  all_wm_prov  knows_wm_prov  \\\n",
       "count   648.000000       648   648.000000   648.000000     648.000000   \n",
       "unique         NaN        81          NaN          NaN            NaN   \n",
       "top            NaN    MERSIN          NaN          NaN            NaN   \n",
       "freq           NaN         8          NaN          NaN            NaN   \n",
       "mean     41.000000       NaN  2013.500000     3.030864       2.915123   \n",
       "std      23.398966       NaN     2.293058     5.068218       4.868333   \n",
       "min       1.000000       NaN  2010.000000     0.000000       0.000000   \n",
       "25%      21.000000       NaN  2011.750000     0.000000       0.000000   \n",
       "50%      41.000000       NaN  2013.500000     1.000000       1.000000   \n",
       "75%      61.000000       NaN  2015.250000     4.000000       3.000000   \n",
       "max      81.000000       NaN  2017.000000    46.000000      42.000000   \n",
       "\n",
       "           total_pop  ethnic_turkish  ethnic_kurdish  ln_casualty  \\\n",
       "count   6.480000e+02      648.000000      648.000000   648.000000   \n",
       "unique           NaN             NaN             NaN          NaN   \n",
       "top              NaN             NaN             NaN          NaN   \n",
       "freq             NaN             NaN             NaN          NaN   \n",
       "mean    9.534026e+05       75.425493       21.467349     2.345763   \n",
       "std     1.706082e+06       33.867957       32.434790     2.623615   \n",
       "min     7.441200e+04        0.000000        0.000000     0.000000   \n",
       "25%     2.808055e+05       62.074455        0.000000     0.000000   \n",
       "50%     5.131070e+05       94.709680        3.169473     1.098612   \n",
       "75%     9.948722e+05       99.407780       25.884853     4.204693   \n",
       "max     1.502923e+07      100.000000      100.000000     8.323852   \n",
       "\n",
       "        ln_gdppc_cons  divorce_rate_ma5  mosques_perk   ceasefire  \\\n",
       "count      648.000000        648.000000    648.000000  648.000000   \n",
       "unique            NaN               NaN           NaN         NaN   \n",
       "top               NaN               NaN           NaN         NaN   \n",
       "freq              NaN               NaN           NaN         NaN   \n",
       "mean         4.344408          1.283133      1.843475    0.250000   \n",
       "std          0.342109          0.616719      1.160641    0.433347   \n",
       "min          3.463987          0.114000      0.226302    0.000000   \n",
       "25%          4.108124          0.857000      1.120346    0.000000   \n",
       "50%          4.336241          1.342000      1.577232    0.000000   \n",
       "75%          4.566989          1.709000      2.132194    0.250000   \n",
       "max          5.339387          2.754000      7.162153    1.000000   \n",
       "\n",
       "        fm_diff_educ  \n",
       "count     648.000000  \n",
       "unique           NaN  \n",
       "top              NaN  \n",
       "freq             NaN  \n",
       "mean       -0.100884  \n",
       "std         0.028900  \n",
       "min        -0.184529  \n",
       "25%        -0.119214  \n",
       "50%        -0.099548  \n",
       "75%        -0.080654  \n",
       "max        -0.043720  "
      ]
     },
     "execution_count": 541,
     "metadata": {},
     "output_type": "execute_result"
    }
   ],
   "source": [
    "regions_info.describe(include = 'all')"
   ]
  },
  {
   "cell_type": "markdown",
   "metadata": {},
   "source": [
    "We drop the province name and only keep the province code"
   ]
  },
  {
   "cell_type": "code",
   "execution_count": 562,
   "metadata": {},
   "outputs": [],
   "source": [
    "regions_info = regions_info.drop('prov_name', axis=1)"
   ]
  },
  {
   "cell_type": "markdown",
   "metadata": {},
   "source": [
    "# Data Cleaning and Translations for Victims Cases"
   ]
  },
  {
   "cell_type": "code",
   "execution_count": 542,
   "metadata": {},
   "outputs": [],
   "source": [
    "victims.rename(columns = {'isim':'victim_name', 'yaş':'age', 'tarih':'date',\n",
    "                         'yer':'place','fail':'perpetrator',\n",
    "                         'bahane':'excuse', 'hikaye':'story' }, inplace = True) \n"
   ]
  },
  {
   "cell_type": "code",
   "execution_count": 543,
   "metadata": {},
   "outputs": [],
   "source": [
    "victims1 = victims.drop('link', axis=1)"
   ]
  },
  {
   "cell_type": "code",
   "execution_count": 544,
   "metadata": {},
   "outputs": [],
   "source": [
    "victims1 = victims1.drop('victim_name', axis=1)"
   ]
  },
  {
   "cell_type": "markdown",
   "metadata": {},
   "source": [
    "Splitting locations to have a better overview on cities"
   ]
  },
  {
   "cell_type": "code",
   "execution_count": 545,
   "metadata": {},
   "outputs": [],
   "source": [
    "victims2 = victims1.join(victims['place'].str.split(',', 1, expand=True).rename(columns={0:'district', 1:'city'}))\n"
   ]
  },
  {
   "cell_type": "code",
   "execution_count": 546,
   "metadata": {},
   "outputs": [],
   "source": [
    "victims2 = victims2.drop('place', axis=1)"
   ]
  },
  {
   "cell_type": "markdown",
   "metadata": {},
   "source": [
    "Translate from Turkish "
   ]
  },
  {
   "cell_type": "code",
   "execution_count": 547,
   "metadata": {},
   "outputs": [
    {
     "data": {
      "text/plain": [
       "array(['Erkek arkadaşı', 'Kocası', 'Oğlu', 'Eski kocası',\n",
       "       'Tanıdığı bir erkek', 'Babası', 'Diğer yakını',\n",
       "       'Dini nikahlı kocası', 'Üvey oğlu', 'Erkek kardeşi',\n",
       "       'Eski erkek arkadaşı', 'Akrabası', 'Damadı', 'Saldırgan',\n",
       "       'Dini nikahlı eski kocası', 'Kayınpederi'], dtype=object)"
      ]
     },
     "execution_count": 547,
     "metadata": {},
     "output_type": "execute_result"
    }
   ],
   "source": [
    "victims2['perpetrator'].unique()"
   ]
  },
  {
   "cell_type": "code",
   "execution_count": 548,
   "metadata": {},
   "outputs": [],
   "source": [
    "translations = {\n",
    "        'Erkek arkadaşı':'boyfriend',\n",
    "        'Kocası':'husband',\n",
    "        'Oğlu':'son',\n",
    "        'Eski kocası':'ex-husband',\n",
    "        'Tanıdığı bir erkek':'known man',\n",
    "        'Babası':'father',\n",
    "        'Diğer yakını':'other relative',\n",
    "        'Dini nikahlı kocası':'religiously-married husband',\n",
    "        'Üvey oğlu':'step-son',\n",
    "        'Erkek kardeşi':'brother',\n",
    "        'Eski erkek arkadaşı':'ex-boyfriend',\n",
    "        'Akrabası':'relative',\n",
    "        'Damadı':'fiancè',\n",
    "        'Saldırgan':'attacker', \n",
    "        'Dini nikahlı eski kocası':'religiously married ex-husband', \n",
    "        'Kayınpederi':'father-in-law'\n",
    "    }\n",
    "\n",
    "victims2['perpetrator_en'] = victims2['perpetrator'].replace(translations)"
   ]
  },
  {
   "cell_type": "markdown",
   "metadata": {},
   "source": [
    "Remapping perpetratore categories"
   ]
  },
  {
   "cell_type": "code",
   "execution_count": 549,
   "metadata": {},
   "outputs": [],
   "source": [
    "remapping_perpetrator = {\n",
    "        'boyfriend': ['boyfriend'],\n",
    "        'partner':['fiancè','husband','religiously-married husband'],\n",
    "        'son':['son', 'step-son'],\n",
    "        'known man': ['known man'],\n",
    "        'father':['father'],\n",
    "        'relative':['other relative','relative'],\n",
    "        'brother':['brother'],\n",
    "        'attacker':['attacker'],\n",
    "        'ex-partner':['ex-husband','religiously married ex-husband', 'ex-boyfriend'],\n",
    "        'father-in-law':['father-in-law']\n",
    "    }\n",
    "victims2['perpetrator_en_new'] = victims2['perpetrator_en'].map(lambda x: next((k for k, v in remapping_perpetrator.items() if x in v), None))"
   ]
  },
  {
   "cell_type": "code",
   "execution_count": 550,
   "metadata": {},
   "outputs": [],
   "source": [
    "victims2 = victims2.drop('perpetrator', axis=1)\n"
   ]
  },
  {
   "cell_type": "code",
   "execution_count": 551,
   "metadata": {},
   "outputs": [],
   "source": [
    "victims2 =victims2.drop('perpetrator_en', axis=1)"
   ]
  },
  {
   "cell_type": "code",
   "execution_count": 552,
   "metadata": {},
   "outputs": [
    {
     "data": {
      "text/html": [
       "<div>\n",
       "<style scoped>\n",
       "    .dataframe tbody tr th:only-of-type {\n",
       "        vertical-align: middle;\n",
       "    }\n",
       "\n",
       "    .dataframe tbody tr th {\n",
       "        vertical-align: top;\n",
       "    }\n",
       "\n",
       "    .dataframe thead th {\n",
       "        text-align: right;\n",
       "    }\n",
       "</style>\n",
       "<table border=\"1\" class=\"dataframe\">\n",
       "  <thead>\n",
       "    <tr style=\"text-align: right;\">\n",
       "      <th></th>\n",
       "      <th>age</th>\n",
       "      <th>date</th>\n",
       "      <th>excuse</th>\n",
       "      <th>story</th>\n",
       "      <th>district</th>\n",
       "      <th>city</th>\n",
       "      <th>perp_cat</th>\n",
       "    </tr>\n",
       "  </thead>\n",
       "  <tbody>\n",
       "    <tr>\n",
       "      <th>0</th>\n",
       "      <td>18.0</td>\n",
       "      <td>31/12/2017</td>\n",
       "      <td>Bilinmiyor</td>\n",
       "      <td>Erhan M. adlı kişi, sevgilisi Buket Şişek'i 5....</td>\n",
       "      <td>Esenyurt</td>\n",
       "      <td>Istanbul</td>\n",
       "      <td>boyfriend</td>\n",
       "    </tr>\n",
       "    <tr>\n",
       "      <th>1</th>\n",
       "      <td>17.0</td>\n",
       "      <td>31/12/2017</td>\n",
       "      <td>Kadının ayrılma isteği</td>\n",
       "      <td>19 yaşındaki Furkan K., kendisinden ayrılmak i...</td>\n",
       "      <td>Ağlasun</td>\n",
       "      <td>Burdur</td>\n",
       "      <td>boyfriend</td>\n",
       "    </tr>\n",
       "    <tr>\n",
       "      <th>2</th>\n",
       "      <td>38.0</td>\n",
       "      <td>30/12/2017</td>\n",
       "      <td>Tartışma/ kavga</td>\n",
       "      <td>Tevfik K. adlı kişi, tartışma üzerine sevgilis...</td>\n",
       "      <td>Merkez</td>\n",
       "      <td>Bolu</td>\n",
       "      <td>boyfriend</td>\n",
       "    </tr>\n",
       "    <tr>\n",
       "      <th>3</th>\n",
       "      <td>53.0</td>\n",
       "      <td>27/12/2017</td>\n",
       "      <td>Kadının ayrılma isteği</td>\n",
       "      <td>Seyfali Akkoç adlı kişi, bir süredir kendisind...</td>\n",
       "      <td>Etimesgut</td>\n",
       "      <td>Ankara</td>\n",
       "      <td>boyfriend</td>\n",
       "    </tr>\n",
       "    <tr>\n",
       "      <th>4</th>\n",
       "      <td>22.0</td>\n",
       "      <td>25/12/2017</td>\n",
       "      <td>Aldatılma şüphesi</td>\n",
       "      <td>Şeyhmus İ. adlı kişi kendisini aldattığı iddia...</td>\n",
       "      <td>Yenişehir</td>\n",
       "      <td>Diyarbakır</td>\n",
       "      <td>partner</td>\n",
       "    </tr>\n",
       "    <tr>\n",
       "      <th>...</th>\n",
       "      <td>...</td>\n",
       "      <td>...</td>\n",
       "      <td>...</td>\n",
       "      <td>...</td>\n",
       "      <td>...</td>\n",
       "      <td>...</td>\n",
       "      <td>...</td>\n",
       "    </tr>\n",
       "    <tr>\n",
       "      <th>1959</th>\n",
       "      <td>24.0</td>\n",
       "      <td>14/01/2010</td>\n",
       "      <td>Erkeğin ayrılma isteğinin reddedilmesi</td>\n",
       "      <td>İddiaya göre Yunus F., eşinin kardeşinin karıs...</td>\n",
       "      <td>Mamak</td>\n",
       "      <td>Ankara</td>\n",
       "      <td>relative</td>\n",
       "    </tr>\n",
       "    <tr>\n",
       "      <th>1960</th>\n",
       "      <td>34.0</td>\n",
       "      <td>12/1/2010</td>\n",
       "      <td>Erkeğin reddedilmesi/ terk edilmesi</td>\n",
       "      <td>Cezaevindeki iyi hali nedeniyle Adana Adliyesi...</td>\n",
       "      <td>Seyhan</td>\n",
       "      <td>Adana</td>\n",
       "      <td>attacker</td>\n",
       "    </tr>\n",
       "    <tr>\n",
       "      <th>1961</th>\n",
       "      <td>57.0</td>\n",
       "      <td>12/1/2010</td>\n",
       "      <td>Bilinmiyor</td>\n",
       "      <td>48 yaşındaki Yusuf D., evine gelen ablası Alim...</td>\n",
       "      <td>Merkez</td>\n",
       "      <td>Kütahya</td>\n",
       "      <td>brother</td>\n",
       "    </tr>\n",
       "    <tr>\n",
       "      <th>1962</th>\n",
       "      <td>34.0</td>\n",
       "      <td>11/1/2010</td>\n",
       "      <td>Bilinmiyor</td>\n",
       "      <td>26 yaşındaki Uzman Onbaşı Harun Ceylan, sevgil...</td>\n",
       "      <td>Ceyhan</td>\n",
       "      <td>Adana</td>\n",
       "      <td>boyfriend</td>\n",
       "    </tr>\n",
       "    <tr>\n",
       "      <th>1963</th>\n",
       "      <td>NaN</td>\n",
       "      <td>3/1/2010</td>\n",
       "      <td>Aldatılma şüphesi</td>\n",
       "      <td>Habip Keklik adlı kişi, kendisini aldattığını ...</td>\n",
       "      <td>Adilcevaz</td>\n",
       "      <td>Bitlis</td>\n",
       "      <td>partner</td>\n",
       "    </tr>\n",
       "  </tbody>\n",
       "</table>\n",
       "<p>1964 rows × 7 columns</p>\n",
       "</div>"
      ],
      "text/plain": [
       "       age        date                                  excuse  \\\n",
       "0     18.0  31/12/2017                              Bilinmiyor   \n",
       "1     17.0  31/12/2017                  Kadının ayrılma isteği   \n",
       "2     38.0  30/12/2017                         Tartışma/ kavga   \n",
       "3     53.0  27/12/2017                  Kadının ayrılma isteği   \n",
       "4     22.0  25/12/2017                       Aldatılma şüphesi   \n",
       "...    ...         ...                                     ...   \n",
       "1959  24.0  14/01/2010  Erkeğin ayrılma isteğinin reddedilmesi   \n",
       "1960  34.0   12/1/2010     Erkeğin reddedilmesi/ terk edilmesi   \n",
       "1961  57.0   12/1/2010                              Bilinmiyor   \n",
       "1962  34.0   11/1/2010                              Bilinmiyor   \n",
       "1963   NaN    3/1/2010                       Aldatılma şüphesi   \n",
       "\n",
       "                                                  story   district  \\\n",
       "0     Erhan M. adlı kişi, sevgilisi Buket Şişek'i 5....   Esenyurt   \n",
       "1     19 yaşındaki Furkan K., kendisinden ayrılmak i...    Ağlasun   \n",
       "2     Tevfik K. adlı kişi, tartışma üzerine sevgilis...     Merkez   \n",
       "3     Seyfali Akkoç adlı kişi, bir süredir kendisind...  Etimesgut   \n",
       "4     Şeyhmus İ. adlı kişi kendisini aldattığı iddia...  Yenişehir   \n",
       "...                                                 ...        ...   \n",
       "1959  İddiaya göre Yunus F., eşinin kardeşinin karıs...      Mamak   \n",
       "1960  Cezaevindeki iyi hali nedeniyle Adana Adliyesi...     Seyhan   \n",
       "1961  48 yaşındaki Yusuf D., evine gelen ablası Alim...     Merkez   \n",
       "1962  26 yaşındaki Uzman Onbaşı Harun Ceylan, sevgil...     Ceyhan   \n",
       "1963  Habip Keklik adlı kişi, kendisini aldattığını ...  Adilcevaz   \n",
       "\n",
       "             city   perp_cat  \n",
       "0        Istanbul  boyfriend  \n",
       "1          Burdur  boyfriend  \n",
       "2            Bolu  boyfriend  \n",
       "3          Ankara  boyfriend  \n",
       "4      Diyarbakır    partner  \n",
       "...           ...        ...  \n",
       "1959       Ankara   relative  \n",
       "1960        Adana   attacker  \n",
       "1961      Kütahya    brother  \n",
       "1962        Adana  boyfriend  \n",
       "1963       Bitlis    partner  \n",
       "\n",
       "[1964 rows x 7 columns]"
      ]
     },
     "execution_count": 552,
     "metadata": {},
     "output_type": "execute_result"
    }
   ],
   "source": [
    "victims2.rename(columns={'perpetrator_en_new': 'perp_cat'})"
   ]
  },
  {
   "cell_type": "markdown",
   "metadata": {},
   "source": [
    "Decided to drop the stories altogether"
   ]
  },
  {
   "cell_type": "code",
   "execution_count": 553,
   "metadata": {},
   "outputs": [],
   "source": [
    "victims2= victims2.drop('story', axis=1)"
   ]
  },
  {
   "cell_type": "markdown",
   "metadata": {},
   "source": [
    "Translating the excuse"
   ]
  },
  {
   "cell_type": "code",
   "execution_count": 554,
   "metadata": {},
   "outputs": [],
   "source": [
    "#victims2['excuse'].unique()"
   ]
  },
  {
   "cell_type": "code",
   "execution_count": 555,
   "metadata": {},
   "outputs": [],
   "source": [
    "#from google_trans_new import google_translator  \n",
    "#translator = google_translator()  \n",
    "#translations = {}\n",
    "#for column in victims2.columns:\n",
    "    # unique elements of the column\n",
    " #   unique_elements = victims2[column].unique()\n",
    "  #  for element in unique_elements:\n",
    "        # add translation to the dictionary\n",
    "         #time.sleep(10)\n",
    "      #  translations[element] = translator.translate(element)\n",
    "    \n",
    "#print(translations[5])"
   ]
  },
  {
   "cell_type": "markdown",
   "metadata": {},
   "source": [
    "Getting a too many requests error from google translate API, translating the excuse with a simple map"
   ]
  },
  {
   "cell_type": "code",
   "execution_count": 556,
   "metadata": {},
   "outputs": [],
   "source": [
    "translations_excuses= {\n",
    "        'Bilinmiyor':'Unknown',\n",
    "'Kadının ayrılma isteği':'The womans desire to leave',\n",
    "'Tartışma/ kavga':' Argument / fight',\n",
    "'Aldatılma şüphesi':'Suspicion of being deceived',\n",
    "'Erkeğin barışma isteğinin reddedilmesi':'Refusing the mans request for reconciliation',\n",
    "'Maddi kaynaklı':'Financially sourced',\n",
    "'Diğer, Erkeğin \"erkekliği\"':'Other, the man s manhood',\n",
    "'Diğer, Psikolojik sorun':'Other Psychological problem',\n",
    "'Erkeğin reddedilmesi/ terk edilmesi':'The rejection / abandonment of the man',\n",
    "'Kaza iddiası':'Accident claim',\n",
    "'Dolaylı':'Indirect',\n",
    "'Kadının karar ve tercihlerine ilişkin, Kadının seks işçiliğine karşı direnmesi':'Regarding the decisions and preferences of women womens resistance to sex work',\n",
    "'Kadının boşanma isteği':'The womans desire for divorce',\n",
    "'Namus/ töre':'Honor',\n",
    "'Kadının karar ve tercihlerine ilişkin, Kadının dedikodu yapması':'The womans gossip about the womans decisions and preferences',\n",
    "'Kıskançlık':'Jealousy',\n",
    "'Cinsel saldırı':'Sexual assault',\n",
    "'Diğer, Başka bir olaydan kadını sorumlu tutma':'Other holding a woman responsible for another incident',\n",
    "'Kadının karar ve tercihlerine ilişkin, Kadının hakaret etmesi':'Regarding the womans decisions and preferences the womans insulting',\n",
    "'Kadının karar ve tercihlerine ilişkin, Kadının erkekten içki içmemesini istemesi':'Regarding the womans decisions and preferences the womans asking the man not to drink alcohol',\n",
    "'Kadının karar ve tercihlerine ilişkin, Kadının sosyal medya hesabı':'Womens social media account regarding the decisions and preferences of the woman',\n",
    "'Diğer, Yönlendirme':'Other Routing',\n",
    "'Çocuk/ velayet kaynaklı':'Child / custody sourced',\n",
    "'Kadının karar ve tercihlerine ilişkin, Kadının erkeğin ilişkisini onaylamaması':'Regarding the womans decisions and preferences the womans disapproval of the mans relationship',\n",
    "'Kadının karar ve tercihlerine ilişkin, Kadının evden ayrılmak istemesi':'Regarding the womans decisions and preferences the womans willingness to leave the house',\n",
    "'Hırsızlık':'Theft',\n",
    "'Erkeğin hizmet beklentisi, Kadının yemeğe salça koyması':'Male service expectation Woman putting tomato paste in food',\n",
    "'Erkeğin ayrılma isteğinin reddedilmesi':'Refusal of a mans request to leave',\n",
    "'Kadının karar ve tercihlerine ilişkin, Erkeğin kadının işini onaylamaması':'Regarding the womans decisions and preferences the mans disapproval of the womans job',\n",
    "'Kadının karar ve tercihlerine ilişkin, Erkeğin kadının ilişkisini onaylamaması':'Regarding the womans decisions and preferences the mans disapproval of the womans relationship',\n",
    "'Kadının karar ve tercihlerine ilişkin, Kadının erkeğin tacizini ifşa etmesi':'Regarding the decisions and preferences of the woman the womans disclosure of the harassment of the man',\n",
    "'Diğer, Erkeğe vahiy gelmesi':'The other is the coming of revelation to the man',\n",
    "'Diğer, Erkeğe cinayeti cinlerin söylemesi':'Other the murder of the man is told by the jinn',\n",
    "'Cinsiyet kimliği':'Gender identity',\n",
    "'Kadının karar ve tercihlerine ilişkin, Kadının telefon şifresini söylememesi':'Regarding the womans decisions and preferences the womans not saying her phone password',\n",
    "'Kadının karar ve tercihlerine ilişkin, Kadının abisinde kalması':'Regarding the decisions and preferences of the woman the woman should remain in her brother',\n",
    "'Diğer, Erkeğin sinirlerine hakim olamaması':'The other is that the man cannot control his nerves',\n",
    "'Diğer, Erkeğin uyuşturucunun etkisine girmesi':'The other is that the man is under the influence of drugs',\n",
    "'Kadının karar ve tercihlerine ilişkin, Kadının ailesinde kalmak istemesi':'Regarding the womans decisions and preferences the womans willingness to stay in her family',\n",
    "'Diğer, Erkeğin cinayetle suçlanması':'The other is that the man is accused of murder',\n",
    "'Kadının karar ve tercihlerine ilişkin, Kadının kardeşini koruması':'Regarding the womans decisions and preferences Womans protection of her brother',\n",
    "'Diğer, Kadının uykusunda erkeğe saldırması':'Other a woman attacking a man in her sleep',\n",
    "'Kadının karar ve tercihlerine ilişkin, Kadının telefonda çok konuşması':'Women talking a lot on the phone regarding the decisions and preferences of the woman',\n",
    "'Kadının karar ve tercihlerine ilişkin, Kadının erkeği şikayet etmesi':'Regarding the womans decisions and preferences Womans complaint against the man',\n",
    "'Kadının karar ve tercihlerine ilişkin, Kadının boşandığı eşine dönmesi':'Regarding the womans decisions and preferences the womans return to her divorced spouse',\n",
    "'Kadının karar ve tercihlerine ilişkin, Kadının sık sevgili değiştirmesi':'Regarding the womans decisions and preferences the womans frequent change of lovers',\n",
    "'Kadının karar ve tercihlerine ilişkin, Kadının geç saatlere kadar gezmesi':'Regarding the womans decisions and preferences Womans traveling until late hours',\n",
    "'Diğer, Erkeğin bunalması':'Other the man is overwhelmed',\n",
    "'Kadının karar ve tercihlerine ilişkin, Kadının erkeği rezil edeceğini söylemesi':'Regarding the womans decisions and preferences the womans saying that she will disgrace the man',\n",
    "'Diğer, Erkeğin gürültüden rahatsız olması':'The other is that the man is disturbed by the noise',\n",
    "'Kadının karar ve tercihlerine ilişkin, Kadının yurttan kaçması':'Regarding the womans decisions and preferences Womans escape from the dormitory',\n",
    "'Diğer, Erkeğin söylediği yalanın ortaya çıkması':'The other is the disclosure of the lie that the man told',\n",
    "'Erkeğin hizmet beklentisi, Kadının su vermemesi':'Male service expectation Woman not giving water',\n",
    "'Kadının karar ve tercihlerine ilişkin, Kadının kızına aldığı elbisenin etek boyu':'Regarding the decisions and preferences of the woman the skirt length of the dress the woman bought for her daughter',\n",
    "'Diğer, Kadının telefonuna mesaj gelmesi':'Other a message on the womans phone',\n",
    "'Erkeğin hizmet beklentisi, Kadının erkeğin derdini dinlememesi':'Male service expectation Woman not listening to mans troubles',\n",
    "'Diğer, Cinsiyet':'Other Gender',\n",
    "'Erkeğin hizmet beklentisi, Kadının yemek hazırlamaması':'Male service expectation Woman not preparing food',\n",
    "'Kadının karar ve tercihlerine ilişkin, Kadının saçını kızıla boyatması':'Regarding the womans decisions and preferences the woman dying her hair red',\n",
    "'Kadının karar ve tercihlerine ilişkin, Kadının yaptırdığı dövme':'A tattoo made by the woman regarding the decisions and preferences of the woman',\n",
    "'Erkeğin hizmet beklentisi, Kadının çamaşır yıkamaması':'Male service expectation Woman not washing clothes',\n",
    "'Erkeğin hizmet beklentisi, Kadının erkeğin annesini seyrek ziyaret etmesi':'Male service expectation Womans frequent visits to her mother',\n",
    "'Kadının karar ve tercihlerine ilişkin, Kadının gülmesi':'Regarding the decisions and preferences of the woman the laugh of the woman',\n",
    "'Kadının karar ve tercihlerine ilişkin, Kadının ülkesine dönme isteği':'Regarding the decisions and preferences of the woman the desire of the woman to return to her country',\n",
    "'Diğer, Erkeğin kuma getirme isteğinin reddedilmesi':'Other refusal of the mans request to bring it to the sand',\n",
    "'Diğer, Erkeğe evliliğin zor gelmesi':'Other it is difficult to get married to a man',\n",
    "'Diğer, Kadının evlenme isteği':'Other the womans desire to marry',\n",
    "'Kadının karar ve tercihlerine ilişkin, Kadının akrabalarıyla görüşmesi':'The womans meeting with her relatives regarding the womans decisions and preferences',\n",
    "'Kadının karar ve tercihlerine ilişkin, Kadının erkeğin kardeşine yardım etmesi':'Regarding the womans decisions and preferences the woman helping the mans brother',\n",
    "'Erkeğin hizmet beklentisi, Kadının erkek çocuk doğurmaması':'Male service expectation Woman not giving birth to male children',\n",
    "'Kadının karar ve tercihlerine ilişkin, Kadının nafaka talebi':'Regarding the womans decisions and preferences the womans alimony request',\n",
    "'Erkeğin hizmet beklentisi, Kadının erkeğe ilgi göstermemesi':'Male service expectation Woman not showing interest in men',\n",
    "'Kadının karar ve tercihlerine ilişkin, Kadının otomobil istemesi':'Regarding the womans decisions and preferences the womans request for a car',\n",
    "'Kadının karar ve tercihlerine ilişkin, Kadının elbise istemesi':'Regarding the womans decisions and preferences the womans request for a dress',\n",
    "'Kadının karar ve tercihlerine ilişkin, Kadının çocuğu dövmesi':'Regarding the womans decisions and preferences Womans tattooing the child',\n",
    "'Diğer, Kan davası':'Other Blood feud',\n",
    "'Diğer, Erkeğin gıcık olması':'The other is that the man is annoyed',\n",
    "'Kadının karar ve tercihlerine ilişkin, Kadının aleyhte tanıklık yapması':'The womans testimony against the womans decisions and preferences',\n",
    "'Kadının karar ve tercihlerine ilişkin, Kadının eve geç gelmesi':'Regarding the womans decisions and preferences Woman coming home late',\n",
    "'Erkeğin hizmet beklentisi, Kadının patates köfte yapmaması':'Male service expectation Woman not making potato meatballs',\n",
    "'Diğer, Sebepsiz':'Other No Reason',\n",
    "'Kadının karar ve tercihlerine ilişkin, Kadının küsmesi':'Regarding the decisions and preferences of the woman Woman being offended',\n",
    "'Kadının karar ve tercihlerine ilişkin, Kadının yazlık ev istemesi':'Regarding the womans decisions and preferences the womans request for a summer house',\n",
    "'Erkeğin hizmet beklentisi, Kadının çocuk sahibi olmaması':'Male service expectation Woman not having children',\n",
    "'Erkeğin hizmet beklentisi, Kadının erkeğe iyi bakmaması':'Male service expectation Woman not taking good care of men',\n",
    "'Erkeğin hizmet beklentisi, Kadının evi kirletmesi':'Male service expectation Woman polluting the house',\n",
    "'Erkeğin boşanma isteğinin reddedilmesi':'The rejection of a mans divorce request',\n",
    "'Kadının karar ve tercihlerine ilişkin, Kadının aracı yanlış yönlendirmesi':'Woman misleads the tool regarding the decisions and preferences of the woman',\n",
    "'Diğer, Çocuğun yemek yememesi':'Other If the child does not eat',\n",
    "'Erkeğin hizmet beklentisi, Kadının tuzluğu uzatmaması':'Male service expectation Woman not extending the salt shaker',\n",
    "'Erkeğin kadının işini onaylamaması':'The man does not approve of the womans job',\n",
    "'Erkeğin hizmet beklentisi, Kadının yemeği geç hazırlaması':'Male service expectation Woman preparing dinner late',\n",
    "'Erkeğin hizmet beklentisi, Kadının ev işlerini yapmaması':'Male service expectation Woman not doing housework',\n",
    "'Erkeğin hizmet beklentisi, Kadının sabah erkeği uyandırmaması':'Male service expectation Woman not waking up the man in the morning',\n",
    "'Kadının karar ve tercihlerine ilişkin, Kadının yeni elbise alması':'Regarding the womans decisions and preferences the womans buying new clothes',\n",
    "'Kadının karar ve tercihlerine ilişkin, Kadının başörtüsü takmak istememesi':'Regarding the womans decisions and preferences the woman does not want to wear a headscarf',\n",
    "'Erkeğin hizmet beklentisi, Kadının koyunları otlatmaması':'Male service expectation woman not grazing sheep',\n",
    "'Kadının karar ve tercihlerine ilişkin, Kadının oğlunda kalma isteği':'Regarding the womans decisions and preferences the womans desire to stay with her son',\n",
    " }\n",
    "\n",
    "victims2['excuse_en'] = victims2['excuse'].replace(translations_excuses)"
   ]
  },
  {
   "cell_type": "code",
   "execution_count": 557,
   "metadata": {},
   "outputs": [
    {
     "data": {
      "text/plain": [
       "98"
      ]
     },
     "execution_count": 557,
     "metadata": {},
     "output_type": "execute_result"
    }
   ],
   "source": [
    "len(victims2['excuse_en'].unique())"
   ]
  },
  {
   "cell_type": "markdown",
   "metadata": {},
   "source": [
    "# Remapping\n",
    "After translations, I have realized there are too many categories for the excuses given for the femicides. I will cluster them in fewer buckets.\n",
    "\n",
    "The main categories of excuses seem to be:\n",
    "- Unknown\n",
    "- Psychological issue\n",
    "- Money Problems\n",
    "- Woman quest for freedom (i.e. leaving the household, asking for divorce, etc.)\n",
    "- Indirect\n",
    "- Household expectations (i.e. not waking up the man, preparing dinner late, \n",
    "- Body expectations (i.e. not having children, "
   ]
  },
  {
   "cell_type": "code",
   "execution_count": 558,
   "metadata": {},
   "outputs": [],
   "source": [
    "remapping_excuses = {\n",
    "        'Children':['Child / custody sourced',\n",
    "                    'Other If the child does not eat',\n",
    "                    'Regarding the womans decisions and preferences the womans desire to stay with her son'],\n",
    "        'Fight':['Other holding a woman responsible for another incident'],\n",
    "        'Household service expectations':['Male service expectation Woman putting tomato paste in food',\n",
    "                                          'Male service expectation Woman not giving water',\n",
    "                                          'Male service expectation Woman not preparing food',\n",
    "                                          'Male service expectation',\n",
    "                                          'Woman not washing clothes',\n",
    "                                          'Male service expectation Woman not extending the salt shaker',\n",
    "                                          'Male service expectation Woman preparing dinner late',\n",
    "                                          'Male service expectation Woman not doing housework',\n",
    "                                          'Male service expectation Woman not waking up the man in the morning',\n",
    "                                         'Male service expectation woman not grazing sheep',\n",
    "                                         'Male service expectation Woman not making potato meatballs',\n",
    "                                         'Male service expectation Woman not washing clothes'],\n",
    "        'Male service expectations':['Male service expectation Woman not listening to mans troubles',\n",
    "                                     'Male service expectation Womans frequent visits to her mother',\n",
    "                                     'Male service expectation Woman not giving birth to male children',\n",
    "                                     'Male service expectation Woman not showing interest in men',\n",
    "                                     'Male service expectation Woman not having children',\n",
    "                                     'Male service expectation Woman polluting the house',\n",
    "                                     'The man does not approve of the womans job',\n",
    "                                    'The other is that the man is annoyed'],\n",
    "        'Masculinity&Honor':['Other, the man s manhood',\n",
    "                             'Honor',\n",
    "                             'Jealousy',\n",
    "                             'Refusal of a mans request to leave',\n",
    "                             'Other the man is overwhelmed',\n",
    "                             'Other a message on the womans phone',\n",
    "                             'Male service expectation Woman not taking good care of men',\n",
    "                            'The other is that the man cannot control his nerves'],\n",
    "        'Other':[' Argument / fight','Financially sourced',\n",
    "                 'Other Psychological problem',\n",
    "                 'Accident claim',\n",
    "                 'Other Routing',\n",
    "                 'The other is the coming of revelation to the man',\n",
    "                 'The other is that the man is under the influence of drugs',\n",
    "                 'The other is that the man is accused of murder',\n",
    "                 'The other is that the man is disturbed by the noise',\n",
    "                 'The other is the disclosure of the lie that the man told',\n",
    "                'Other Gender',\n",
    "                 'Other refusal of the mans request to bring it to the sand',\n",
    "                 'Other it is difficult to get married to a man',\n",
    "                 'Other Blood feud',\n",
    "                 'Other No Reason','Theft','Indirect'],\n",
    "        'Separation & Jealousy':['Refusing the mans request for reconciliation',\n",
    "                                 'The womans desire to leave',\n",
    "                                 'Suspicion of being deceived',\n",
    "                                 'The rejection / abandonment of the man',\n",
    "                                 'Regarding the womans decisions and preferences the womans disapproval of the mans relationship',\n",
    "                                 'Regarding the womans decisions and preferences the womans return to her divorced spouse',\n",
    "                                 'The rejection of a mans divorce request',\n",
    "                                'The womans desire for divorce',\n",
    "                                'Regarding the womans decisions and preferences the womans willingness to leave the house'],\n",
    "        'Sexual expectation':['Regarding the decisions and preferences of women womens resistance to sex work',\n",
    "                              'Sexual assault',\n",
    "                              'Other a woman attacking a man in her sleep'],\n",
    "        'Unknown':['Unknown'],\n",
    "        'Woman Decision and Preferences':['The womans gossip about the womans decisions and preferences',\n",
    "                                        'Regarding the womans decisions and preferences the womans insulting',\n",
    "                                        'Regarding the womans decisions and preferences the womans asking the man not to drink alcohol',\n",
    "                                        'Womens social media account regarding the decisions and preferences of the woman',\n",
    "                                        'Regarding the womans decisions and preferences the mans disapproval of the womans job',\n",
    "                                        'Regarding the womans decisions and preferences the mans disapproval of the womans relationship',\n",
    "                                        'Regarding the decisions and preferences of the woman the womans disclosure of the harassment of the man',\n",
    "                                        'Other the murder of the man is told by the jinn',\n",
    "                                        'Gender identity',\n",
    "                                        'Regarding the womans decisions and preferences the womans not saying her phone password',\n",
    "                                        'Regarding the decisions and preferences of the woman the woman should remain in her brother',\n",
    "                                        'Regarding the womans decisions and preferences the womans willingness to stay in her family',\n",
    "                                        'Regarding the womans decisions and preferences Womans protection of her brother',\n",
    "                                        'Women talking a lot on the phone regarding the decisions and preferences of the woman',\n",
    "                                        'Regarding the womans decisions and preferences Womans complaint against the man',\n",
    "                                        'Regarding the womans decisions and preferences the womans frequent change of lovers',\n",
    "                                        'Regarding the womans decisions and preferences Womans traveling until late hours',\n",
    "                                        'Regarding the womans decisions and preferences the womans saying that she will disgrace the man',\n",
    "                                        'Regarding the womans decisions and preferences Womans escape from the dormitory',\n",
    "                                        'Regarding the decisions and preferences of the woman the skirt length of the dress the woman bought for her daughter',\n",
    "                                        'Regarding the womans decisions and preferences the woman dying her hair red',\n",
    "                                        'A tattoo made by the woman regarding the decisions and preferences of the woman',\n",
    "                                        'Regarding the decisions and preferences of the woman the laugh of the woman',\n",
    "                                        'Regarding the decisions and preferences of the woman the desire of the woman to return to her country',\n",
    "                                        'Other the womans desire to marry',\n",
    "                                        'The womans meeting with her relatives regarding the womans decisions and preferences',\n",
    "                                        'Regarding the womans decisions and preferences the woman helping the mans brother',\n",
    "                                        'Regarding the womans decisions and preferences the womans alimony request',\n",
    "                                        'Regarding the womans decisions and preferences the womans request for a car',\n",
    "                                        'Regarding the womans decisions and preferences the womans request for a dress',\n",
    "                                        'Regarding the womans decisions and preferences Womans tattooing the child',\n",
    "                                        'The womans testimony against the womans decisions and preferences',\n",
    "                                        'Regarding the womans decisions and preferences Woman coming home late',\n",
    "                                        'Regarding the decisions and preferences of the woman Woman being offended',\n",
    "                                        'Regarding the womans decisions and preferences the womans request for a summer house',\n",
    "                                        'Woman misleads the tool regarding the decisions and preferences of the woman',\n",
    "                                        'Regarding the womans decisions and preferences the womans buying new clothes',\n",
    "                                        'Regarding the womans decisions and preferences the woman does not want to wear a headscarf']\n",
    "    }\n",
    "victims2['excuses_cat'] = victims2['excuse_en'].map(lambda x: next((k for k, v in remapping_excuses.items() if x in v), None))"
   ]
  },
  {
   "cell_type": "markdown",
   "metadata": {},
   "source": [
    "Dropping old excuses column"
   ]
  },
  {
   "cell_type": "code",
   "execution_count": 559,
   "metadata": {},
   "outputs": [],
   "source": [
    "victims2 = victims2.drop('excuse', axis=1)"
   ]
  },
  {
   "cell_type": "code",
   "execution_count": 560,
   "metadata": {},
   "outputs": [],
   "source": [
    "victims2 = victims2.drop('excuse_en', axis=1)"
   ]
  },
  {
   "cell_type": "code",
   "execution_count": 561,
   "metadata": {},
   "outputs": [
    {
     "data": {
      "text/html": [
       "<div>\n",
       "<style scoped>\n",
       "    .dataframe tbody tr th:only-of-type {\n",
       "        vertical-align: middle;\n",
       "    }\n",
       "\n",
       "    .dataframe tbody tr th {\n",
       "        vertical-align: top;\n",
       "    }\n",
       "\n",
       "    .dataframe thead th {\n",
       "        text-align: right;\n",
       "    }\n",
       "</style>\n",
       "<table border=\"1\" class=\"dataframe\">\n",
       "  <thead>\n",
       "    <tr style=\"text-align: right;\">\n",
       "      <th></th>\n",
       "      <th>age</th>\n",
       "      <th>date</th>\n",
       "      <th>district</th>\n",
       "      <th>city</th>\n",
       "      <th>perpetrator_en_new</th>\n",
       "      <th>excuses_cat</th>\n",
       "    </tr>\n",
       "  </thead>\n",
       "  <tbody>\n",
       "    <tr>\n",
       "      <th>0</th>\n",
       "      <td>18.0</td>\n",
       "      <td>31/12/2017</td>\n",
       "      <td>Esenyurt</td>\n",
       "      <td>Istanbul</td>\n",
       "      <td>boyfriend</td>\n",
       "      <td>Unknown</td>\n",
       "    </tr>\n",
       "    <tr>\n",
       "      <th>1</th>\n",
       "      <td>17.0</td>\n",
       "      <td>31/12/2017</td>\n",
       "      <td>Ağlasun</td>\n",
       "      <td>Burdur</td>\n",
       "      <td>boyfriend</td>\n",
       "      <td>Separation &amp; Jealousy</td>\n",
       "    </tr>\n",
       "    <tr>\n",
       "      <th>2</th>\n",
       "      <td>38.0</td>\n",
       "      <td>30/12/2017</td>\n",
       "      <td>Merkez</td>\n",
       "      <td>Bolu</td>\n",
       "      <td>boyfriend</td>\n",
       "      <td>Other</td>\n",
       "    </tr>\n",
       "    <tr>\n",
       "      <th>3</th>\n",
       "      <td>53.0</td>\n",
       "      <td>27/12/2017</td>\n",
       "      <td>Etimesgut</td>\n",
       "      <td>Ankara</td>\n",
       "      <td>boyfriend</td>\n",
       "      <td>Separation &amp; Jealousy</td>\n",
       "    </tr>\n",
       "    <tr>\n",
       "      <th>4</th>\n",
       "      <td>22.0</td>\n",
       "      <td>25/12/2017</td>\n",
       "      <td>Yenişehir</td>\n",
       "      <td>Diyarbakır</td>\n",
       "      <td>partner</td>\n",
       "      <td>Separation &amp; Jealousy</td>\n",
       "    </tr>\n",
       "    <tr>\n",
       "      <th>...</th>\n",
       "      <td>...</td>\n",
       "      <td>...</td>\n",
       "      <td>...</td>\n",
       "      <td>...</td>\n",
       "      <td>...</td>\n",
       "      <td>...</td>\n",
       "    </tr>\n",
       "    <tr>\n",
       "      <th>1959</th>\n",
       "      <td>24.0</td>\n",
       "      <td>14/01/2010</td>\n",
       "      <td>Mamak</td>\n",
       "      <td>Ankara</td>\n",
       "      <td>relative</td>\n",
       "      <td>Masculinity&amp;Honor</td>\n",
       "    </tr>\n",
       "    <tr>\n",
       "      <th>1960</th>\n",
       "      <td>34.0</td>\n",
       "      <td>12/1/2010</td>\n",
       "      <td>Seyhan</td>\n",
       "      <td>Adana</td>\n",
       "      <td>attacker</td>\n",
       "      <td>Separation &amp; Jealousy</td>\n",
       "    </tr>\n",
       "    <tr>\n",
       "      <th>1961</th>\n",
       "      <td>57.0</td>\n",
       "      <td>12/1/2010</td>\n",
       "      <td>Merkez</td>\n",
       "      <td>Kütahya</td>\n",
       "      <td>brother</td>\n",
       "      <td>Unknown</td>\n",
       "    </tr>\n",
       "    <tr>\n",
       "      <th>1962</th>\n",
       "      <td>34.0</td>\n",
       "      <td>11/1/2010</td>\n",
       "      <td>Ceyhan</td>\n",
       "      <td>Adana</td>\n",
       "      <td>boyfriend</td>\n",
       "      <td>Unknown</td>\n",
       "    </tr>\n",
       "    <tr>\n",
       "      <th>1963</th>\n",
       "      <td>NaN</td>\n",
       "      <td>3/1/2010</td>\n",
       "      <td>Adilcevaz</td>\n",
       "      <td>Bitlis</td>\n",
       "      <td>partner</td>\n",
       "      <td>Separation &amp; Jealousy</td>\n",
       "    </tr>\n",
       "  </tbody>\n",
       "</table>\n",
       "<p>1964 rows × 6 columns</p>\n",
       "</div>"
      ],
      "text/plain": [
       "       age        date   district         city perpetrator_en_new  \\\n",
       "0     18.0  31/12/2017   Esenyurt     Istanbul          boyfriend   \n",
       "1     17.0  31/12/2017    Ağlasun       Burdur          boyfriend   \n",
       "2     38.0  30/12/2017     Merkez         Bolu          boyfriend   \n",
       "3     53.0  27/12/2017  Etimesgut       Ankara          boyfriend   \n",
       "4     22.0  25/12/2017  Yenişehir   Diyarbakır            partner   \n",
       "...    ...         ...        ...          ...                ...   \n",
       "1959  24.0  14/01/2010      Mamak       Ankara           relative   \n",
       "1960  34.0   12/1/2010     Seyhan        Adana           attacker   \n",
       "1961  57.0   12/1/2010     Merkez      Kütahya            brother   \n",
       "1962  34.0   11/1/2010     Ceyhan        Adana          boyfriend   \n",
       "1963   NaN    3/1/2010  Adilcevaz       Bitlis            partner   \n",
       "\n",
       "                excuses_cat  \n",
       "0                   Unknown  \n",
       "1     Separation & Jealousy  \n",
       "2                     Other  \n",
       "3     Separation & Jealousy  \n",
       "4     Separation & Jealousy  \n",
       "...                     ...  \n",
       "1959      Masculinity&Honor  \n",
       "1960  Separation & Jealousy  \n",
       "1961                Unknown  \n",
       "1962                Unknown  \n",
       "1963  Separation & Jealousy  \n",
       "\n",
       "[1964 rows x 6 columns]"
      ]
     },
     "execution_count": 561,
     "metadata": {},
     "output_type": "execute_result"
    }
   ],
   "source": [
    "victims2"
   ]
  },
  {
   "cell_type": "markdown",
   "metadata": {},
   "source": [
    "## Export Cleaned Files"
   ]
  },
  {
   "cell_type": "code",
   "execution_count": 563,
   "metadata": {},
   "outputs": [],
   "source": [
    "victims2.to_csv('victims_cleaned.csv')"
   ]
  },
  {
   "cell_type": "code",
   "execution_count": 564,
   "metadata": {},
   "outputs": [],
   "source": [
    "regions_info .to_csv('regions_info.csv')"
   ]
  }
 ],
 "metadata": {
  "kernelspec": {
   "display_name": "Python 3",
   "language": "python",
   "name": "python3"
  },
  "language_info": {
   "codemirror_mode": {
    "name": "ipython",
    "version": 3
   },
   "file_extension": ".py",
   "mimetype": "text/x-python",
   "name": "python",
   "nbconvert_exporter": "python",
   "pygments_lexer": "ipython3",
   "version": "3.8.5"
  }
 },
 "nbformat": 4,
 "nbformat_minor": 4
}
